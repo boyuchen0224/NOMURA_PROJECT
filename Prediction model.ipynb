{
 "cells": [
  {
   "cell_type": "code",
   "execution_count": 1,
   "metadata": {},
   "outputs": [],
   "source": [
    "import numpy as np\n",
    "import pandas as pd\n",
    "import matplotlib.pyplot as plt"
   ]
  },
  {
   "cell_type": "code",
   "execution_count": 2,
   "metadata": {},
   "outputs": [
    {
     "name": "stderr",
     "output_type": "stream",
     "text": [
      "Using TensorFlow backend.\n",
      "C:\\Users\\ASUS\\Anaconda3\\lib\\site-packages\\tensorflow\\python\\framework\\dtypes.py:516: FutureWarning: Passing (type, 1) or '1type' as a synonym of type is deprecated; in a future version of numpy, it will be understood as (type, (1,)) / '(1,)type'.\n",
      "  _np_qint8 = np.dtype([(\"qint8\", np.int8, 1)])\n",
      "C:\\Users\\ASUS\\Anaconda3\\lib\\site-packages\\tensorflow\\python\\framework\\dtypes.py:517: FutureWarning: Passing (type, 1) or '1type' as a synonym of type is deprecated; in a future version of numpy, it will be understood as (type, (1,)) / '(1,)type'.\n",
      "  _np_quint8 = np.dtype([(\"quint8\", np.uint8, 1)])\n",
      "C:\\Users\\ASUS\\Anaconda3\\lib\\site-packages\\tensorflow\\python\\framework\\dtypes.py:518: FutureWarning: Passing (type, 1) or '1type' as a synonym of type is deprecated; in a future version of numpy, it will be understood as (type, (1,)) / '(1,)type'.\n",
      "  _np_qint16 = np.dtype([(\"qint16\", np.int16, 1)])\n",
      "C:\\Users\\ASUS\\Anaconda3\\lib\\site-packages\\tensorflow\\python\\framework\\dtypes.py:519: FutureWarning: Passing (type, 1) or '1type' as a synonym of type is deprecated; in a future version of numpy, it will be understood as (type, (1,)) / '(1,)type'.\n",
      "  _np_quint16 = np.dtype([(\"quint16\", np.uint16, 1)])\n",
      "C:\\Users\\ASUS\\Anaconda3\\lib\\site-packages\\tensorflow\\python\\framework\\dtypes.py:520: FutureWarning: Passing (type, 1) or '1type' as a synonym of type is deprecated; in a future version of numpy, it will be understood as (type, (1,)) / '(1,)type'.\n",
      "  _np_qint32 = np.dtype([(\"qint32\", np.int32, 1)])\n",
      "C:\\Users\\ASUS\\Anaconda3\\lib\\site-packages\\tensorflow\\python\\framework\\dtypes.py:525: FutureWarning: Passing (type, 1) or '1type' as a synonym of type is deprecated; in a future version of numpy, it will be understood as (type, (1,)) / '(1,)type'.\n",
      "  np_resource = np.dtype([(\"resource\", np.ubyte, 1)])\n",
      "C:\\Users\\ASUS\\Anaconda3\\lib\\site-packages\\tensorboard\\compat\\tensorflow_stub\\dtypes.py:541: FutureWarning: Passing (type, 1) or '1type' as a synonym of type is deprecated; in a future version of numpy, it will be understood as (type, (1,)) / '(1,)type'.\n",
      "  _np_qint8 = np.dtype([(\"qint8\", np.int8, 1)])\n",
      "C:\\Users\\ASUS\\Anaconda3\\lib\\site-packages\\tensorboard\\compat\\tensorflow_stub\\dtypes.py:542: FutureWarning: Passing (type, 1) or '1type' as a synonym of type is deprecated; in a future version of numpy, it will be understood as (type, (1,)) / '(1,)type'.\n",
      "  _np_quint8 = np.dtype([(\"quint8\", np.uint8, 1)])\n",
      "C:\\Users\\ASUS\\Anaconda3\\lib\\site-packages\\tensorboard\\compat\\tensorflow_stub\\dtypes.py:543: FutureWarning: Passing (type, 1) or '1type' as a synonym of type is deprecated; in a future version of numpy, it will be understood as (type, (1,)) / '(1,)type'.\n",
      "  _np_qint16 = np.dtype([(\"qint16\", np.int16, 1)])\n",
      "C:\\Users\\ASUS\\Anaconda3\\lib\\site-packages\\tensorboard\\compat\\tensorflow_stub\\dtypes.py:544: FutureWarning: Passing (type, 1) or '1type' as a synonym of type is deprecated; in a future version of numpy, it will be understood as (type, (1,)) / '(1,)type'.\n",
      "  _np_quint16 = np.dtype([(\"quint16\", np.uint16, 1)])\n",
      "C:\\Users\\ASUS\\Anaconda3\\lib\\site-packages\\tensorboard\\compat\\tensorflow_stub\\dtypes.py:545: FutureWarning: Passing (type, 1) or '1type' as a synonym of type is deprecated; in a future version of numpy, it will be understood as (type, (1,)) / '(1,)type'.\n",
      "  _np_qint32 = np.dtype([(\"qint32\", np.int32, 1)])\n",
      "C:\\Users\\ASUS\\Anaconda3\\lib\\site-packages\\tensorboard\\compat\\tensorflow_stub\\dtypes.py:550: FutureWarning: Passing (type, 1) or '1type' as a synonym of type is deprecated; in a future version of numpy, it will be understood as (type, (1,)) / '(1,)type'.\n",
      "  np_resource = np.dtype([(\"resource\", np.ubyte, 1)])\n"
     ]
    }
   ],
   "source": [
    "import keras as keras\n",
    "from keras import models\n",
    "from keras import layers"
   ]
  },
  {
   "cell_type": "code",
   "execution_count": 3,
   "metadata": {},
   "outputs": [],
   "source": [
    "date = pd.read_csv(\"Training data_2.csv\",usecols = [\"Date\"])"
   ]
  },
  {
   "cell_type": "code",
   "execution_count": 4,
   "metadata": {},
   "outputs": [],
   "source": [
    "data = pd.read_csv(\"Training data_2.csv\", index_col = \"Date\")"
   ]
  },
  {
   "cell_type": "code",
   "execution_count": 5,
   "metadata": {},
   "outputs": [
    {
     "data": {
      "text/html": [
       "<div>\n",
       "<style scoped>\n",
       "    .dataframe tbody tr th:only-of-type {\n",
       "        vertical-align: middle;\n",
       "    }\n",
       "\n",
       "    .dataframe tbody tr th {\n",
       "        vertical-align: top;\n",
       "    }\n",
       "\n",
       "    .dataframe thead th {\n",
       "        text-align: right;\n",
       "    }\n",
       "</style>\n",
       "<table border=\"1\" class=\"dataframe\">\n",
       "  <thead>\n",
       "    <tr style=\"text-align: right;\">\n",
       "      <th></th>\n",
       "      <th>Price</th>\n",
       "      <th>1d Price_C</th>\n",
       "      <th>5d Price_C</th>\n",
       "      <th>10d Price_C</th>\n",
       "      <th>T10Y2Y</th>\n",
       "      <th>T10Y2Y_C</th>\n",
       "      <th>S&amp;P500 Close</th>\n",
       "      <th>1d S&amp;P500 Close_C</th>\n",
       "      <th>5d S&amp;P500 Close_C</th>\n",
       "      <th>10d S&amp;P500 Close_C</th>\n",
       "      <th>University of Michigan Consumer</th>\n",
       "      <th>M2</th>\n",
       "      <th>Average Weekly Hours of Production</th>\n",
       "      <th>Building Permits</th>\n",
       "      <th>Manufacturers' New Orders Durable Goods</th>\n",
       "      <th>Real personal income excluding current transfer receipts</th>\n",
       "      <th>All Employees, Total Nonfarm</th>\n",
       "      <th>Industrial Production Index</th>\n",
       "      <th>Inventories to Sales Ratios</th>\n",
       "      <th>Label</th>\n",
       "    </tr>\n",
       "    <tr>\n",
       "      <th>Date</th>\n",
       "      <th></th>\n",
       "      <th></th>\n",
       "      <th></th>\n",
       "      <th></th>\n",
       "      <th></th>\n",
       "      <th></th>\n",
       "      <th></th>\n",
       "      <th></th>\n",
       "      <th></th>\n",
       "      <th></th>\n",
       "      <th></th>\n",
       "      <th></th>\n",
       "      <th></th>\n",
       "      <th></th>\n",
       "      <th></th>\n",
       "      <th></th>\n",
       "      <th></th>\n",
       "      <th></th>\n",
       "      <th></th>\n",
       "      <th></th>\n",
       "    </tr>\n",
       "  </thead>\n",
       "  <tbody>\n",
       "    <tr>\n",
       "      <th>1997/1/16</th>\n",
       "      <td>12.03</td>\n",
       "      <td>-0.005785</td>\n",
       "      <td>-0.004139</td>\n",
       "      <td>-0.009061</td>\n",
       "      <td>0.57</td>\n",
       "      <td>0.02</td>\n",
       "      <td>769.750000</td>\n",
       "      <td>0.003324</td>\n",
       "      <td>0.013496</td>\n",
       "      <td>0.029559</td>\n",
       "      <td>97.4</td>\n",
       "      <td>3490.66</td>\n",
       "      <td>41.3</td>\n",
       "      <td>1382</td>\n",
       "      <td>170783</td>\n",
       "      <td>7951.0</td>\n",
       "      <td>121363</td>\n",
       "      <td>85.9397</td>\n",
       "      <td>1.43</td>\n",
       "      <td>Little Low Point</td>\n",
       "    </tr>\n",
       "    <tr>\n",
       "      <th>1997/1/17</th>\n",
       "      <td>12.08</td>\n",
       "      <td>0.004156</td>\n",
       "      <td>0.008347</td>\n",
       "      <td>-0.004122</td>\n",
       "      <td>0.56</td>\n",
       "      <td>-0.01</td>\n",
       "      <td>776.169983</td>\n",
       "      <td>0.008340</td>\n",
       "      <td>0.021949</td>\n",
       "      <td>0.038146</td>\n",
       "      <td>97.4</td>\n",
       "      <td>3490.66</td>\n",
       "      <td>41.3</td>\n",
       "      <td>1382</td>\n",
       "      <td>170783</td>\n",
       "      <td>7951.0</td>\n",
       "      <td>121363</td>\n",
       "      <td>85.9397</td>\n",
       "      <td>1.43</td>\n",
       "      <td>Little Low Point</td>\n",
       "    </tr>\n",
       "    <tr>\n",
       "      <th>1997/1/18</th>\n",
       "      <td>12.20</td>\n",
       "      <td>0.009934</td>\n",
       "      <td>0.019215</td>\n",
       "      <td>0.006601</td>\n",
       "      <td>0.56</td>\n",
       "      <td>0.00</td>\n",
       "      <td>776.169983</td>\n",
       "      <td>0.000000</td>\n",
       "      <td>0.021935</td>\n",
       "      <td>0.030456</td>\n",
       "      <td>97.4</td>\n",
       "      <td>3490.66</td>\n",
       "      <td>41.3</td>\n",
       "      <td>1382</td>\n",
       "      <td>170783</td>\n",
       "      <td>7951.0</td>\n",
       "      <td>121363</td>\n",
       "      <td>85.9397</td>\n",
       "      <td>1.43</td>\n",
       "      <td>Little Low Point</td>\n",
       "    </tr>\n",
       "    <tr>\n",
       "      <th>1997/1/20</th>\n",
       "      <td>12.21</td>\n",
       "      <td>0.000820</td>\n",
       "      <td>0.008258</td>\n",
       "      <td>0.003287</td>\n",
       "      <td>0.56</td>\n",
       "      <td>0.00</td>\n",
       "      <td>776.700012</td>\n",
       "      <td>0.000683</td>\n",
       "      <td>0.010197</td>\n",
       "      <td>0.037800</td>\n",
       "      <td>97.4</td>\n",
       "      <td>3490.66</td>\n",
       "      <td>41.3</td>\n",
       "      <td>1382</td>\n",
       "      <td>170783</td>\n",
       "      <td>7951.0</td>\n",
       "      <td>121363</td>\n",
       "      <td>85.9397</td>\n",
       "      <td>1.43</td>\n",
       "      <td>Little Low Point</td>\n",
       "    </tr>\n",
       "    <tr>\n",
       "      <th>1997/1/21</th>\n",
       "      <td>12.19</td>\n",
       "      <td>-0.001638</td>\n",
       "      <td>0.007438</td>\n",
       "      <td>-0.000820</td>\n",
       "      <td>0.53</td>\n",
       "      <td>-0.03</td>\n",
       "      <td>782.719971</td>\n",
       "      <td>0.007751</td>\n",
       "      <td>0.020229</td>\n",
       "      <td>0.036921</td>\n",
       "      <td>97.4</td>\n",
       "      <td>3490.66</td>\n",
       "      <td>41.3</td>\n",
       "      <td>1382</td>\n",
       "      <td>170783</td>\n",
       "      <td>7951.0</td>\n",
       "      <td>121363</td>\n",
       "      <td>85.9397</td>\n",
       "      <td>1.43</td>\n",
       "      <td>Low Point</td>\n",
       "    </tr>\n",
       "  </tbody>\n",
       "</table>\n",
       "</div>"
      ],
      "text/plain": [
       "           Price  1d Price_C  5d Price_C  10d Price_C  T10Y2Y  T10Y2Y_C  \\\n",
       "Date                                                                      \n",
       "1997/1/16  12.03   -0.005785   -0.004139    -0.009061    0.57      0.02   \n",
       "1997/1/17  12.08    0.004156    0.008347    -0.004122    0.56     -0.01   \n",
       "1997/1/18  12.20    0.009934    0.019215     0.006601    0.56      0.00   \n",
       "1997/1/20  12.21    0.000820    0.008258     0.003287    0.56      0.00   \n",
       "1997/1/21  12.19   -0.001638    0.007438    -0.000820    0.53     -0.03   \n",
       "\n",
       "           S&P500 Close  1d S&P500 Close_C  5d S&P500 Close_C  \\\n",
       "Date                                                            \n",
       "1997/1/16    769.750000           0.003324           0.013496   \n",
       "1997/1/17    776.169983           0.008340           0.021949   \n",
       "1997/1/18    776.169983           0.000000           0.021935   \n",
       "1997/1/20    776.700012           0.000683           0.010197   \n",
       "1997/1/21    782.719971           0.007751           0.020229   \n",
       "\n",
       "           10d S&P500 Close_C  University of Michigan Consumer       M2  \\\n",
       "Date                                                                      \n",
       "1997/1/16            0.029559                             97.4  3490.66   \n",
       "1997/1/17            0.038146                             97.4  3490.66   \n",
       "1997/1/18            0.030456                             97.4  3490.66   \n",
       "1997/1/20            0.037800                             97.4  3490.66   \n",
       "1997/1/21            0.036921                             97.4  3490.66   \n",
       "\n",
       "           Average Weekly Hours of Production  Building Permits  \\\n",
       "Date                                                              \n",
       "1997/1/16                                41.3              1382   \n",
       "1997/1/17                                41.3              1382   \n",
       "1997/1/18                                41.3              1382   \n",
       "1997/1/20                                41.3              1382   \n",
       "1997/1/21                                41.3              1382   \n",
       "\n",
       "           Manufacturers' New Orders Durable Goods  \\\n",
       "Date                                                 \n",
       "1997/1/16                                   170783   \n",
       "1997/1/17                                   170783   \n",
       "1997/1/18                                   170783   \n",
       "1997/1/20                                   170783   \n",
       "1997/1/21                                   170783   \n",
       "\n",
       "           Real personal income excluding current transfer receipts  \\\n",
       "Date                                                                  \n",
       "1997/1/16                                             7951.0          \n",
       "1997/1/17                                             7951.0          \n",
       "1997/1/18                                             7951.0          \n",
       "1997/1/20                                             7951.0          \n",
       "1997/1/21                                             7951.0          \n",
       "\n",
       "           All Employees, Total Nonfarm  Industrial Production Index  \\\n",
       "Date                                                                   \n",
       "1997/1/16                        121363                      85.9397   \n",
       "1997/1/17                        121363                      85.9397   \n",
       "1997/1/18                        121363                      85.9397   \n",
       "1997/1/20                        121363                      85.9397   \n",
       "1997/1/21                        121363                      85.9397   \n",
       "\n",
       "           Inventories to Sales Ratios             Label  \n",
       "Date                                                      \n",
       "1997/1/16                         1.43  Little Low Point  \n",
       "1997/1/17                         1.43  Little Low Point  \n",
       "1997/1/18                         1.43  Little Low Point  \n",
       "1997/1/20                         1.43  Little Low Point  \n",
       "1997/1/21                         1.43         Low Point  "
      ]
     },
     "execution_count": 5,
     "metadata": {},
     "output_type": "execute_result"
    }
   ],
   "source": [
    "data.head()"
   ]
  },
  {
   "cell_type": "code",
   "execution_count": 6,
   "metadata": {},
   "outputs": [
    {
     "data": {
      "text/plain": [
       "(5824, 20)"
      ]
     },
     "execution_count": 6,
     "metadata": {},
     "output_type": "execute_result"
    }
   ],
   "source": [
    "data.shape"
   ]
  },
  {
   "cell_type": "code",
   "execution_count": 7,
   "metadata": {},
   "outputs": [],
   "source": [
    "x_data = data.drop([\"Label\"], axis=1)\n",
    "y_data = data[\"Label\"].to_frame()"
   ]
  },
  {
   "cell_type": "markdown",
   "metadata": {},
   "source": [
    "#### Handling y data"
   ]
  },
  {
   "cell_type": "code",
   "execution_count": 8,
   "metadata": {},
   "outputs": [
    {
     "data": {
      "text/html": [
       "<div>\n",
       "<style scoped>\n",
       "    .dataframe tbody tr th:only-of-type {\n",
       "        vertical-align: middle;\n",
       "    }\n",
       "\n",
       "    .dataframe tbody tr th {\n",
       "        vertical-align: top;\n",
       "    }\n",
       "\n",
       "    .dataframe thead th {\n",
       "        text-align: right;\n",
       "    }\n",
       "</style>\n",
       "<table border=\"1\" class=\"dataframe\">\n",
       "  <thead>\n",
       "    <tr style=\"text-align: right;\">\n",
       "      <th></th>\n",
       "      <th>Label</th>\n",
       "      <th>Label_Num</th>\n",
       "    </tr>\n",
       "    <tr>\n",
       "      <th>Date</th>\n",
       "      <th></th>\n",
       "      <th></th>\n",
       "    </tr>\n",
       "  </thead>\n",
       "  <tbody>\n",
       "    <tr>\n",
       "      <th>1997/1/16</th>\n",
       "      <td>Little Low Point</td>\n",
       "      <td>1</td>\n",
       "    </tr>\n",
       "    <tr>\n",
       "      <th>1997/1/17</th>\n",
       "      <td>Little Low Point</td>\n",
       "      <td>1</td>\n",
       "    </tr>\n",
       "    <tr>\n",
       "      <th>1997/1/18</th>\n",
       "      <td>Little Low Point</td>\n",
       "      <td>1</td>\n",
       "    </tr>\n",
       "    <tr>\n",
       "      <th>1997/1/20</th>\n",
       "      <td>Little Low Point</td>\n",
       "      <td>1</td>\n",
       "    </tr>\n",
       "    <tr>\n",
       "      <th>1997/1/21</th>\n",
       "      <td>Low Point</td>\n",
       "      <td>2</td>\n",
       "    </tr>\n",
       "  </tbody>\n",
       "</table>\n",
       "</div>"
      ],
      "text/plain": [
       "                      Label  Label_Num\n",
       "Date                                  \n",
       "1997/1/16  Little Low Point          1\n",
       "1997/1/17  Little Low Point          1\n",
       "1997/1/18  Little Low Point          1\n",
       "1997/1/20  Little Low Point          1\n",
       "1997/1/21         Low Point          2"
      ]
     },
     "execution_count": 8,
     "metadata": {},
     "output_type": "execute_result"
    }
   ],
   "source": [
    "# Transfer Label into one-hot-encoding form\n",
    "y_data[\"Label_Num\"] = 0\n",
    "for index, row in y_data.iterrows():\n",
    "    #print(index, row)\n",
    "    if row[\"Label\"] == \"Extremely High Point\":\n",
    "        y_data.loc[index, \"Label_Num\"] = -3\n",
    "    elif row[\"Label\"] == \"High Point\":\n",
    "        y_data.loc[index, \"Label_Num\"] = -2\n",
    "    elif row[\"Label\"] == \"Little High Point\":\n",
    "        y_data.loc[index, \"Label_Num\"] = -1\n",
    "    elif row[\"Label\"] == \"Little Low Point\":\n",
    "        y_data.loc[index, \"Label_Num\"] = 1\n",
    "    elif row[\"Label\"] == \"Low Point\":\n",
    "        y_data.loc[index, \"Label_Num\"] = 2\n",
    "    elif row[\"Label\"] == \"Extremely Low Point\":\n",
    "        y_data.loc[index, \"Label_Num\"] = 3\n",
    "y_data.head()"
   ]
  },
  {
   "cell_type": "code",
   "execution_count": 9,
   "metadata": {},
   "outputs": [
    {
     "data": {
      "text/plain": [
       " 1    1452\n",
       "-1    1448\n",
       " 2     876\n",
       "-2     873\n",
       "-3     588\n",
       " 3     587\n",
       "Name: Label_Num, dtype: int64"
      ]
     },
     "execution_count": 9,
     "metadata": {},
     "output_type": "execute_result"
    }
   ],
   "source": [
    "y_data['Label_Num'].value_counts()"
   ]
  },
  {
   "cell_type": "code",
   "execution_count": 10,
   "metadata": {},
   "outputs": [],
   "source": [
    "y_data_ohe = pd.get_dummies(y_data).drop(\"Label_Num\", axis=1)"
   ]
  },
  {
   "cell_type": "code",
   "execution_count": 11,
   "metadata": {},
   "outputs": [
    {
     "data": {
      "text/html": [
       "<div>\n",
       "<style scoped>\n",
       "    .dataframe tbody tr th:only-of-type {\n",
       "        vertical-align: middle;\n",
       "    }\n",
       "\n",
       "    .dataframe tbody tr th {\n",
       "        vertical-align: top;\n",
       "    }\n",
       "\n",
       "    .dataframe thead th {\n",
       "        text-align: right;\n",
       "    }\n",
       "</style>\n",
       "<table border=\"1\" class=\"dataframe\">\n",
       "  <thead>\n",
       "    <tr style=\"text-align: right;\">\n",
       "      <th></th>\n",
       "      <th>Label_Extremely High Point</th>\n",
       "      <th>Label_Extremely Low Point</th>\n",
       "      <th>Label_High Point</th>\n",
       "      <th>Label_Little High Point</th>\n",
       "      <th>Label_Little Low Point</th>\n",
       "      <th>Label_Low Point</th>\n",
       "    </tr>\n",
       "    <tr>\n",
       "      <th>Date</th>\n",
       "      <th></th>\n",
       "      <th></th>\n",
       "      <th></th>\n",
       "      <th></th>\n",
       "      <th></th>\n",
       "      <th></th>\n",
       "    </tr>\n",
       "  </thead>\n",
       "  <tbody>\n",
       "    <tr>\n",
       "      <th>1997/1/16</th>\n",
       "      <td>0</td>\n",
       "      <td>0</td>\n",
       "      <td>0</td>\n",
       "      <td>0</td>\n",
       "      <td>1</td>\n",
       "      <td>0</td>\n",
       "    </tr>\n",
       "    <tr>\n",
       "      <th>1997/1/17</th>\n",
       "      <td>0</td>\n",
       "      <td>0</td>\n",
       "      <td>0</td>\n",
       "      <td>0</td>\n",
       "      <td>1</td>\n",
       "      <td>0</td>\n",
       "    </tr>\n",
       "    <tr>\n",
       "      <th>1997/1/18</th>\n",
       "      <td>0</td>\n",
       "      <td>0</td>\n",
       "      <td>0</td>\n",
       "      <td>0</td>\n",
       "      <td>1</td>\n",
       "      <td>0</td>\n",
       "    </tr>\n",
       "    <tr>\n",
       "      <th>1997/1/20</th>\n",
       "      <td>0</td>\n",
       "      <td>0</td>\n",
       "      <td>0</td>\n",
       "      <td>0</td>\n",
       "      <td>1</td>\n",
       "      <td>0</td>\n",
       "    </tr>\n",
       "    <tr>\n",
       "      <th>1997/1/21</th>\n",
       "      <td>0</td>\n",
       "      <td>0</td>\n",
       "      <td>0</td>\n",
       "      <td>0</td>\n",
       "      <td>0</td>\n",
       "      <td>1</td>\n",
       "    </tr>\n",
       "  </tbody>\n",
       "</table>\n",
       "</div>"
      ],
      "text/plain": [
       "           Label_Extremely High Point  Label_Extremely Low Point  \\\n",
       "Date                                                               \n",
       "1997/1/16                           0                          0   \n",
       "1997/1/17                           0                          0   \n",
       "1997/1/18                           0                          0   \n",
       "1997/1/20                           0                          0   \n",
       "1997/1/21                           0                          0   \n",
       "\n",
       "           Label_High Point  Label_Little High Point  Label_Little Low Point  \\\n",
       "Date                                                                           \n",
       "1997/1/16                 0                        0                       1   \n",
       "1997/1/17                 0                        0                       1   \n",
       "1997/1/18                 0                        0                       1   \n",
       "1997/1/20                 0                        0                       1   \n",
       "1997/1/21                 0                        0                       0   \n",
       "\n",
       "           Label_Low Point  \n",
       "Date                        \n",
       "1997/1/16                0  \n",
       "1997/1/17                0  \n",
       "1997/1/18                0  \n",
       "1997/1/20                0  \n",
       "1997/1/21                1  "
      ]
     },
     "execution_count": 11,
     "metadata": {},
     "output_type": "execute_result"
    }
   ],
   "source": [
    "y_data_ohe.head()"
   ]
  },
  {
   "cell_type": "markdown",
   "metadata": {},
   "source": [
    "#### Handling x data"
   ]
  },
  {
   "cell_type": "code",
   "execution_count": 12,
   "metadata": {},
   "outputs": [
    {
     "data": {
      "text/html": [
       "<div>\n",
       "<style scoped>\n",
       "    .dataframe tbody tr th:only-of-type {\n",
       "        vertical-align: middle;\n",
       "    }\n",
       "\n",
       "    .dataframe tbody tr th {\n",
       "        vertical-align: top;\n",
       "    }\n",
       "\n",
       "    .dataframe thead th {\n",
       "        text-align: right;\n",
       "    }\n",
       "</style>\n",
       "<table border=\"1\" class=\"dataframe\">\n",
       "  <thead>\n",
       "    <tr style=\"text-align: right;\">\n",
       "      <th></th>\n",
       "      <th>Price</th>\n",
       "      <th>1d Price_C</th>\n",
       "      <th>5d Price_C</th>\n",
       "      <th>10d Price_C</th>\n",
       "      <th>T10Y2Y</th>\n",
       "      <th>T10Y2Y_C</th>\n",
       "      <th>S&amp;P500 Close</th>\n",
       "      <th>1d S&amp;P500 Close_C</th>\n",
       "      <th>5d S&amp;P500 Close_C</th>\n",
       "      <th>10d S&amp;P500 Close_C</th>\n",
       "      <th>University of Michigan Consumer</th>\n",
       "      <th>M2</th>\n",
       "      <th>Average Weekly Hours of Production</th>\n",
       "      <th>Building Permits</th>\n",
       "      <th>Manufacturers' New Orders Durable Goods</th>\n",
       "      <th>Real personal income excluding current transfer receipts</th>\n",
       "      <th>All Employees, Total Nonfarm</th>\n",
       "      <th>Industrial Production Index</th>\n",
       "      <th>Inventories to Sales Ratios</th>\n",
       "    </tr>\n",
       "    <tr>\n",
       "      <th>Date</th>\n",
       "      <th></th>\n",
       "      <th></th>\n",
       "      <th></th>\n",
       "      <th></th>\n",
       "      <th></th>\n",
       "      <th></th>\n",
       "      <th></th>\n",
       "      <th></th>\n",
       "      <th></th>\n",
       "      <th></th>\n",
       "      <th></th>\n",
       "      <th></th>\n",
       "      <th></th>\n",
       "      <th></th>\n",
       "      <th></th>\n",
       "      <th></th>\n",
       "      <th></th>\n",
       "      <th></th>\n",
       "      <th></th>\n",
       "    </tr>\n",
       "  </thead>\n",
       "  <tbody>\n",
       "    <tr>\n",
       "      <th>1997/1/16</th>\n",
       "      <td>12.03</td>\n",
       "      <td>-0.005785</td>\n",
       "      <td>-0.004139</td>\n",
       "      <td>-0.009061</td>\n",
       "      <td>0.57</td>\n",
       "      <td>0.02</td>\n",
       "      <td>769.750000</td>\n",
       "      <td>0.003324</td>\n",
       "      <td>0.013496</td>\n",
       "      <td>0.029559</td>\n",
       "      <td>97.4</td>\n",
       "      <td>3490.66</td>\n",
       "      <td>41.3</td>\n",
       "      <td>1382</td>\n",
       "      <td>170783</td>\n",
       "      <td>7951.0</td>\n",
       "      <td>121363</td>\n",
       "      <td>85.9397</td>\n",
       "      <td>1.43</td>\n",
       "    </tr>\n",
       "    <tr>\n",
       "      <th>1997/1/17</th>\n",
       "      <td>12.08</td>\n",
       "      <td>0.004156</td>\n",
       "      <td>0.008347</td>\n",
       "      <td>-0.004122</td>\n",
       "      <td>0.56</td>\n",
       "      <td>-0.01</td>\n",
       "      <td>776.169983</td>\n",
       "      <td>0.008340</td>\n",
       "      <td>0.021949</td>\n",
       "      <td>0.038146</td>\n",
       "      <td>97.4</td>\n",
       "      <td>3490.66</td>\n",
       "      <td>41.3</td>\n",
       "      <td>1382</td>\n",
       "      <td>170783</td>\n",
       "      <td>7951.0</td>\n",
       "      <td>121363</td>\n",
       "      <td>85.9397</td>\n",
       "      <td>1.43</td>\n",
       "    </tr>\n",
       "    <tr>\n",
       "      <th>1997/1/18</th>\n",
       "      <td>12.20</td>\n",
       "      <td>0.009934</td>\n",
       "      <td>0.019215</td>\n",
       "      <td>0.006601</td>\n",
       "      <td>0.56</td>\n",
       "      <td>0.00</td>\n",
       "      <td>776.169983</td>\n",
       "      <td>0.000000</td>\n",
       "      <td>0.021935</td>\n",
       "      <td>0.030456</td>\n",
       "      <td>97.4</td>\n",
       "      <td>3490.66</td>\n",
       "      <td>41.3</td>\n",
       "      <td>1382</td>\n",
       "      <td>170783</td>\n",
       "      <td>7951.0</td>\n",
       "      <td>121363</td>\n",
       "      <td>85.9397</td>\n",
       "      <td>1.43</td>\n",
       "    </tr>\n",
       "    <tr>\n",
       "      <th>1997/1/20</th>\n",
       "      <td>12.21</td>\n",
       "      <td>0.000820</td>\n",
       "      <td>0.008258</td>\n",
       "      <td>0.003287</td>\n",
       "      <td>0.56</td>\n",
       "      <td>0.00</td>\n",
       "      <td>776.700012</td>\n",
       "      <td>0.000683</td>\n",
       "      <td>0.010197</td>\n",
       "      <td>0.037800</td>\n",
       "      <td>97.4</td>\n",
       "      <td>3490.66</td>\n",
       "      <td>41.3</td>\n",
       "      <td>1382</td>\n",
       "      <td>170783</td>\n",
       "      <td>7951.0</td>\n",
       "      <td>121363</td>\n",
       "      <td>85.9397</td>\n",
       "      <td>1.43</td>\n",
       "    </tr>\n",
       "    <tr>\n",
       "      <th>1997/1/21</th>\n",
       "      <td>12.19</td>\n",
       "      <td>-0.001638</td>\n",
       "      <td>0.007438</td>\n",
       "      <td>-0.000820</td>\n",
       "      <td>0.53</td>\n",
       "      <td>-0.03</td>\n",
       "      <td>782.719971</td>\n",
       "      <td>0.007751</td>\n",
       "      <td>0.020229</td>\n",
       "      <td>0.036921</td>\n",
       "      <td>97.4</td>\n",
       "      <td>3490.66</td>\n",
       "      <td>41.3</td>\n",
       "      <td>1382</td>\n",
       "      <td>170783</td>\n",
       "      <td>7951.0</td>\n",
       "      <td>121363</td>\n",
       "      <td>85.9397</td>\n",
       "      <td>1.43</td>\n",
       "    </tr>\n",
       "  </tbody>\n",
       "</table>\n",
       "</div>"
      ],
      "text/plain": [
       "           Price  1d Price_C  5d Price_C  10d Price_C  T10Y2Y  T10Y2Y_C  \\\n",
       "Date                                                                      \n",
       "1997/1/16  12.03   -0.005785   -0.004139    -0.009061    0.57      0.02   \n",
       "1997/1/17  12.08    0.004156    0.008347    -0.004122    0.56     -0.01   \n",
       "1997/1/18  12.20    0.009934    0.019215     0.006601    0.56      0.00   \n",
       "1997/1/20  12.21    0.000820    0.008258     0.003287    0.56      0.00   \n",
       "1997/1/21  12.19   -0.001638    0.007438    -0.000820    0.53     -0.03   \n",
       "\n",
       "           S&P500 Close  1d S&P500 Close_C  5d S&P500 Close_C  \\\n",
       "Date                                                            \n",
       "1997/1/16    769.750000           0.003324           0.013496   \n",
       "1997/1/17    776.169983           0.008340           0.021949   \n",
       "1997/1/18    776.169983           0.000000           0.021935   \n",
       "1997/1/20    776.700012           0.000683           0.010197   \n",
       "1997/1/21    782.719971           0.007751           0.020229   \n",
       "\n",
       "           10d S&P500 Close_C  University of Michigan Consumer       M2  \\\n",
       "Date                                                                      \n",
       "1997/1/16            0.029559                             97.4  3490.66   \n",
       "1997/1/17            0.038146                             97.4  3490.66   \n",
       "1997/1/18            0.030456                             97.4  3490.66   \n",
       "1997/1/20            0.037800                             97.4  3490.66   \n",
       "1997/1/21            0.036921                             97.4  3490.66   \n",
       "\n",
       "           Average Weekly Hours of Production  Building Permits  \\\n",
       "Date                                                              \n",
       "1997/1/16                                41.3              1382   \n",
       "1997/1/17                                41.3              1382   \n",
       "1997/1/18                                41.3              1382   \n",
       "1997/1/20                                41.3              1382   \n",
       "1997/1/21                                41.3              1382   \n",
       "\n",
       "           Manufacturers' New Orders Durable Goods  \\\n",
       "Date                                                 \n",
       "1997/1/16                                   170783   \n",
       "1997/1/17                                   170783   \n",
       "1997/1/18                                   170783   \n",
       "1997/1/20                                   170783   \n",
       "1997/1/21                                   170783   \n",
       "\n",
       "           Real personal income excluding current transfer receipts  \\\n",
       "Date                                                                  \n",
       "1997/1/16                                             7951.0          \n",
       "1997/1/17                                             7951.0          \n",
       "1997/1/18                                             7951.0          \n",
       "1997/1/20                                             7951.0          \n",
       "1997/1/21                                             7951.0          \n",
       "\n",
       "           All Employees, Total Nonfarm  Industrial Production Index  \\\n",
       "Date                                                                   \n",
       "1997/1/16                        121363                      85.9397   \n",
       "1997/1/17                        121363                      85.9397   \n",
       "1997/1/18                        121363                      85.9397   \n",
       "1997/1/20                        121363                      85.9397   \n",
       "1997/1/21                        121363                      85.9397   \n",
       "\n",
       "           Inventories to Sales Ratios  \n",
       "Date                                    \n",
       "1997/1/16                         1.43  \n",
       "1997/1/17                         1.43  \n",
       "1997/1/18                         1.43  \n",
       "1997/1/20                         1.43  \n",
       "1997/1/21                         1.43  "
      ]
     },
     "execution_count": 12,
     "metadata": {},
     "output_type": "execute_result"
    }
   ],
   "source": [
    "x_data.head()"
   ]
  },
  {
   "cell_type": "code",
   "execution_count": 13,
   "metadata": {},
   "outputs": [],
   "source": [
    "def monthly_data_change(df, col_name):\n",
    "    pre_val = df[col_name][0] # the value in col_name in the previous month\n",
    "    in_mon = \"\" # the current month\n",
    "    change_array = np.zeros(len(df)) # new array to be returned\n",
    "    \n",
    "    i = 0\n",
    "    first_mon = True\n",
    "    \n",
    "    for index, row in df.iterrows():\n",
    "        if first_mon and in_mon == \"\" :\n",
    "            in_mon = index.split(\"/\")[1]\n",
    "\n",
    "        day_mon = index.split(\"/\")[1]\n",
    "        day_val = df[col_name][index]\n",
    "        #print(\"day_mon = \", day_mon, \", day_val = \", day_val)\n",
    "        if day_mon != in_mon: # entered a new month\n",
    "            if not first_mon:\n",
    "                pre_val = day_val\n",
    "                first_mon = False\n",
    "            in_mon = day_mon\n",
    "        if pre_val !=0:\n",
    "            change_array[i] = (day_val - pre_val)/pre_val\n",
    "        else:\n",
    "            change_array[i] = 0\n",
    "        i += 1\n",
    "    return change_array"
   ]
  },
  {
   "cell_type": "code",
   "execution_count": 14,
   "metadata": {},
   "outputs": [],
   "source": [
    "# Create _C columns for the change of each monthly-changed features with the data in the previous month\n",
    "for i in range(10,19):\n",
    "    col_name = x_data.columns[i]\n",
    "    x_data[col_name + \"_C\"] =monthly_data_change(x_data, col_name)"
   ]
  },
  {
   "cell_type": "code",
   "execution_count": 15,
   "metadata": {},
   "outputs": [
    {
     "data": {
      "text/html": [
       "<div>\n",
       "<style scoped>\n",
       "    .dataframe tbody tr th:only-of-type {\n",
       "        vertical-align: middle;\n",
       "    }\n",
       "\n",
       "    .dataframe tbody tr th {\n",
       "        vertical-align: top;\n",
       "    }\n",
       "\n",
       "    .dataframe thead th {\n",
       "        text-align: right;\n",
       "    }\n",
       "</style>\n",
       "<table border=\"1\" class=\"dataframe\">\n",
       "  <thead>\n",
       "    <tr style=\"text-align: right;\">\n",
       "      <th></th>\n",
       "      <th>Price</th>\n",
       "      <th>1d Price_C</th>\n",
       "      <th>5d Price_C</th>\n",
       "      <th>10d Price_C</th>\n",
       "      <th>T10Y2Y</th>\n",
       "      <th>T10Y2Y_C</th>\n",
       "      <th>S&amp;P500 Close</th>\n",
       "      <th>1d S&amp;P500 Close_C</th>\n",
       "      <th>5d S&amp;P500 Close_C</th>\n",
       "      <th>10d S&amp;P500 Close_C</th>\n",
       "      <th>University of Michigan Consumer</th>\n",
       "      <th>M2</th>\n",
       "      <th>Average Weekly Hours of Production</th>\n",
       "      <th>Building Permits</th>\n",
       "      <th>Manufacturers' New Orders Durable Goods</th>\n",
       "      <th>Real personal income excluding current transfer receipts</th>\n",
       "      <th>All Employees, Total Nonfarm</th>\n",
       "      <th>Industrial Production Index</th>\n",
       "      <th>Inventories to Sales Ratios</th>\n",
       "      <th>University of Michigan Consumer_C</th>\n",
       "      <th>M2_C</th>\n",
       "      <th>Average Weekly Hours of Production_C</th>\n",
       "      <th>Building Permits_C</th>\n",
       "      <th>Manufacturers' New Orders Durable Goods_C</th>\n",
       "      <th>Real personal income excluding current transfer receipts_C</th>\n",
       "      <th>All Employees, Total Nonfarm_C</th>\n",
       "      <th>Industrial Production Index_C</th>\n",
       "      <th>Inventories to Sales Ratios_C</th>\n",
       "    </tr>\n",
       "    <tr>\n",
       "      <th>Date</th>\n",
       "      <th></th>\n",
       "      <th></th>\n",
       "      <th></th>\n",
       "      <th></th>\n",
       "      <th></th>\n",
       "      <th></th>\n",
       "      <th></th>\n",
       "      <th></th>\n",
       "      <th></th>\n",
       "      <th></th>\n",
       "      <th></th>\n",
       "      <th></th>\n",
       "      <th></th>\n",
       "      <th></th>\n",
       "      <th></th>\n",
       "      <th></th>\n",
       "      <th></th>\n",
       "      <th></th>\n",
       "      <th></th>\n",
       "      <th></th>\n",
       "      <th></th>\n",
       "      <th></th>\n",
       "      <th></th>\n",
       "      <th></th>\n",
       "      <th></th>\n",
       "      <th></th>\n",
       "      <th></th>\n",
       "      <th></th>\n",
       "    </tr>\n",
       "  </thead>\n",
       "  <tbody>\n",
       "    <tr>\n",
       "      <th>1997/1/16</th>\n",
       "      <td>12.03</td>\n",
       "      <td>-0.005785</td>\n",
       "      <td>-0.004139</td>\n",
       "      <td>-0.009061</td>\n",
       "      <td>0.57</td>\n",
       "      <td>0.02</td>\n",
       "      <td>769.750000</td>\n",
       "      <td>0.003324</td>\n",
       "      <td>0.013496</td>\n",
       "      <td>0.029559</td>\n",
       "      <td>97.4</td>\n",
       "      <td>3490.66</td>\n",
       "      <td>41.3</td>\n",
       "      <td>1382</td>\n",
       "      <td>170783</td>\n",
       "      <td>7951.0</td>\n",
       "      <td>121363</td>\n",
       "      <td>85.9397</td>\n",
       "      <td>1.43</td>\n",
       "      <td>0.0</td>\n",
       "      <td>0.0</td>\n",
       "      <td>0.0</td>\n",
       "      <td>0.0</td>\n",
       "      <td>0.0</td>\n",
       "      <td>0.0</td>\n",
       "      <td>0.0</td>\n",
       "      <td>0.0</td>\n",
       "      <td>0.0</td>\n",
       "    </tr>\n",
       "    <tr>\n",
       "      <th>1997/1/17</th>\n",
       "      <td>12.08</td>\n",
       "      <td>0.004156</td>\n",
       "      <td>0.008347</td>\n",
       "      <td>-0.004122</td>\n",
       "      <td>0.56</td>\n",
       "      <td>-0.01</td>\n",
       "      <td>776.169983</td>\n",
       "      <td>0.008340</td>\n",
       "      <td>0.021949</td>\n",
       "      <td>0.038146</td>\n",
       "      <td>97.4</td>\n",
       "      <td>3490.66</td>\n",
       "      <td>41.3</td>\n",
       "      <td>1382</td>\n",
       "      <td>170783</td>\n",
       "      <td>7951.0</td>\n",
       "      <td>121363</td>\n",
       "      <td>85.9397</td>\n",
       "      <td>1.43</td>\n",
       "      <td>0.0</td>\n",
       "      <td>0.0</td>\n",
       "      <td>0.0</td>\n",
       "      <td>0.0</td>\n",
       "      <td>0.0</td>\n",
       "      <td>0.0</td>\n",
       "      <td>0.0</td>\n",
       "      <td>0.0</td>\n",
       "      <td>0.0</td>\n",
       "    </tr>\n",
       "    <tr>\n",
       "      <th>1997/1/18</th>\n",
       "      <td>12.20</td>\n",
       "      <td>0.009934</td>\n",
       "      <td>0.019215</td>\n",
       "      <td>0.006601</td>\n",
       "      <td>0.56</td>\n",
       "      <td>0.00</td>\n",
       "      <td>776.169983</td>\n",
       "      <td>0.000000</td>\n",
       "      <td>0.021935</td>\n",
       "      <td>0.030456</td>\n",
       "      <td>97.4</td>\n",
       "      <td>3490.66</td>\n",
       "      <td>41.3</td>\n",
       "      <td>1382</td>\n",
       "      <td>170783</td>\n",
       "      <td>7951.0</td>\n",
       "      <td>121363</td>\n",
       "      <td>85.9397</td>\n",
       "      <td>1.43</td>\n",
       "      <td>0.0</td>\n",
       "      <td>0.0</td>\n",
       "      <td>0.0</td>\n",
       "      <td>0.0</td>\n",
       "      <td>0.0</td>\n",
       "      <td>0.0</td>\n",
       "      <td>0.0</td>\n",
       "      <td>0.0</td>\n",
       "      <td>0.0</td>\n",
       "    </tr>\n",
       "    <tr>\n",
       "      <th>1997/1/20</th>\n",
       "      <td>12.21</td>\n",
       "      <td>0.000820</td>\n",
       "      <td>0.008258</td>\n",
       "      <td>0.003287</td>\n",
       "      <td>0.56</td>\n",
       "      <td>0.00</td>\n",
       "      <td>776.700012</td>\n",
       "      <td>0.000683</td>\n",
       "      <td>0.010197</td>\n",
       "      <td>0.037800</td>\n",
       "      <td>97.4</td>\n",
       "      <td>3490.66</td>\n",
       "      <td>41.3</td>\n",
       "      <td>1382</td>\n",
       "      <td>170783</td>\n",
       "      <td>7951.0</td>\n",
       "      <td>121363</td>\n",
       "      <td>85.9397</td>\n",
       "      <td>1.43</td>\n",
       "      <td>0.0</td>\n",
       "      <td>0.0</td>\n",
       "      <td>0.0</td>\n",
       "      <td>0.0</td>\n",
       "      <td>0.0</td>\n",
       "      <td>0.0</td>\n",
       "      <td>0.0</td>\n",
       "      <td>0.0</td>\n",
       "      <td>0.0</td>\n",
       "    </tr>\n",
       "    <tr>\n",
       "      <th>1997/1/21</th>\n",
       "      <td>12.19</td>\n",
       "      <td>-0.001638</td>\n",
       "      <td>0.007438</td>\n",
       "      <td>-0.000820</td>\n",
       "      <td>0.53</td>\n",
       "      <td>-0.03</td>\n",
       "      <td>782.719971</td>\n",
       "      <td>0.007751</td>\n",
       "      <td>0.020229</td>\n",
       "      <td>0.036921</td>\n",
       "      <td>97.4</td>\n",
       "      <td>3490.66</td>\n",
       "      <td>41.3</td>\n",
       "      <td>1382</td>\n",
       "      <td>170783</td>\n",
       "      <td>7951.0</td>\n",
       "      <td>121363</td>\n",
       "      <td>85.9397</td>\n",
       "      <td>1.43</td>\n",
       "      <td>0.0</td>\n",
       "      <td>0.0</td>\n",
       "      <td>0.0</td>\n",
       "      <td>0.0</td>\n",
       "      <td>0.0</td>\n",
       "      <td>0.0</td>\n",
       "      <td>0.0</td>\n",
       "      <td>0.0</td>\n",
       "      <td>0.0</td>\n",
       "    </tr>\n",
       "  </tbody>\n",
       "</table>\n",
       "</div>"
      ],
      "text/plain": [
       "           Price  1d Price_C  5d Price_C  10d Price_C  T10Y2Y  T10Y2Y_C  \\\n",
       "Date                                                                      \n",
       "1997/1/16  12.03   -0.005785   -0.004139    -0.009061    0.57      0.02   \n",
       "1997/1/17  12.08    0.004156    0.008347    -0.004122    0.56     -0.01   \n",
       "1997/1/18  12.20    0.009934    0.019215     0.006601    0.56      0.00   \n",
       "1997/1/20  12.21    0.000820    0.008258     0.003287    0.56      0.00   \n",
       "1997/1/21  12.19   -0.001638    0.007438    -0.000820    0.53     -0.03   \n",
       "\n",
       "           S&P500 Close  1d S&P500 Close_C  5d S&P500 Close_C  \\\n",
       "Date                                                            \n",
       "1997/1/16    769.750000           0.003324           0.013496   \n",
       "1997/1/17    776.169983           0.008340           0.021949   \n",
       "1997/1/18    776.169983           0.000000           0.021935   \n",
       "1997/1/20    776.700012           0.000683           0.010197   \n",
       "1997/1/21    782.719971           0.007751           0.020229   \n",
       "\n",
       "           10d S&P500 Close_C  University of Michigan Consumer       M2  \\\n",
       "Date                                                                      \n",
       "1997/1/16            0.029559                             97.4  3490.66   \n",
       "1997/1/17            0.038146                             97.4  3490.66   \n",
       "1997/1/18            0.030456                             97.4  3490.66   \n",
       "1997/1/20            0.037800                             97.4  3490.66   \n",
       "1997/1/21            0.036921                             97.4  3490.66   \n",
       "\n",
       "           Average Weekly Hours of Production  Building Permits  \\\n",
       "Date                                                              \n",
       "1997/1/16                                41.3              1382   \n",
       "1997/1/17                                41.3              1382   \n",
       "1997/1/18                                41.3              1382   \n",
       "1997/1/20                                41.3              1382   \n",
       "1997/1/21                                41.3              1382   \n",
       "\n",
       "           Manufacturers' New Orders Durable Goods  \\\n",
       "Date                                                 \n",
       "1997/1/16                                   170783   \n",
       "1997/1/17                                   170783   \n",
       "1997/1/18                                   170783   \n",
       "1997/1/20                                   170783   \n",
       "1997/1/21                                   170783   \n",
       "\n",
       "           Real personal income excluding current transfer receipts  \\\n",
       "Date                                                                  \n",
       "1997/1/16                                             7951.0          \n",
       "1997/1/17                                             7951.0          \n",
       "1997/1/18                                             7951.0          \n",
       "1997/1/20                                             7951.0          \n",
       "1997/1/21                                             7951.0          \n",
       "\n",
       "           All Employees, Total Nonfarm  Industrial Production Index  \\\n",
       "Date                                                                   \n",
       "1997/1/16                        121363                      85.9397   \n",
       "1997/1/17                        121363                      85.9397   \n",
       "1997/1/18                        121363                      85.9397   \n",
       "1997/1/20                        121363                      85.9397   \n",
       "1997/1/21                        121363                      85.9397   \n",
       "\n",
       "           Inventories to Sales Ratios  University of Michigan Consumer_C  \\\n",
       "Date                                                                        \n",
       "1997/1/16                         1.43                                0.0   \n",
       "1997/1/17                         1.43                                0.0   \n",
       "1997/1/18                         1.43                                0.0   \n",
       "1997/1/20                         1.43                                0.0   \n",
       "1997/1/21                         1.43                                0.0   \n",
       "\n",
       "           M2_C  Average Weekly Hours of Production_C  Building Permits_C  \\\n",
       "Date                                                                        \n",
       "1997/1/16   0.0                                   0.0                 0.0   \n",
       "1997/1/17   0.0                                   0.0                 0.0   \n",
       "1997/1/18   0.0                                   0.0                 0.0   \n",
       "1997/1/20   0.0                                   0.0                 0.0   \n",
       "1997/1/21   0.0                                   0.0                 0.0   \n",
       "\n",
       "           Manufacturers' New Orders Durable Goods_C  \\\n",
       "Date                                                   \n",
       "1997/1/16                                        0.0   \n",
       "1997/1/17                                        0.0   \n",
       "1997/1/18                                        0.0   \n",
       "1997/1/20                                        0.0   \n",
       "1997/1/21                                        0.0   \n",
       "\n",
       "           Real personal income excluding current transfer receipts_C  \\\n",
       "Date                                                                    \n",
       "1997/1/16                                                0.0            \n",
       "1997/1/17                                                0.0            \n",
       "1997/1/18                                                0.0            \n",
       "1997/1/20                                                0.0            \n",
       "1997/1/21                                                0.0            \n",
       "\n",
       "           All Employees, Total Nonfarm_C  Industrial Production Index_C  \\\n",
       "Date                                                                       \n",
       "1997/1/16                             0.0                            0.0   \n",
       "1997/1/17                             0.0                            0.0   \n",
       "1997/1/18                             0.0                            0.0   \n",
       "1997/1/20                             0.0                            0.0   \n",
       "1997/1/21                             0.0                            0.0   \n",
       "\n",
       "           Inventories to Sales Ratios_C  \n",
       "Date                                      \n",
       "1997/1/16                            0.0  \n",
       "1997/1/17                            0.0  \n",
       "1997/1/18                            0.0  \n",
       "1997/1/20                            0.0  \n",
       "1997/1/21                            0.0  "
      ]
     },
     "execution_count": 15,
     "metadata": {},
     "output_type": "execute_result"
    }
   ],
   "source": [
    "pd.set_option('display.max_columns',30)\n",
    "x_data.head()"
   ]
  },
  {
   "cell_type": "code",
   "execution_count": 16,
   "metadata": {},
   "outputs": [
    {
     "data": {
      "text/html": [
       "<div>\n",
       "<style scoped>\n",
       "    .dataframe tbody tr th:only-of-type {\n",
       "        vertical-align: middle;\n",
       "    }\n",
       "\n",
       "    .dataframe tbody tr th {\n",
       "        vertical-align: top;\n",
       "    }\n",
       "\n",
       "    .dataframe thead th {\n",
       "        text-align: right;\n",
       "    }\n",
       "</style>\n",
       "<table border=\"1\" class=\"dataframe\">\n",
       "  <thead>\n",
       "    <tr style=\"text-align: right;\">\n",
       "      <th></th>\n",
       "      <th>1d Price_C</th>\n",
       "      <th>5d Price_C</th>\n",
       "      <th>10d Price_C</th>\n",
       "      <th>T10Y2Y_C</th>\n",
       "      <th>1d S&amp;P500 Close_C</th>\n",
       "      <th>5d S&amp;P500 Close_C</th>\n",
       "      <th>10d S&amp;P500 Close_C</th>\n",
       "    </tr>\n",
       "    <tr>\n",
       "      <th>Date</th>\n",
       "      <th></th>\n",
       "      <th></th>\n",
       "      <th></th>\n",
       "      <th></th>\n",
       "      <th></th>\n",
       "      <th></th>\n",
       "      <th></th>\n",
       "    </tr>\n",
       "  </thead>\n",
       "  <tbody>\n",
       "    <tr>\n",
       "      <th>1997/2/1</th>\n",
       "      <td>0.004039</td>\n",
       "      <td>0.020525</td>\n",
       "      <td>0.019688</td>\n",
       "      <td>0.00</td>\n",
       "      <td>0.000000</td>\n",
       "      <td>0.027633</td>\n",
       "      <td>0.004395</td>\n",
       "    </tr>\n",
       "    <tr>\n",
       "      <th>1997/2/3</th>\n",
       "      <td>0.000805</td>\n",
       "      <td>0.023868</td>\n",
       "      <td>0.023026</td>\n",
       "      <td>-0.01</td>\n",
       "      <td>0.000725</td>\n",
       "      <td>0.028378</td>\n",
       "      <td>0.000636</td>\n",
       "    </tr>\n",
       "    <tr>\n",
       "      <th>1997/2/11</th>\n",
       "      <td>-0.014469</td>\n",
       "      <td>-0.000815</td>\n",
       "      <td>0.000816</td>\n",
       "      <td>-0.03</td>\n",
       "      <td>0.003635</td>\n",
       "      <td>0.022123</td>\n",
       "      <td>0.015472</td>\n",
       "    </tr>\n",
       "    <tr>\n",
       "      <th>1997/2/12</th>\n",
       "      <td>-0.003263</td>\n",
       "      <td>-0.004075</td>\n",
       "      <td>-0.000818</td>\n",
       "      <td>-0.06</td>\n",
       "      <td>0.016692</td>\n",
       "      <td>0.023719</td>\n",
       "      <td>0.041855</td>\n",
       "    </tr>\n",
       "    <tr>\n",
       "      <th>1997/2/13</th>\n",
       "      <td>0.004092</td>\n",
       "      <td>-0.008885</td>\n",
       "      <td>0.008217</td>\n",
       "      <td>0.00</td>\n",
       "      <td>0.011273</td>\n",
       "      <td>0.032640</td>\n",
       "      <td>0.053600</td>\n",
       "    </tr>\n",
       "  </tbody>\n",
       "</table>\n",
       "</div>"
      ],
      "text/plain": [
       "           1d Price_C  5d Price_C  10d Price_C  T10Y2Y_C  1d S&P500 Close_C  \\\n",
       "Date                                                                          \n",
       "1997/2/1     0.004039    0.020525     0.019688      0.00           0.000000   \n",
       "1997/2/3     0.000805    0.023868     0.023026     -0.01           0.000725   \n",
       "1997/2/11   -0.014469   -0.000815     0.000816     -0.03           0.003635   \n",
       "1997/2/12   -0.003263   -0.004075    -0.000818     -0.06           0.016692   \n",
       "1997/2/13    0.004092   -0.008885     0.008217      0.00           0.011273   \n",
       "\n",
       "           5d S&P500 Close_C  10d S&P500 Close_C  \n",
       "Date                                              \n",
       "1997/2/1            0.027633            0.004395  \n",
       "1997/2/3            0.028378            0.000636  \n",
       "1997/2/11           0.022123            0.015472  \n",
       "1997/2/12           0.023719            0.041855  \n",
       "1997/2/13           0.032640            0.053600  "
      ]
     },
     "execution_count": 16,
     "metadata": {},
     "output_type": "execute_result"
    }
   ],
   "source": [
    "# 只採用以下欄位預測\n",
    "x_data_sel = x_data.iloc[14:].copy()\n",
    "x_data_sel = x_data_sel.drop(x_data_sel.columns[10:19], axis=1)\n",
    "x_data_sel = x_data_sel.iloc[:,:10].copy().drop(['Price','T10Y2Y','S&P500 Close'], axis=1)\n",
    "x_data_sel.head()"
   ]
  },
  {
   "cell_type": "code",
   "execution_count": 17,
   "metadata": {},
   "outputs": [
    {
     "data": {
      "text/plain": [
       "(5810, 7)"
      ]
     },
     "execution_count": 17,
     "metadata": {},
     "output_type": "execute_result"
    }
   ],
   "source": [
    "x_data_sel.shape"
   ]
  },
  {
   "cell_type": "code",
   "execution_count": 18,
   "metadata": {},
   "outputs": [
    {
     "data": {
      "text/plain": [
       "(5810, 6)"
      ]
     },
     "execution_count": 18,
     "metadata": {},
     "output_type": "execute_result"
    }
   ],
   "source": [
    "y_data_ohe = y_data_ohe[14:]\n",
    "y_data_ohe.shape"
   ]
  },
  {
   "cell_type": "markdown",
   "metadata": {},
   "source": [
    "#### Split the data into training and testing set"
   ]
  },
  {
   "cell_type": "code",
   "execution_count": 19,
   "metadata": {},
   "outputs": [
    {
     "name": "stdout",
     "output_type": "stream",
     "text": [
      "(4066, 7)\n",
      "(4066, 6)\n",
      "(1744, 7)\n",
      "(1744, 6)\n"
     ]
    }
   ],
   "source": [
    "# Split the data into training and testing set with 7:3 ratio\n",
    "cut = int( x_data_sel.shape[0] * 0.7 )\n",
    "x_train, x_test, y_train, y_test = x_data_sel[:cut], x_data_sel[cut:], y_data_ohe[:cut], y_data_ohe[cut:]\n",
    "print(x_train.shape)\n",
    "print(y_train.shape)\n",
    "print(x_test.shape)\n",
    "print(y_test.shape)"
   ]
  },
  {
   "cell_type": "code",
   "execution_count": 20,
   "metadata": {},
   "outputs": [],
   "source": [
    "# Standardize the x data\n",
    "# Fit it with training data and use it the tranform both training and testing data\n",
    "\n",
    "from sklearn.preprocessing import StandardScaler\n",
    "scalar = StandardScaler().fit( x_train )\n",
    "x_train_std = scalar.transform( x_train )\n",
    "x_test_std = scalar.transform( x_test )"
   ]
  },
  {
   "cell_type": "code",
   "execution_count": 21,
   "metadata": {},
   "outputs": [],
   "source": [
    "# No standardization\n",
    "x_train_std = x_train.values\n",
    "x_test_std = x_test.values"
   ]
  },
  {
   "cell_type": "code",
   "execution_count": 22,
   "metadata": {},
   "outputs": [],
   "source": [
    "y_train = y_train.values\n",
    "y_test = y_test.values"
   ]
  },
  {
   "cell_type": "code",
   "execution_count": 23,
   "metadata": {},
   "outputs": [
    {
     "name": "stdout",
     "output_type": "stream",
     "text": [
      "(4066, 7) (4066, 6)\n"
     ]
    }
   ],
   "source": [
    "print(x_train_std.shape, y_train.shape)"
   ]
  },
  {
   "cell_type": "code",
   "execution_count": 24,
   "metadata": {},
   "outputs": [
    {
     "name": "stdout",
     "output_type": "stream",
     "text": [
      "(3266, 7) (3266, 6)\n",
      "(800, 7) (800, 6)\n"
     ]
    }
   ],
   "source": [
    "# Split the training data into partial training set and validation set\n",
    "partial_x_train = x_train_std[:-800]\n",
    "x_val = x_train_std[-800:]\n",
    "partial_y_train = y_train[:-800]\n",
    "y_val = y_train[-800:]\n",
    "print(partial_x_train.shape, partial_y_train.shape)\n",
    "print(x_val.shape, y_val.shape)"
   ]
  },
  {
   "cell_type": "code",
   "execution_count": 25,
   "metadata": {},
   "outputs": [],
   "source": [
    "def build_model(partial_x_train, partial_y_train, x_val, y_val, epochs, batch_size):\n",
    "    model = models.Sequential()\n",
    "    model.add(layers.Dropout(0.1))\n",
    "    model.add(layers.Dense(16, activation='relu', input_shape=(partial_x_train.shape[1],)))\n",
    "    model.add(layers.Dropout(0.2))\n",
    "    model.add(layers.Dense(8, activation='relu'))\n",
    "    model.add(layers.Dense(6, activation='softmax'))\n",
    "    \n",
    "    model.compile(optimizer='rmsprop',\n",
    "                  loss='categorical_crossentropy',\n",
    "                  metrics=['accuracy'],)\n",
    "    class_weight = {0:1.1, 1:1.3, 2:0.9, 3:0.7, 4:0.7, 5:0.9}\n",
    "    # 0 for Extremely High Point, 1 for Extremely Low Point, 2 for High Point, 3 for Little High Point, 4 for Little Low Point, 5 for Low Point\n",
    "    history = model.fit(partial_x_train,\n",
    "                        partial_y_train,\n",
    "                        epochs=epochs,\n",
    "                        batch_size=batch_size,\n",
    "                        validation_data=(x_val, y_val),\n",
    "                        verbose=2,\n",
    "                        class_weight = class_weight)\n",
    "    return (model, history)\n",
    "\n",
    "def loss_plot(history):\n",
    "    # plot the loss value\n",
    "    loss = history.history['loss']\n",
    "    val_loss = history.history['val_loss']\n",
    "    epochs = range(1, len(loss) + 1)\n",
    "\n",
    "    plt.plot(epochs, loss, 'bo', label='Training loss')\n",
    "    plt.plot(epochs, val_loss, 'b', label='Validation loss')\n",
    "    plt.title('Training and validation loss')\n",
    "    plt.xlabel('Epochs')\n",
    "    plt.ylabel('Loss')\n",
    "    plt.legend()\n",
    "    plt.show()\n",
    "    plt.close()\n",
    "\n",
    "def accu_plot(history):\n",
    "    # plot the accuracy rate\n",
    "    acc = history.history['accuracy']\n",
    "    val_acc = history.history['val_accuracy']\n",
    "    epochs = range(1, len(acc) + 1)\n",
    "\n",
    "    plt.plot(epochs, acc, 'bo', label='Training acc')\n",
    "    plt.plot(epochs, val_acc, 'b', label='Validation acc')\n",
    "    plt.title('Training and validation accuracy')\n",
    "    plt.xlabel('Epochs')\n",
    "    plt.ylabel('Acuracy')\n",
    "    plt.legend()\n",
    "    plt.show()\n",
    "    plt.close()"
   ]
  },
  {
   "cell_type": "code",
   "execution_count": 26,
   "metadata": {},
   "outputs": [
    {
     "name": "stdout",
     "output_type": "stream",
     "text": [
      "WARNING:tensorflow:From C:\\Users\\ASUS\\Anaconda3\\lib\\site-packages\\keras\\backend\\tensorflow_backend.py:422: The name tf.global_variables is deprecated. Please use tf.compat.v1.global_variables instead.\n",
      "\n",
      "Train on 3266 samples, validate on 800 samples\n",
      "Epoch 1/25\n",
      " - 1s - loss: 1.5823 - accuracy: 0.2088 - val_loss: 1.7881 - val_accuracy: 0.2237\n",
      "Epoch 2/25\n",
      " - 0s - loss: 1.5806 - accuracy: 0.2180 - val_loss: 1.7872 - val_accuracy: 0.2450\n",
      "Epoch 3/25\n",
      " - 0s - loss: 1.5794 - accuracy: 0.2146 - val_loss: 1.7860 - val_accuracy: 0.2500\n",
      "Epoch 4/25\n",
      " - 0s - loss: 1.5783 - accuracy: 0.2195 - val_loss: 1.7831 - val_accuracy: 0.2575\n",
      "Epoch 5/25\n",
      " - 0s - loss: 1.5777 - accuracy: 0.2269 - val_loss: 1.7832 - val_accuracy: 0.2500\n",
      "Epoch 6/25\n",
      " - 0s - loss: 1.5768 - accuracy: 0.2205 - val_loss: 1.7830 - val_accuracy: 0.2512\n",
      "Epoch 7/25\n",
      " - 0s - loss: 1.5754 - accuracy: 0.2116 - val_loss: 1.7808 - val_accuracy: 0.2512\n",
      "Epoch 8/25\n",
      " - 0s - loss: 1.5742 - accuracy: 0.2211 - val_loss: 1.7802 - val_accuracy: 0.2488\n",
      "Epoch 9/25\n",
      " - 0s - loss: 1.5738 - accuracy: 0.2152 - val_loss: 1.7788 - val_accuracy: 0.2500\n",
      "Epoch 10/25\n",
      " - 0s - loss: 1.5733 - accuracy: 0.2125 - val_loss: 1.7764 - val_accuracy: 0.2512\n",
      "Epoch 11/25\n",
      " - 0s - loss: 1.5718 - accuracy: 0.2186 - val_loss: 1.7762 - val_accuracy: 0.2512\n",
      "Epoch 12/25\n",
      " - 0s - loss: 1.5707 - accuracy: 0.2180 - val_loss: 1.7756 - val_accuracy: 0.2500\n",
      "Epoch 13/25\n",
      " - 0s - loss: 1.5702 - accuracy: 0.2149 - val_loss: 1.7731 - val_accuracy: 0.2525\n",
      "Epoch 14/25\n",
      " - 0s - loss: 1.5702 - accuracy: 0.2217 - val_loss: 1.7725 - val_accuracy: 0.2525\n",
      "Epoch 15/25\n",
      " - 0s - loss: 1.5701 - accuracy: 0.2110 - val_loss: 1.7702 - val_accuracy: 0.2500\n",
      "Epoch 16/25\n",
      " - 0s - loss: 1.5690 - accuracy: 0.2152 - val_loss: 1.7714 - val_accuracy: 0.2525\n",
      "Epoch 17/25\n",
      " - 0s - loss: 1.5683 - accuracy: 0.2119 - val_loss: 1.7684 - val_accuracy: 0.2525\n",
      "Epoch 18/25\n",
      " - 0s - loss: 1.5678 - accuracy: 0.2198 - val_loss: 1.7703 - val_accuracy: 0.2488\n",
      "Epoch 19/25\n",
      " - 0s - loss: 1.5675 - accuracy: 0.2149 - val_loss: 1.7691 - val_accuracy: 0.2488\n",
      "Epoch 20/25\n",
      " - 0s - loss: 1.5670 - accuracy: 0.2152 - val_loss: 1.7674 - val_accuracy: 0.2512\n",
      "Epoch 21/25\n",
      " - 0s - loss: 1.5672 - accuracy: 0.2171 - val_loss: 1.7663 - val_accuracy: 0.2512\n",
      "Epoch 22/25\n",
      " - 0s - loss: 1.5668 - accuracy: 0.2149 - val_loss: 1.7671 - val_accuracy: 0.2500\n",
      "Epoch 23/25\n",
      " - 0s - loss: 1.5658 - accuracy: 0.2189 - val_loss: 1.7638 - val_accuracy: 0.2525\n",
      "Epoch 24/25\n",
      " - 0s - loss: 1.5661 - accuracy: 0.2149 - val_loss: 1.7634 - val_accuracy: 0.2488\n",
      "Epoch 25/25\n",
      " - 0s - loss: 1.5655 - accuracy: 0.2168 - val_loss: 1.7639 - val_accuracy: 0.2512\n"
     ]
    }
   ],
   "source": [
    "model, history = build_model(partial_x_train, partial_y_train, x_val, y_val, epochs=25, batch_size=90)"
   ]
  },
  {
   "cell_type": "code",
   "execution_count": 27,
   "metadata": {},
   "outputs": [
    {
     "data": {
      "image/png": "[encoded data removed]",
      "text/plain": [
       "<Figure size 432x288 with 1 Axes>"
      ]
     },
     "metadata": {
      "needs_background": "light"
     },
     "output_type": "display_data"
    },
    {
     "data": {
      "image/png": "[encoded data removed]",
      "text/plain": [
       "<Figure size 432x288 with 1 Axes>"
      ]
     },
     "metadata": {
      "needs_background": "light"
     },
     "output_type": "display_data"
    }
   ],
   "source": [
    "# Plot\n",
    "loss_plot(history)\n",
    "accu_plot(history)"
   ]
  },
  {
   "cell_type": "code",
   "execution_count": 28,
   "metadata": {},
   "outputs": [
    {
     "data": {
      "text/plain": [
       "array([[0.14533088, 0.15101236, 0.17354193, 0.194615  , 0.19276927,\n",
       "        0.14273058],\n",
       "       [0.14533105, 0.15141217, 0.1739229 , 0.19420484, 0.19226564,\n",
       "        0.1428634 ],\n",
       "       [0.1455437 , 0.15197742, 0.17341572, 0.19429703, 0.19307971,\n",
       "        0.14168644],\n",
       "       ...,\n",
       "       [0.14559223, 0.15183826, 0.1730428 , 0.19459285, 0.19360751,\n",
       "        0.1413263 ],\n",
       "       [0.14577714, 0.15194184, 0.17221761, 0.1950737 , 0.19483078,\n",
       "        0.14015898],\n",
       "       [0.14538404, 0.15057196, 0.17285484, 0.19523908, 0.19371723,\n",
       "        0.14223279]], dtype=float32)"
      ]
     },
     "execution_count": 28,
     "metadata": {},
     "output_type": "execute_result"
    }
   ],
   "source": [
    "y_pre1 = model.predict(x_test_std)\n",
    "y_pre1"
   ]
  },
  {
   "cell_type": "code",
   "execution_count": 29,
   "metadata": {},
   "outputs": [
    {
     "data": {
      "text/plain": [
       "(1744, 7)"
      ]
     },
     "execution_count": 29,
     "metadata": {},
     "output_type": "execute_result"
    }
   ],
   "source": [
    "x_test_std.shape"
   ]
  },
  {
   "cell_type": "code",
   "execution_count": 30,
   "metadata": {},
   "outputs": [],
   "source": [
    "pre_final_1 = np.argmax(y_pre1,axis=1)"
   ]
  },
  {
   "cell_type": "code",
   "execution_count": 31,
   "metadata": {},
   "outputs": [
    {
     "data": {
      "text/plain": [
       "{1: 299, 3: 1414, 4: 31}"
      ]
     },
     "execution_count": 31,
     "metadata": {},
     "output_type": "execute_result"
    }
   ],
   "source": [
    "unique1, counts1 = np.unique(pre_final_1, return_counts=True)\n",
    "dict(zip(unique1, counts1))"
   ]
  },
  {
   "cell_type": "code",
   "execution_count": 32,
   "metadata": {},
   "outputs": [
    {
     "data": {
      "text/html": [
       "<div>\n",
       "<style scoped>\n",
       "    .dataframe tbody tr th:only-of-type {\n",
       "        vertical-align: middle;\n",
       "    }\n",
       "\n",
       "    .dataframe tbody tr th {\n",
       "        vertical-align: top;\n",
       "    }\n",
       "\n",
       "    .dataframe thead th {\n",
       "        text-align: right;\n",
       "    }\n",
       "</style>\n",
       "<table border=\"1\" class=\"dataframe\">\n",
       "  <thead>\n",
       "    <tr style=\"text-align: right;\">\n",
       "      <th></th>\n",
       "      <th>Date</th>\n",
       "    </tr>\n",
       "  </thead>\n",
       "  <tbody>\n",
       "    <tr>\n",
       "      <th>0</th>\n",
       "      <td>2012/11/20</td>\n",
       "    </tr>\n",
       "    <tr>\n",
       "      <th>1</th>\n",
       "      <td>2012/11/21</td>\n",
       "    </tr>\n",
       "    <tr>\n",
       "      <th>2</th>\n",
       "      <td>2012/11/22</td>\n",
       "    </tr>\n",
       "    <tr>\n",
       "      <th>3</th>\n",
       "      <td>2012/11/23</td>\n",
       "    </tr>\n",
       "    <tr>\n",
       "      <th>4</th>\n",
       "      <td>2012/11/26</td>\n",
       "    </tr>\n",
       "  </tbody>\n",
       "</table>\n",
       "</div>"
      ],
      "text/plain": [
       "         Date\n",
       "0  2012/11/20\n",
       "1  2012/11/21\n",
       "2  2012/11/22\n",
       "3  2012/11/23\n",
       "4  2012/11/26"
      ]
     },
     "execution_count": 32,
     "metadata": {},
     "output_type": "execute_result"
    }
   ],
   "source": [
    "date_sel = date.iloc[-1752:].copy()\n",
    "date_sel = date_sel.reset_index().drop('index', axis=1)\n",
    "date_sel.head()"
   ]
  },
  {
   "cell_type": "code",
   "execution_count": 33,
   "metadata": {},
   "outputs": [
    {
     "data": {
      "text/html": [
       "<div>\n",
       "<style scoped>\n",
       "    .dataframe tbody tr th:only-of-type {\n",
       "        vertical-align: middle;\n",
       "    }\n",
       "\n",
       "    .dataframe tbody tr th {\n",
       "        vertical-align: top;\n",
       "    }\n",
       "\n",
       "    .dataframe thead th {\n",
       "        text-align: right;\n",
       "    }\n",
       "</style>\n",
       "<table border=\"1\" class=\"dataframe\">\n",
       "  <thead>\n",
       "    <tr style=\"text-align: right;\">\n",
       "      <th></th>\n",
       "      <th>Date</th>\n",
       "      <th>Label</th>\n",
       "    </tr>\n",
       "  </thead>\n",
       "  <tbody>\n",
       "    <tr>\n",
       "      <th>0</th>\n",
       "      <td>2012/11/20</td>\n",
       "      <td>3.0</td>\n",
       "    </tr>\n",
       "    <tr>\n",
       "      <th>1</th>\n",
       "      <td>2012/11/21</td>\n",
       "      <td>3.0</td>\n",
       "    </tr>\n",
       "    <tr>\n",
       "      <th>2</th>\n",
       "      <td>2012/11/22</td>\n",
       "      <td>3.0</td>\n",
       "    </tr>\n",
       "    <tr>\n",
       "      <th>3</th>\n",
       "      <td>2012/11/23</td>\n",
       "      <td>3.0</td>\n",
       "    </tr>\n",
       "    <tr>\n",
       "      <th>4</th>\n",
       "      <td>2012/11/26</td>\n",
       "      <td>3.0</td>\n",
       "    </tr>\n",
       "    <tr>\n",
       "      <th>5</th>\n",
       "      <td>2012/11/27</td>\n",
       "      <td>3.0</td>\n",
       "    </tr>\n",
       "    <tr>\n",
       "      <th>6</th>\n",
       "      <td>2012/11/28</td>\n",
       "      <td>3.0</td>\n",
       "    </tr>\n",
       "    <tr>\n",
       "      <th>7</th>\n",
       "      <td>2012/11/29</td>\n",
       "      <td>3.0</td>\n",
       "    </tr>\n",
       "    <tr>\n",
       "      <th>8</th>\n",
       "      <td>2012/11/30</td>\n",
       "      <td>3.0</td>\n",
       "    </tr>\n",
       "    <tr>\n",
       "      <th>9</th>\n",
       "      <td>2012/12/3</td>\n",
       "      <td>3.0</td>\n",
       "    </tr>\n",
       "  </tbody>\n",
       "</table>\n",
       "</div>"
      ],
      "text/plain": [
       "         Date  Label\n",
       "0  2012/11/20    3.0\n",
       "1  2012/11/21    3.0\n",
       "2  2012/11/22    3.0\n",
       "3  2012/11/23    3.0\n",
       "4  2012/11/26    3.0\n",
       "5  2012/11/27    3.0\n",
       "6  2012/11/28    3.0\n",
       "7  2012/11/29    3.0\n",
       "8  2012/11/30    3.0\n",
       "9   2012/12/3    3.0"
      ]
     },
     "execution_count": 33,
     "metadata": {},
     "output_type": "execute_result"
    }
   ],
   "source": [
    "predict_file = pd.concat( [date_sel['Date'], pd.Series(pre_final_1)], axis=1 )\n",
    "predict_file.columns = ['Date', 'Label']\n",
    "predict_file[:10]"
   ]
  },
  {
   "cell_type": "code",
   "execution_count": 34,
   "metadata": {},
   "outputs": [],
   "source": [
    "predict_file.to_csv(\"Prediction.csv\", index = False)"
   ]
  },
  {
   "cell_type": "code",
   "execution_count": 35,
   "metadata": {},
   "outputs": [
    {
     "data": {
      "text/plain": [
       "array([3, 3, 3, ..., 3, 3, 3], dtype=int64)"
      ]
     },
     "execution_count": 35,
     "metadata": {},
     "output_type": "execute_result"
    }
   ],
   "source": [
    "pre_final_1"
   ]
  },
  {
   "cell_type": "code",
   "execution_count": 36,
   "metadata": {},
   "outputs": [
    {
     "data": {
      "text/plain": [
       "array([4, 4, 5, ..., 4, 3, 2], dtype=int64)"
      ]
     },
     "execution_count": 36,
     "metadata": {},
     "output_type": "execute_result"
    }
   ],
   "source": [
    "y_test_index = np.argmax(y_test, axis=1)\n",
    "y_test_index"
   ]
  },
  {
   "cell_type": "code",
   "execution_count": 37,
   "metadata": {},
   "outputs": [],
   "source": [
    "from sklearn.metrics import confusion_matrix\n",
    "import seaborn as sns\n",
    "cm = confusion_matrix( y_test_index,pre_final_1, normalize='all')"
   ]
  },
  {
   "cell_type": "code",
   "execution_count": 38,
   "metadata": {},
   "outputs": [
    {
     "data": {
      "image/png": "[encoded data removed]",
      "text/plain": [
       "<Figure size 396x288 with 2 Axes>"
      ]
     },
     "metadata": {
      "needs_background": "light"
     },
     "output_type": "display_data"
    }
   ],
   "source": [
    "cm_df = pd.DataFrame(cm,\n",
    "                     index = ['Extremely High Point', 'Extremely Low Point', 'High Point', 'Little High Point', 'Little Low Point', 'Low Point'], \n",
    "                     columns = ['Extremely High Point', 'Extremely Low Point', 'High Point', 'Little High Point', 'Little Low Point', 'Low Point'])\n",
    "\n",
    "plt.figure(figsize=(5.5,4))\n",
    "sns.heatmap(cm_df, annot=True)\n",
    "plt.ylabel('True label')\n",
    "plt.xlabel('Predicted label')\n",
    "plt.show()"
   ]
  },
  {
   "cell_type": "markdown",
   "metadata": {},
   "source": [
    "#### Try SVM Model"
   ]
  },
  {
   "cell_type": "code",
   "execution_count": 39,
   "metadata": {},
   "outputs": [
    {
     "data": {
      "text/plain": [
       "array([4, 4, 5, ..., 5, 5, 4], dtype=int64)"
      ]
     },
     "execution_count": 39,
     "metadata": {},
     "output_type": "execute_result"
    }
   ],
   "source": [
    "y_train_one_col = np.argmax(y_train, axis=1)\n",
    "y_train_one_col"
   ]
  },
  {
   "cell_type": "code",
   "execution_count": 40,
   "metadata": {},
   "outputs": [
    {
     "data": {
      "text/plain": [
       "array([4, 4, 5, ..., 4, 3, 2], dtype=int64)"
      ]
     },
     "execution_count": 40,
     "metadata": {},
     "output_type": "execute_result"
    }
   ],
   "source": [
    "y_test_one_col = np.argmax(y_test, axis=1)\n",
    "y_test_one_col"
   ]
  },
  {
   "cell_type": "code",
   "execution_count": 41,
   "metadata": {},
   "outputs": [
    {
     "data": {
      "text/plain": [
       "SVC(C=1.0, break_ties=False, cache_size=200, class_weight=None, coef0=0.0,\n",
       "    decision_function_shape='ovr', degree=3, gamma='auto', kernel='rbf',\n",
       "    max_iter=-1, probability=False, random_state=None, shrinking=True,\n",
       "    tol=0.001, verbose=False)"
      ]
     },
     "execution_count": 41,
     "metadata": {},
     "output_type": "execute_result"
    }
   ],
   "source": [
    "from sklearn.svm import SVC\n",
    "model_SVM = SVC(gamma='auto')\n",
    "model_SVM.fit(x_train_std, y_train_one_col)"
   ]
  },
  {
   "cell_type": "code",
   "execution_count": 42,
   "metadata": {},
   "outputs": [],
   "source": [
    "pre_y_SVM = model_SVM.predict(x_test_std)"
   ]
  },
  {
   "cell_type": "code",
   "execution_count": 43,
   "metadata": {},
   "outputs": [
    {
     "data": {
      "text/plain": [
       "0.286697247706422"
      ]
     },
     "execution_count": 43,
     "metadata": {},
     "output_type": "execute_result"
    }
   ],
   "source": [
    "accu = model_SVM.score(x_test_std, y_test_one_col)\n",
    "accu"
   ]
  },
  {
   "cell_type": "code",
   "execution_count": 44,
   "metadata": {},
   "outputs": [
    {
     "data": {
      "text/plain": [
       "{3: 1744}"
      ]
     },
     "execution_count": 44,
     "metadata": {},
     "output_type": "execute_result"
    }
   ],
   "source": [
    "unique_SVM, counts_SVM = np.unique(pre_y_SVM, return_counts=True)\n",
    "dict(zip(unique_SVM, counts_SVM))"
   ]
  },
  {
   "cell_type": "markdown",
   "metadata": {},
   "source": [
    "上面只是很初步的套用SVM，仍須調整"
   ]
  },
  {
   "cell_type": "markdown",
   "metadata": {},
   "source": [
    "#### Categorized the labels"
   ]
  },
  {
   "cell_type": "markdown",
   "metadata": {},
   "source": [
    "將label分為更大的類別 - 買(extremely low point) or 可能可以買(low point) or 不買(others)之後再訓練模型"
   ]
  },
  {
   "cell_type": "code",
   "execution_count": 45,
   "metadata": {},
   "outputs": [
    {
     "data": {
      "text/html": [
       "<div>\n",
       "<style scoped>\n",
       "    .dataframe tbody tr th:only-of-type {\n",
       "        vertical-align: middle;\n",
       "    }\n",
       "\n",
       "    .dataframe tbody tr th {\n",
       "        vertical-align: top;\n",
       "    }\n",
       "\n",
       "    .dataframe thead th {\n",
       "        text-align: right;\n",
       "    }\n",
       "</style>\n",
       "<table border=\"1\" class=\"dataframe\">\n",
       "  <thead>\n",
       "    <tr style=\"text-align: right;\">\n",
       "      <th></th>\n",
       "      <th>Label</th>\n",
       "      <th>Label_Num</th>\n",
       "    </tr>\n",
       "    <tr>\n",
       "      <th>Date</th>\n",
       "      <th></th>\n",
       "      <th></th>\n",
       "    </tr>\n",
       "  </thead>\n",
       "  <tbody>\n",
       "    <tr>\n",
       "      <th>1997/1/16</th>\n",
       "      <td>Little Low Point</td>\n",
       "      <td>1</td>\n",
       "    </tr>\n",
       "    <tr>\n",
       "      <th>1997/1/17</th>\n",
       "      <td>Little Low Point</td>\n",
       "      <td>1</td>\n",
       "    </tr>\n",
       "    <tr>\n",
       "      <th>1997/1/18</th>\n",
       "      <td>Little Low Point</td>\n",
       "      <td>1</td>\n",
       "    </tr>\n",
       "    <tr>\n",
       "      <th>1997/1/20</th>\n",
       "      <td>Little Low Point</td>\n",
       "      <td>1</td>\n",
       "    </tr>\n",
       "    <tr>\n",
       "      <th>1997/1/21</th>\n",
       "      <td>Low Point</td>\n",
       "      <td>2</td>\n",
       "    </tr>\n",
       "    <tr>\n",
       "      <th>1997/1/22</th>\n",
       "      <td>Low Point</td>\n",
       "      <td>2</td>\n",
       "    </tr>\n",
       "    <tr>\n",
       "      <th>1997/1/23</th>\n",
       "      <td>Little High Point</td>\n",
       "      <td>-1</td>\n",
       "    </tr>\n",
       "    <tr>\n",
       "      <th>1997/1/24</th>\n",
       "      <td>Little High Point</td>\n",
       "      <td>-1</td>\n",
       "    </tr>\n",
       "    <tr>\n",
       "      <th>1997/1/25</th>\n",
       "      <td>Little Low Point</td>\n",
       "      <td>1</td>\n",
       "    </tr>\n",
       "    <tr>\n",
       "      <th>1997/1/27</th>\n",
       "      <td>Little Low Point</td>\n",
       "      <td>1</td>\n",
       "    </tr>\n",
       "  </tbody>\n",
       "</table>\n",
       "</div>"
      ],
      "text/plain": [
       "                       Label  Label_Num\n",
       "Date                                   \n",
       "1997/1/16   Little Low Point          1\n",
       "1997/1/17   Little Low Point          1\n",
       "1997/1/18   Little Low Point          1\n",
       "1997/1/20   Little Low Point          1\n",
       "1997/1/21          Low Point          2\n",
       "1997/1/22          Low Point          2\n",
       "1997/1/23  Little High Point         -1\n",
       "1997/1/24  Little High Point         -1\n",
       "1997/1/25   Little Low Point          1\n",
       "1997/1/27   Little Low Point          1"
      ]
     },
     "execution_count": 45,
     "metadata": {},
     "output_type": "execute_result"
    }
   ],
   "source": [
    "y_data.head(10)"
   ]
  },
  {
   "cell_type": "markdown",
   "metadata": {},
   "source": [
    "y_data中的Label_Num分別是最前面的1,2,3,-1,-2,-3，我們將3設為1，表示買；2設為0，表示可買可不買；其餘設為-1表示不買"
   ]
  },
  {
   "cell_type": "code",
   "execution_count": 46,
   "metadata": {},
   "outputs": [
    {
     "data": {
      "text/html": [
       "<div>\n",
       "<style scoped>\n",
       "    .dataframe tbody tr th:only-of-type {\n",
       "        vertical-align: middle;\n",
       "    }\n",
       "\n",
       "    .dataframe tbody tr th {\n",
       "        vertical-align: top;\n",
       "    }\n",
       "\n",
       "    .dataframe thead th {\n",
       "        text-align: right;\n",
       "    }\n",
       "</style>\n",
       "<table border=\"1\" class=\"dataframe\">\n",
       "  <thead>\n",
       "    <tr style=\"text-align: right;\">\n",
       "      <th></th>\n",
       "      <th>Label</th>\n",
       "      <th>Label_Num</th>\n",
       "    </tr>\n",
       "    <tr>\n",
       "      <th>Date</th>\n",
       "      <th></th>\n",
       "      <th></th>\n",
       "    </tr>\n",
       "  </thead>\n",
       "  <tbody>\n",
       "    <tr>\n",
       "      <th>1997/1/16</th>\n",
       "      <td>Little Low Point</td>\n",
       "      <td>-1</td>\n",
       "    </tr>\n",
       "    <tr>\n",
       "      <th>1997/1/17</th>\n",
       "      <td>Little Low Point</td>\n",
       "      <td>-1</td>\n",
       "    </tr>\n",
       "    <tr>\n",
       "      <th>1997/1/18</th>\n",
       "      <td>Little Low Point</td>\n",
       "      <td>-1</td>\n",
       "    </tr>\n",
       "    <tr>\n",
       "      <th>1997/1/20</th>\n",
       "      <td>Little Low Point</td>\n",
       "      <td>-1</td>\n",
       "    </tr>\n",
       "    <tr>\n",
       "      <th>1997/1/21</th>\n",
       "      <td>Low Point</td>\n",
       "      <td>0</td>\n",
       "    </tr>\n",
       "  </tbody>\n",
       "</table>\n",
       "</div>"
      ],
      "text/plain": [
       "                      Label  Label_Num\n",
       "Date                                  \n",
       "1997/1/16  Little Low Point         -1\n",
       "1997/1/17  Little Low Point         -1\n",
       "1997/1/18  Little Low Point         -1\n",
       "1997/1/20  Little Low Point         -1\n",
       "1997/1/21         Low Point          0"
      ]
     },
     "execution_count": 46,
     "metadata": {},
     "output_type": "execute_result"
    }
   ],
   "source": [
    "# Transfer Label into one-hot-encoding form\n",
    "y_data_2 = y_data.copy()\n",
    "for index, row in y_data_2.iterrows():\n",
    "    #print(index, row)\n",
    "    if row[\"Label_Num\"] == 3:\n",
    "        y_data_2.loc[index, \"Label_Num\"] = 1\n",
    "    elif row[\"Label_Num\"] == 2:\n",
    "        y_data_2.loc[index, \"Label_Num\"] = 0\n",
    "    else:\n",
    "        y_data_2.loc[index, \"Label_Num\"] = -1\n",
    "y_data_2.head()"
   ]
  },
  {
   "cell_type": "code",
   "execution_count": 47,
   "metadata": {},
   "outputs": [
    {
     "data": {
      "text/plain": [
       "-1    4361\n",
       " 0     876\n",
       " 1     587\n",
       "Name: Label_Num, dtype: int64"
      ]
     },
     "execution_count": 47,
     "metadata": {},
     "output_type": "execute_result"
    }
   ],
   "source": [
    "y_data_2['Label_Num'].value_counts()"
   ]
  },
  {
   "cell_type": "code",
   "execution_count": 48,
   "metadata": {},
   "outputs": [
    {
     "data": {
      "text/html": [
       "<div>\n",
       "<style scoped>\n",
       "    .dataframe tbody tr th:only-of-type {\n",
       "        vertical-align: middle;\n",
       "    }\n",
       "\n",
       "    .dataframe tbody tr th {\n",
       "        vertical-align: top;\n",
       "    }\n",
       "\n",
       "    .dataframe thead th {\n",
       "        text-align: right;\n",
       "    }\n",
       "</style>\n",
       "<table border=\"1\" class=\"dataframe\">\n",
       "  <thead>\n",
       "    <tr style=\"text-align: right;\">\n",
       "      <th></th>\n",
       "      <th>Label_Num</th>\n",
       "    </tr>\n",
       "    <tr>\n",
       "      <th>Date</th>\n",
       "      <th></th>\n",
       "    </tr>\n",
       "  </thead>\n",
       "  <tbody>\n",
       "    <tr>\n",
       "      <th>1997/1/16</th>\n",
       "      <td>-1</td>\n",
       "    </tr>\n",
       "    <tr>\n",
       "      <th>1997/1/17</th>\n",
       "      <td>-1</td>\n",
       "    </tr>\n",
       "    <tr>\n",
       "      <th>1997/1/18</th>\n",
       "      <td>-1</td>\n",
       "    </tr>\n",
       "    <tr>\n",
       "      <th>1997/1/20</th>\n",
       "      <td>-1</td>\n",
       "    </tr>\n",
       "    <tr>\n",
       "      <th>1997/1/21</th>\n",
       "      <td>0</td>\n",
       "    </tr>\n",
       "  </tbody>\n",
       "</table>\n",
       "</div>"
      ],
      "text/plain": [
       "           Label_Num\n",
       "Date                \n",
       "1997/1/16         -1\n",
       "1997/1/17         -1\n",
       "1997/1/18         -1\n",
       "1997/1/20         -1\n",
       "1997/1/21          0"
      ]
     },
     "execution_count": 48,
     "metadata": {},
     "output_type": "execute_result"
    }
   ],
   "source": [
    "y_data_2 = y_data_2.drop(\"Label\", axis=1)\n",
    "y_data_2.head()"
   ]
  },
  {
   "cell_type": "code",
   "execution_count": 49,
   "metadata": {},
   "outputs": [],
   "source": [
    "y_data_2_ohe = pd.get_dummies(y_data_2['Label_Num'] )"
   ]
  },
  {
   "cell_type": "code",
   "execution_count": 50,
   "metadata": {},
   "outputs": [
    {
     "data": {
      "text/html": [
       "<div>\n",
       "<style scoped>\n",
       "    .dataframe tbody tr th:only-of-type {\n",
       "        vertical-align: middle;\n",
       "    }\n",
       "\n",
       "    .dataframe tbody tr th {\n",
       "        vertical-align: top;\n",
       "    }\n",
       "\n",
       "    .dataframe thead th {\n",
       "        text-align: right;\n",
       "    }\n",
       "</style>\n",
       "<table border=\"1\" class=\"dataframe\">\n",
       "  <thead>\n",
       "    <tr style=\"text-align: right;\">\n",
       "      <th></th>\n",
       "      <th>-1</th>\n",
       "      <th>0</th>\n",
       "      <th>1</th>\n",
       "    </tr>\n",
       "    <tr>\n",
       "      <th>Date</th>\n",
       "      <th></th>\n",
       "      <th></th>\n",
       "      <th></th>\n",
       "    </tr>\n",
       "  </thead>\n",
       "  <tbody>\n",
       "    <tr>\n",
       "      <th>1997/1/16</th>\n",
       "      <td>1</td>\n",
       "      <td>0</td>\n",
       "      <td>0</td>\n",
       "    </tr>\n",
       "    <tr>\n",
       "      <th>1997/1/17</th>\n",
       "      <td>1</td>\n",
       "      <td>0</td>\n",
       "      <td>0</td>\n",
       "    </tr>\n",
       "    <tr>\n",
       "      <th>1997/1/18</th>\n",
       "      <td>1</td>\n",
       "      <td>0</td>\n",
       "      <td>0</td>\n",
       "    </tr>\n",
       "    <tr>\n",
       "      <th>1997/1/20</th>\n",
       "      <td>1</td>\n",
       "      <td>0</td>\n",
       "      <td>0</td>\n",
       "    </tr>\n",
       "    <tr>\n",
       "      <th>1997/1/21</th>\n",
       "      <td>0</td>\n",
       "      <td>1</td>\n",
       "      <td>0</td>\n",
       "    </tr>\n",
       "  </tbody>\n",
       "</table>\n",
       "</div>"
      ],
      "text/plain": [
       "           -1   0   1\n",
       "Date                 \n",
       "1997/1/16   1   0   0\n",
       "1997/1/17   1   0   0\n",
       "1997/1/18   1   0   0\n",
       "1997/1/20   1   0   0\n",
       "1997/1/21   0   1   0"
      ]
     },
     "execution_count": 50,
     "metadata": {},
     "output_type": "execute_result"
    }
   ],
   "source": [
    "y_data_2_ohe.head()"
   ]
  },
  {
   "cell_type": "code",
   "execution_count": 51,
   "metadata": {},
   "outputs": [
    {
     "data": {
      "text/html": [
       "<div>\n",
       "<style scoped>\n",
       "    .dataframe tbody tr th:only-of-type {\n",
       "        vertical-align: middle;\n",
       "    }\n",
       "\n",
       "    .dataframe tbody tr th {\n",
       "        vertical-align: top;\n",
       "    }\n",
       "\n",
       "    .dataframe thead th {\n",
       "        text-align: right;\n",
       "    }\n",
       "</style>\n",
       "<table border=\"1\" class=\"dataframe\">\n",
       "  <thead>\n",
       "    <tr style=\"text-align: right;\">\n",
       "      <th></th>\n",
       "      <th>-1</th>\n",
       "      <th>0</th>\n",
       "      <th>1</th>\n",
       "    </tr>\n",
       "    <tr>\n",
       "      <th>Date</th>\n",
       "      <th></th>\n",
       "      <th></th>\n",
       "      <th></th>\n",
       "    </tr>\n",
       "  </thead>\n",
       "  <tbody>\n",
       "    <tr>\n",
       "      <th>1997/2/1</th>\n",
       "      <td>1</td>\n",
       "      <td>0</td>\n",
       "      <td>0</td>\n",
       "    </tr>\n",
       "    <tr>\n",
       "      <th>1997/2/3</th>\n",
       "      <td>1</td>\n",
       "      <td>0</td>\n",
       "      <td>0</td>\n",
       "    </tr>\n",
       "    <tr>\n",
       "      <th>1997/2/11</th>\n",
       "      <td>0</td>\n",
       "      <td>1</td>\n",
       "      <td>0</td>\n",
       "    </tr>\n",
       "    <tr>\n",
       "      <th>1997/2/12</th>\n",
       "      <td>0</td>\n",
       "      <td>1</td>\n",
       "      <td>0</td>\n",
       "    </tr>\n",
       "    <tr>\n",
       "      <th>1997/2/13</th>\n",
       "      <td>1</td>\n",
       "      <td>0</td>\n",
       "      <td>0</td>\n",
       "    </tr>\n",
       "  </tbody>\n",
       "</table>\n",
       "</div>"
      ],
      "text/plain": [
       "           -1   0   1\n",
       "Date                 \n",
       "1997/2/1    1   0   0\n",
       "1997/2/3    1   0   0\n",
       "1997/2/11   0   1   0\n",
       "1997/2/12   0   1   0\n",
       "1997/2/13   1   0   0"
      ]
     },
     "execution_count": 51,
     "metadata": {},
     "output_type": "execute_result"
    }
   ],
   "source": [
    "y_data_2_ohe = y_data_2_ohe[14:]\n",
    "y_data_2_ohe.head()"
   ]
  },
  {
   "cell_type": "code",
   "execution_count": 52,
   "metadata": {},
   "outputs": [
    {
     "name": "stdout",
     "output_type": "stream",
     "text": [
      "(4066, 7)\n",
      "(4066, 3)\n",
      "(1744, 7)\n",
      "(1744, 3)\n"
     ]
    }
   ],
   "source": [
    "# Split the data into training and testing set with 7:3 ratio\n",
    "cut = int( x_data_sel.shape[0] * 0.7 )\n",
    "x_train, x_test, y_train_2, y_test_2 = x_data_sel[:cut], x_data_sel[cut:], y_data_2_ohe[:cut], y_data_2_ohe[cut:]\n",
    "print(x_train.shape)\n",
    "print(y_train_2.shape)\n",
    "print(x_test.shape)\n",
    "print(y_test_2.shape)"
   ]
  },
  {
   "cell_type": "code",
   "execution_count": 53,
   "metadata": {},
   "outputs": [
    {
     "name": "stdout",
     "output_type": "stream",
     "text": [
      "The ratios =  0.7466797835710772 0.13748155435317266 0.11583866207575012\n"
     ]
    }
   ],
   "source": [
    "total_num = len(y_train_2)\n",
    "sum_not = sum(y_train_2.iloc[:,0])\n",
    "sum_neu = sum(y_train_2.iloc[:,1])\n",
    "sum_buy = sum(y_train_2.iloc[:,2])\n",
    "print(\"The ratios = \", sum_not/total_num, sum_neu/total_num, sum_buy/total_num)"
   ]
  },
  {
   "cell_type": "code",
   "execution_count": 54,
   "metadata": {},
   "outputs": [],
   "source": [
    "y_train_2 = y_train_2.values\n",
    "y_test_2 = y_test_2.values"
   ]
  },
  {
   "cell_type": "code",
   "execution_count": 55,
   "metadata": {},
   "outputs": [
    {
     "data": {
      "text/plain": [
       "array([[1, 0, 0],\n",
       "       [1, 0, 0],\n",
       "       [0, 1, 0],\n",
       "       [0, 1, 0],\n",
       "       [1, 0, 0],\n",
       "       [1, 0, 0],\n",
       "       [1, 0, 0],\n",
       "       [1, 0, 0],\n",
       "       [1, 0, 0],\n",
       "       [1, 0, 0]], dtype=uint8)"
      ]
     },
     "execution_count": 55,
     "metadata": {},
     "output_type": "execute_result"
    }
   ],
   "source": [
    "y_train_2[:10]"
   ]
  },
  {
   "cell_type": "code",
   "execution_count": 56,
   "metadata": {},
   "outputs": [
    {
     "name": "stdout",
     "output_type": "stream",
     "text": [
      "(3266, 7) (3266, 3)\n",
      "(800, 7) (800, 3)\n"
     ]
    }
   ],
   "source": [
    "# Split the training data into partial training set and validation set\n",
    "partial_x_train = x_train_std[:-800]\n",
    "x_val = x_train_std[-800:]\n",
    "partial_y_train_2 = y_train_2[:-800]\n",
    "y_val_2 = y_train_2[-800:]\n",
    "print(partial_x_train.shape, partial_y_train_2.shape)\n",
    "print(x_val.shape, y_val_2.shape)"
   ]
  },
  {
   "cell_type": "code",
   "execution_count": 102,
   "metadata": {},
   "outputs": [],
   "source": [
    "def build_model_2(partial_x_train, partial_y_train, x_val, y_val, epochs, batch_size):\n",
    "    model = models.Sequential()\n",
    "    #model.add(layers.Dropout(0.3))\n",
    "    model.add(layers.Dense(16, activation='relu', input_shape=(partial_x_train.shape[1],)))\n",
    "    #model.add(layers.Dropout(0.3))\n",
    "    model.add(layers.Dense(16, activation='relu'))\n",
    "    model.add(layers.Dense(16, activation='relu'))\n",
    "    model.add(layers.Dense(8, activation='relu'))\n",
    "    model.add(layers.Dense(3, activation='softmax'))\n",
    "    \n",
    "    keras.optimizers.RMSprop(lr=0.0001)\n",
    "    \n",
    "    model.compile(optimizer='rmsprop',\n",
    "                  loss='categorical_crossentropy',\n",
    "                  metrics=['accuracy'],)\n",
    "    class_weight = {0:0.2, 1:0.85, 2:1.2}\n",
    "\n",
    "    history = model.fit(partial_x_train,\n",
    "                        partial_y_train,\n",
    "                        epochs=epochs,\n",
    "                        batch_size=batch_size,\n",
    "                        validation_data=(x_val, y_val),\n",
    "                        verbose=2,\n",
    "                        class_weight = class_weight)\n",
    "    return (model, history)"
   ]
  },
  {
   "cell_type": "code",
   "execution_count": 103,
   "metadata": {},
   "outputs": [
    {
     "name": "stdout",
     "output_type": "stream",
     "text": [
      "Train on 3266 samples, validate on 800 samples\n",
      "Epoch 1/10\n",
      " - 1s - loss: 0.4453 - accuracy: 0.6764 - val_loss: 1.0739 - val_accuracy: 0.7400\n",
      "Epoch 2/10\n",
      " - 0s - loss: 0.4436 - accuracy: 0.7376 - val_loss: 1.0665 - val_accuracy: 0.6212\n",
      "Epoch 3/10\n",
      " - 0s - loss: 0.4423 - accuracy: 0.6503 - val_loss: 1.0485 - val_accuracy: 0.7025\n",
      "Epoch 4/10\n",
      " - 0s - loss: 0.4413 - accuracy: 0.6663 - val_loss: 1.0367 - val_accuracy: 0.6975\n",
      "Epoch 5/10\n",
      " - 0s - loss: 0.4404 - accuracy: 0.6549 - val_loss: 1.0139 - val_accuracy: 0.7312\n",
      "Epoch 6/10\n",
      " - 0s - loss: 0.4396 - accuracy: 0.6754 - val_loss: 1.0103 - val_accuracy: 0.7200\n",
      "Epoch 7/10\n",
      " - 0s - loss: 0.4387 - accuracy: 0.6522 - val_loss: 1.0187 - val_accuracy: 0.6963\n",
      "Epoch 8/10\n",
      " - 0s - loss: 0.4375 - accuracy: 0.6418 - val_loss: 1.0117 - val_accuracy: 0.6900\n",
      "Epoch 9/10\n",
      " - 0s - loss: 0.4365 - accuracy: 0.6271 - val_loss: 1.0130 - val_accuracy: 0.6637\n",
      "Epoch 10/10\n",
      " - 0s - loss: 0.4350 - accuracy: 0.6133 - val_loss: 0.9771 - val_accuracy: 0.7150\n"
     ]
    }
   ],
   "source": [
    "model_2, history_2 = build_model_2(partial_x_train,partial_y_train_2,x_val, y_val_2,epochs=10, batch_size=90)"
   ]
  },
  {
   "cell_type": "code",
   "execution_count": 104,
   "metadata": {},
   "outputs": [
    {
     "data": {
      "image/png": "[encoded data removed]",
      "text/plain": [
       "<Figure size 432x288 with 1 Axes>"
      ]
     },
     "metadata": {
      "needs_background": "light"
     },
     "output_type": "display_data"
    },
    {
     "data": {
      "image/png": "[encoded data removed]",
      "text/plain": [
       "<Figure size 432x288 with 1 Axes>"
      ]
     },
     "metadata": {
      "needs_background": "light"
     },
     "output_type": "display_data"
    }
   ],
   "source": [
    "# Plot\n",
    "loss_plot(history_2)\n",
    "accu_plot(history_2)"
   ]
  },
  {
   "cell_type": "code",
   "execution_count": 105,
   "metadata": {},
   "outputs": [
    {
     "data": {
      "text/plain": [
       "array([[0.41173306, 0.29452097, 0.29374602],\n",
       "       [0.42867193, 0.29857287, 0.2727552 ],\n",
       "       [0.42813393, 0.29822108, 0.27364495],\n",
       "       ...,\n",
       "       [0.43007234, 0.2985535 , 0.2713742 ],\n",
       "       [0.42693502, 0.29702088, 0.27604407],\n",
       "       [0.42483976, 0.2969015 , 0.2782588 ]], dtype=float32)"
      ]
     },
     "execution_count": 105,
     "metadata": {},
     "output_type": "execute_result"
    }
   ],
   "source": [
    "y_pre2 = model_2.predict(x_test_std)\n",
    "y_pre2"
   ]
  },
  {
   "cell_type": "code",
   "execution_count": 106,
   "metadata": {},
   "outputs": [],
   "source": [
    "pre_final_2 = np.argmax(y_pre2,axis=1)"
   ]
  },
  {
   "cell_type": "code",
   "execution_count": 107,
   "metadata": {},
   "outputs": [
    {
     "data": {
      "text/plain": [
       "{0: 1669, 2: 75}"
      ]
     },
     "execution_count": 107,
     "metadata": {},
     "output_type": "execute_result"
    }
   ],
   "source": [
    "unique2, counts2 = np.unique(pre_final_2, return_counts=True)\n",
    "dict(zip(unique2, counts2))"
   ]
  },
  {
   "cell_type": "code",
   "execution_count": 108,
   "metadata": {},
   "outputs": [
    {
     "data": {
      "text/html": [
       "<div>\n",
       "<style scoped>\n",
       "    .dataframe tbody tr th:only-of-type {\n",
       "        vertical-align: middle;\n",
       "    }\n",
       "\n",
       "    .dataframe tbody tr th {\n",
       "        vertical-align: top;\n",
       "    }\n",
       "\n",
       "    .dataframe thead th {\n",
       "        text-align: right;\n",
       "    }\n",
       "</style>\n",
       "<table border=\"1\" class=\"dataframe\">\n",
       "  <thead>\n",
       "    <tr style=\"text-align: right;\">\n",
       "      <th></th>\n",
       "      <th>Date</th>\n",
       "    </tr>\n",
       "  </thead>\n",
       "  <tbody>\n",
       "    <tr>\n",
       "      <th>0</th>\n",
       "      <td>2012/11/20</td>\n",
       "    </tr>\n",
       "    <tr>\n",
       "      <th>1</th>\n",
       "      <td>2012/11/21</td>\n",
       "    </tr>\n",
       "    <tr>\n",
       "      <th>2</th>\n",
       "      <td>2012/11/22</td>\n",
       "    </tr>\n",
       "    <tr>\n",
       "      <th>3</th>\n",
       "      <td>2012/11/23</td>\n",
       "    </tr>\n",
       "    <tr>\n",
       "      <th>4</th>\n",
       "      <td>2012/11/26</td>\n",
       "    </tr>\n",
       "  </tbody>\n",
       "</table>\n",
       "</div>"
      ],
      "text/plain": [
       "         Date\n",
       "0  2012/11/20\n",
       "1  2012/11/21\n",
       "2  2012/11/22\n",
       "3  2012/11/23\n",
       "4  2012/11/26"
      ]
     },
     "execution_count": 108,
     "metadata": {},
     "output_type": "execute_result"
    }
   ],
   "source": [
    "date_sel = date.iloc[-1752:].copy()\n",
    "date_sel = date_sel.reset_index().drop('index', axis=1)\n",
    "date_sel.head()"
   ]
  },
  {
   "cell_type": "code",
   "execution_count": 109,
   "metadata": {},
   "outputs": [
    {
     "data": {
      "text/html": [
       "<div>\n",
       "<style scoped>\n",
       "    .dataframe tbody tr th:only-of-type {\n",
       "        vertical-align: middle;\n",
       "    }\n",
       "\n",
       "    .dataframe tbody tr th {\n",
       "        vertical-align: top;\n",
       "    }\n",
       "\n",
       "    .dataframe thead th {\n",
       "        text-align: right;\n",
       "    }\n",
       "</style>\n",
       "<table border=\"1\" class=\"dataframe\">\n",
       "  <thead>\n",
       "    <tr style=\"text-align: right;\">\n",
       "      <th></th>\n",
       "      <th>Date</th>\n",
       "      <th>Label</th>\n",
       "    </tr>\n",
       "  </thead>\n",
       "  <tbody>\n",
       "    <tr>\n",
       "      <th>0</th>\n",
       "      <td>2012/11/20</td>\n",
       "      <td>0.0</td>\n",
       "    </tr>\n",
       "    <tr>\n",
       "      <th>1</th>\n",
       "      <td>2012/11/21</td>\n",
       "      <td>0.0</td>\n",
       "    </tr>\n",
       "    <tr>\n",
       "      <th>2</th>\n",
       "      <td>2012/11/22</td>\n",
       "      <td>0.0</td>\n",
       "    </tr>\n",
       "    <tr>\n",
       "      <th>3</th>\n",
       "      <td>2012/11/23</td>\n",
       "      <td>0.0</td>\n",
       "    </tr>\n",
       "    <tr>\n",
       "      <th>4</th>\n",
       "      <td>2012/11/26</td>\n",
       "      <td>0.0</td>\n",
       "    </tr>\n",
       "    <tr>\n",
       "      <th>5</th>\n",
       "      <td>2012/11/27</td>\n",
       "      <td>0.0</td>\n",
       "    </tr>\n",
       "    <tr>\n",
       "      <th>6</th>\n",
       "      <td>2012/11/28</td>\n",
       "      <td>0.0</td>\n",
       "    </tr>\n",
       "    <tr>\n",
       "      <th>7</th>\n",
       "      <td>2012/11/29</td>\n",
       "      <td>0.0</td>\n",
       "    </tr>\n",
       "    <tr>\n",
       "      <th>8</th>\n",
       "      <td>2012/11/30</td>\n",
       "      <td>0.0</td>\n",
       "    </tr>\n",
       "    <tr>\n",
       "      <th>9</th>\n",
       "      <td>2012/12/3</td>\n",
       "      <td>0.0</td>\n",
       "    </tr>\n",
       "  </tbody>\n",
       "</table>\n",
       "</div>"
      ],
      "text/plain": [
       "         Date  Label\n",
       "0  2012/11/20    0.0\n",
       "1  2012/11/21    0.0\n",
       "2  2012/11/22    0.0\n",
       "3  2012/11/23    0.0\n",
       "4  2012/11/26    0.0\n",
       "5  2012/11/27    0.0\n",
       "6  2012/11/28    0.0\n",
       "7  2012/11/29    0.0\n",
       "8  2012/11/30    0.0\n",
       "9   2012/12/3    0.0"
      ]
     },
     "execution_count": 109,
     "metadata": {},
     "output_type": "execute_result"
    }
   ],
   "source": [
    "predict_file_2 = pd.concat( [date_sel['Date'], pd.Series(pre_final_2)], axis=1 )\n",
    "predict_file_2.columns = ['Date', 'Label']\n",
    "predict_file_2[:10]"
   ]
  },
  {
   "cell_type": "code",
   "execution_count": 110,
   "metadata": {},
   "outputs": [],
   "source": [
    "predict_file_2.to_csv(\"Prediction_2.csv\", index = False)"
   ]
  },
  {
   "cell_type": "code",
   "execution_count": 111,
   "metadata": {},
   "outputs": [
    {
     "data": {
      "text/plain": [
       "array([0, 0, 0, ..., 0, 0, 0], dtype=int64)"
      ]
     },
     "execution_count": 111,
     "metadata": {},
     "output_type": "execute_result"
    }
   ],
   "source": [
    "pre_final_2"
   ]
  },
  {
   "cell_type": "code",
   "execution_count": 112,
   "metadata": {},
   "outputs": [
    {
     "data": {
      "text/plain": [
       "array([0, 0, 1, ..., 0, 0, 0], dtype=int64)"
      ]
     },
     "execution_count": 112,
     "metadata": {},
     "output_type": "execute_result"
    }
   ],
   "source": [
    "y_test_2_index = np.argmax(y_test_2, axis=1)\n",
    "y_test_2_index"
   ]
  },
  {
   "cell_type": "code",
   "execution_count": 113,
   "metadata": {},
   "outputs": [],
   "source": [
    "cm2 = confusion_matrix( y_test_2_index,pre_final_2, normalize='all')"
   ]
  },
  {
   "cell_type": "code",
   "execution_count": 114,
   "metadata": {},
   "outputs": [
    {
     "data": {
      "image/png": "[encoded data removed]",
      "text/plain": [
       "<Figure size 396x288 with 2 Axes>"
      ]
     },
     "metadata": {
      "needs_background": "light"
     },
     "output_type": "display_data"
    }
   ],
   "source": [
    "cm2_df = pd.DataFrame(cm2,\n",
    "                     index = ['Not buy','Neutral','Buy'], \n",
    "                     columns = ['Not buy','Neutral','Buy'])\n",
    "\n",
    "plt.figure(figsize=(5.5,4))\n",
    "sns.heatmap(cm2_df, annot=True)\n",
    "plt.ylabel('True label')\n",
    "plt.xlabel('Predicted label')\n",
    "plt.show()"
   ]
  },
  {
   "cell_type": "code",
   "execution_count": null,
   "metadata": {},
   "outputs": [],
   "source": []
  }
 ],
 "metadata": {
  "kernelspec": {
   "display_name": "Python 3",
   "language": "python",
   "name": "python3"
  },
  "language_info": {
   "codemirror_mode": {
    "name": "ipython",
    "version": 3
   },
   "file_extension": ".py",
   "mimetype": "text/x-python",
   "name": "python",
   "nbconvert_exporter": "python",
   "pygments_lexer": "ipython3",
   "version": "3.7.3"
  }
 },
 "nbformat": 4,
 "nbformat_minor": 4
}
