{
 "cells": [
  {
   "cell_type": "code",
   "execution_count": 1,
   "metadata": {
    "colab": {
     "base_uri": "https://localhost:8080/",
     "height": 34
    },
    "colab_type": "code",
    "id": "DAwqgMGVV8bd",
    "outputId": "253165f3-b1d4-4f7d-82a5-39a36aa7e848"
   },
   "outputs": [
    {
     "name": "stdout",
     "output_type": "stream",
     "text": [
      "/content/drive/My Drive/Colab Notebooks\n"
     ]
    }
   ],
   "source": [
    "%cd /content/drive/My Drive/Colab Notebooks"
   ]
  },
  {
   "cell_type": "markdown",
   "metadata": {
    "colab_type": "text",
    "id": "_IPtGIbCWjhR"
   },
   "source": [
    "Word2vec"
   ]
  },
  {
   "cell_type": "code",
   "execution_count": 0,
   "metadata": {
    "colab": {},
    "colab_type": "code",
    "id": "BtfWNsCUWPU6"
   },
   "outputs": [],
   "source": [
    "import pandas as pd\n",
    "from gensim.models import Word2Vec #把word to bag轉為向量的用法\n",
    "import jieba"
   ]
  },
  {
   "cell_type": "code",
   "execution_count": 0,
   "metadata": {
    "colab": {},
    "colab_type": "code",
    "id": "lwso-F5tWSV6"
   },
   "outputs": [],
   "source": [
    "article = pd.read_excel('Cut_Finish_jieba.xlsx')"
   ]
  },
  {
   "cell_type": "code",
   "execution_count": 4,
   "metadata": {
    "colab": {
     "base_uri": "https://localhost:8080/",
     "height": 195
    },
    "colab_type": "code",
    "id": "m6zS9EWjWUgR",
    "outputId": "98b3905a-0daa-4ae0-86a1-104b81c5b8c8"
   },
   "outputs": [
    {
     "data": {
      "text/html": [
       "<div>\n",
       "<style scoped>\n",
       "    .dataframe tbody tr th:only-of-type {\n",
       "        vertical-align: middle;\n",
       "    }\n",
       "\n",
       "    .dataframe tbody tr th {\n",
       "        vertical-align: top;\n",
       "    }\n",
       "\n",
       "    .dataframe thead th {\n",
       "        text-align: right;\n",
       "    }\n",
       "</style>\n",
       "<table border=\"1\" class=\"dataframe\">\n",
       "  <thead>\n",
       "    <tr style=\"text-align: right;\">\n",
       "      <th></th>\n",
       "      <th>內容</th>\n",
       "    </tr>\n",
       "  </thead>\n",
       "  <tbody>\n",
       "    <tr>\n",
       "      <th>0</th>\n",
       "      <td>行動電話   ( 2G )   業務 將在 今年   6   月   30   日 依法 屆...</td>\n",
       "    </tr>\n",
       "    <tr>\n",
       "      <th>1</th>\n",
       "      <td>蘋果 台北 直營店 即將 開幕 ， 是否 會 衝擊 神腦   ( 2450 - TW )  ...</td>\n",
       "    </tr>\n",
       "    <tr>\n",
       "      <th>2</th>\n",
       "      <td>有 鑑於 東南亞 熟手 不如 中國 來得 多 ， 成衣 大廠 聚陽   ( 1477 - T...</td>\n",
       "    </tr>\n",
       "    <tr>\n",
       "      <th>3</th>\n",
       "      <td>台股 今   ( 14 )   日因 市場 觀望 美國 聯準會 即將 公布 的 利率 決策 ...</td>\n",
       "    </tr>\n",
       "    <tr>\n",
       "      <th>4</th>\n",
       "      <td>沖壓件 及 汽車零組件 廠 佳穎 精密   ( 3310 - TW )   去年 稅後純益 ...</td>\n",
       "    </tr>\n",
       "  </tbody>\n",
       "</table>\n",
       "</div>"
      ],
      "text/plain": [
       "                                                  內容\n",
       "0  行動電話   ( 2G )   業務 將在 今年   6   月   30   日 依法 屆...\n",
       "1  蘋果 台北 直營店 即將 開幕 ， 是否 會 衝擊 神腦   ( 2450 - TW )  ...\n",
       "2  有 鑑於 東南亞 熟手 不如 中國 來得 多 ， 成衣 大廠 聚陽   ( 1477 - T...\n",
       "3  台股 今   ( 14 )   日因 市場 觀望 美國 聯準會 即將 公布 的 利率 決策 ...\n",
       "4  沖壓件 及 汽車零組件 廠 佳穎 精密   ( 3310 - TW )   去年 稅後純益 ..."
      ]
     },
     "execution_count": 4,
     "metadata": {
      "tags": []
     },
     "output_type": "execute_result"
    }
   ],
   "source": [
    "article.head()"
   ]
  },
  {
   "cell_type": "code",
   "execution_count": 5,
   "metadata": {
    "colab": {
     "base_uri": "https://localhost:8080/",
     "height": 70
    },
    "colab_type": "code",
    "id": "sSx2KkiIWVbh",
    "outputId": "1ae4aa74-5ae8-4a4f-d9bf-fd4bf753686c"
   },
   "outputs": [
    {
     "name": "stderr",
     "output_type": "stream",
     "text": [
      "/usr/local/lib/python3.6/dist-packages/smart_open/smart_open_lib.py:253: UserWarning: This function is deprecated, use smart_open.open instead. See the migration notes for details: https://github.com/RaRe-Technologies/smart_open/blob/master/README.rst#migrating-to-the-new-open-function\n",
      "  'See the migration notes for details: %s' % _MIGRATION_NOTES_URL\n"
     ]
    }
   ],
   "source": [
    "sentences = article['內容'].tolist()\n",
    "split_sentences = []\n",
    "for i in sentences:\n",
    "    split_sentences.append(i.split(' '))\n",
    "# build a Word2Vce model\n",
    "model = Word2Vec(split_sentences, size=500, window=10, min_count=5, workers=4)\n",
    "model.save(\"word2vec_stock.model\")"
   ]
  },
  {
   "cell_type": "code",
   "execution_count": 9,
   "metadata": {
    "colab": {
     "base_uri": "https://localhost:8080/",
     "height": 171
    },
    "colab_type": "code",
    "id": "JYD-0AlxWaUa",
    "outputId": "4420c274-1cd8-43a0-9d19-e81f46a88a01"
   },
   "outputs": [
    {
     "name": "stdout",
     "output_type": "stream",
     "text": [
      "[('新光金', 0.9997745752334595), ('中心', 0.9996595978736877), ('廠商', 0.9996100664138794), ('彭双浪', 0.9995987415313721), ('其', 0.9995471835136414)]\n",
      "[('蔡明介', 0.9998876452445984), ('蘋概股', 0.9992575645446777), ('建大', 0.9992502331733704), ('蔡力行', 0.9991706609725952), ('100G', 0.9991198182106018)]\n"
     ]
    },
    {
     "name": "stderr",
     "output_type": "stream",
     "text": [
      "/usr/local/lib/python3.6/dist-packages/ipykernel_launcher.py:1: DeprecationWarning: Call to deprecated `most_similar` (Method will be removed in 4.0.0, use self.wv.most_similar() instead).\n",
      "  \"\"\"Entry point for launching an IPython kernel.\n",
      "/usr/local/lib/python3.6/dist-packages/gensim/matutils.py:737: FutureWarning: Conversion of the second argument of issubdtype from `int` to `np.signedinteger` is deprecated. In future, it will be treated as `np.int64 == np.dtype(int).type`.\n",
      "  if np.issubdtype(vec.dtype, np.int):\n",
      "/usr/local/lib/python3.6/dist-packages/ipykernel_launcher.py:2: DeprecationWarning: Call to deprecated `most_similar` (Method will be removed in 4.0.0, use self.wv.most_similar() instead).\n",
      "  \n"
     ]
    }
   ],
   "source": [
    "print(model.most_similar(\"台積電\", topn=5))\n",
    "print(model.most_similar(\"鴻海\", topn=5))"
   ]
  },
  {
   "cell_type": "markdown",
   "metadata": {
    "colab_type": "text",
    "id": "eFCmTtAbWmUB"
   },
   "source": [
    "Doc2vec"
   ]
  },
  {
   "cell_type": "markdown",
   "metadata": {},
   "source": [
    "有label"
   ]
  },
  {
   "cell_type": "code",
   "execution_count": 0,
   "metadata": {
    "colab": {},
    "colab_type": "code",
    "id": "3D_SyzTbWnbL"
   },
   "outputs": [],
   "source": [
    "from gensim.models.doc2vec import Doc2Vec,TaggedDocument\n",
    "import jieba\n",
    "import pandas as pd"
   ]
  },
  {
   "cell_type": "code",
   "execution_count": 0,
   "metadata": {
    "colab": {},
    "colab_type": "code",
    "id": "p9ucwHY-Wrps"
   },
   "outputs": [],
   "source": [
    "article = pd.read_excel('Cut_Finish_jieba.xlsx')"
   ]
  },
  {
   "cell_type": "code",
   "execution_count": 0,
   "metadata": {
    "colab": {},
    "colab_type": "code",
    "id": "KD4_U1dkWwBV"
   },
   "outputs": [],
   "source": [
    "sentences = article['內容'].tolist()\n",
    "split_sentences = []\n",
    "\n",
    "for i in sentences:\n",
    "    split_sentences.append(i.split(' '))\n",
    "\n",
    "documents = [TaggedDocument(doc, [i]) for i, doc in enumerate(split_sentences)]"
   ]
  },
  {
   "cell_type": "code",
   "execution_count": 14,
   "metadata": {
    "colab": {
     "base_uri": "https://localhost:8080/",
     "height": 104
    },
    "colab_type": "code",
    "id": "VE2nSwKlW0nk",
    "outputId": "b5601052-7630-4b35-d4cb-8fbe3810fadb"
   },
   "outputs": [
    {
     "name": "stderr",
     "output_type": "stream",
     "text": [
      "/usr/local/lib/python3.6/dist-packages/gensim/models/doc2vec.py:570: UserWarning: The parameter `size` is deprecated, will be removed in 4.0.0, use `vector_size` instead.\n",
      "  warnings.warn(\"The parameter `size` is deprecated, will be removed in 4.0.0, use `vector_size` instead.\")\n",
      "/usr/local/lib/python3.6/dist-packages/smart_open/smart_open_lib.py:253: UserWarning: This function is deprecated, use smart_open.open instead. See the migration notes for details: https://github.com/RaRe-Technologies/smart_open/blob/master/README.rst#migrating-to-the-new-open-function\n",
      "  'See the migration notes for details: %s' % _MIGRATION_NOTES_URL\n"
     ]
    }
   ],
   "source": [
    "model = Doc2Vec(documents, size=500, window=5, min_count=5, workers=4, epoch=5000)\n",
    "model.save(\"doc2vec_stock.model\")"
   ]
  },
  {
   "cell_type": "code",
   "execution_count": 15,
   "metadata": {
    "colab": {
     "base_uri": "https://localhost:8080/",
     "height": 205
    },
    "colab_type": "code",
    "id": "1NKm0djcW7V9",
    "outputId": "2f612949-5a77-493a-a011-af4a37100318"
   },
   "outputs": [
    {
     "name": "stdout",
     "output_type": "stream",
     "text": [
      "[('中', 0.9999454021453857), ('其他', 0.9999414086341858), ('品牌', 0.9999327659606934), ('業務', 0.9999299049377441), ('生產', 0.9999286532402039)]\n",
      "[('聯發科', 0.9998651146888733), ('蔡明介', 0.9998112916946411), ('蔡明興', 0.9997995495796204), ('指出', 0.9997704029083252), ('觀察', 0.9997522234916687)]\n"
     ]
    },
    {
     "name": "stderr",
     "output_type": "stream",
     "text": [
      "/usr/local/lib/python3.6/dist-packages/smart_open/smart_open_lib.py:253: UserWarning: This function is deprecated, use smart_open.open instead. See the migration notes for details: https://github.com/RaRe-Technologies/smart_open/blob/master/README.rst#migrating-to-the-new-open-function\n",
      "  'See the migration notes for details: %s' % _MIGRATION_NOTES_URL\n",
      "/usr/local/lib/python3.6/dist-packages/ipykernel_launcher.py:3: DeprecationWarning: Call to deprecated `most_similar` (Method will be removed in 4.0.0, use self.wv.most_similar() instead).\n",
      "  This is separate from the ipykernel package so we can avoid doing imports until\n",
      "/usr/local/lib/python3.6/dist-packages/gensim/matutils.py:737: FutureWarning: Conversion of the second argument of issubdtype from `int` to `np.signedinteger` is deprecated. In future, it will be treated as `np.int64 == np.dtype(int).type`.\n",
      "  if np.issubdtype(vec.dtype, np.int):\n",
      "/usr/local/lib/python3.6/dist-packages/ipykernel_launcher.py:4: DeprecationWarning: Call to deprecated `most_similar` (Method will be removed in 4.0.0, use self.wv.most_similar() instead).\n",
      "  after removing the cwd from sys.path.\n"
     ]
    }
   ],
   "source": [
    "model = Doc2Vec.load(\"doc2vec_stock.model\")\n",
    "\n",
    "print(model.most_similar(\"台積電\", topn=5))\n",
    "print(model.most_similar(\"鴻海\", topn=5))"
   ]
  }
 ],
 "metadata": {
  "colab": {
   "collapsed_sections": [],
   "name": "w2v.ipynb",
   "provenance": []
  },
  "kernelspec": {
   "display_name": "Python 3",
   "language": "python",
   "name": "python3"
  },
  "language_info": {
   "codemirror_mode": {
    "name": "ipython",
    "version": 3
   },
   "file_extension": ".py",
   "mimetype": "text/x-python",
   "name": "python",
   "nbconvert_exporter": "python",
   "pygments_lexer": "ipython3",
   "version": "3.7.1"
  }
 },
 "nbformat": 4,
 "nbformat_minor": 1
}
