{
 "cells": [
  {
   "cell_type": "code",
   "execution_count": 1,
   "metadata": {},
   "outputs": [],
   "source": [
    "import time\n",
    "import requests\n",
    "import pandas as pd\n",
    "from bs4 import BeautifulSoup\n",
    "from selenium import webdriver\n",
    "from selenium.webdriver.common.action_chains import ActionChains\n",
    "from selenium.webdriver.common.keys import Keys"
   ]
  },
  {
   "cell_type": "code",
   "execution_count": 2,
   "metadata": {},
   "outputs": [],
   "source": [
    "#1997/01/04 ~ 2008/06/30 csv\n",
    "driver = webdriver.Chrome(executable_path=r'/Users/chenboyu/Desktop/野村投信/chromedriver')\n",
    "driver.get('https://www.yesfund.com.tw/w/wr/wr02_ACKH04-6528_0_1997-1-1_2020-4-11.djhtm')\n",
    "time.sleep(5)\n",
    "chart = driver.find_element_by_class_name(\"opsSensor\").click()\n",
    "infoDataFrame = pd.DataFrame(columns = [\"Date\",\"Price\"])\n",
    "num = 0\n",
    "while(True):\n",
    "    info = driver.find_element_by_class_name(\"opsNote\").text\n",
    "    date = info.split(\" \")[0]\n",
    "    price = info.split(\" \")[1][0:5]\n",
    "    infoDataFrame.loc[num] = [date,price]\n",
    "    actions = ActionChains(driver)\n",
    "    actions.send_keys(Keys.LEFT)\n",
    "    actions.perform()\n",
    "    num += 1\n",
    "    if(date == \"1997/01/04\"):\n",
    "        infoDataFrame.to_csv(r'info1.csv', index = True)\n",
    "        break"
   ]
  },
  {
   "cell_type": "code",
   "execution_count": 3,
   "metadata": {},
   "outputs": [],
   "source": [
    "#2008/06/30 ~ 2020/04/09 csv\n",
    "driver = webdriver.Chrome(executable_path=r'/Users/chenboyu/Desktop/野村投信/chromedriver')\n",
    "driver.get('https://www.yesfund.com.tw/w/wr/wr02_ACKH04-6528_0_1997-1-1_2020-4-11.djhtm')\n",
    "time.sleep(5)\n",
    "chart = driver.find_element_by_class_name(\"opsSensor\").click()\n",
    "infoDataFrame = pd.DataFrame(columns = [\"Date\",\"Price\"])\n",
    "num = 0\n",
    "while(True):\n",
    "    info = driver.find_element_by_class_name(\"opsNote\").text\n",
    "    date = info.split(\" \")[0]\n",
    "    price = info.split(\" \")[1][0:5]\n",
    "    infoDataFrame.loc[num] = [date,price]\n",
    "    actions = ActionChains(driver)\n",
    "    actions.send_keys(Keys.RIGHT)\n",
    "    actions.perform()\n",
    "    num += 1\n",
    "    if(date == \"2020/04/09\"):\n",
    "        infoDataFrame.to_csv(r'info2.csv', index = True)\n",
    "        break"
   ]
  },
  {
   "cell_type": "code",
   "execution_count": 13,
   "metadata": {},
   "outputs": [],
   "source": [
    "info1DataFrame = pd.read_csv(\"info1.csv\").sort_values(by=['Date'])\n",
    "info1DataFrame = info1DataFrame.loc[:, ~info1DataFrame.columns.str.contains('^Unnamed')]\n",
    "info2DataFrame = pd.read_csv(\"info2.csv\")\n",
    "info2DataFrame = info2DataFrame.loc[:, ~info2DataFrame.columns.str.contains('^Unnamed')]\n",
    "\n",
    "infoDataFrame = pd.concat([info1DataFrame, info2DataFrame], axis=0, ignore_index=True)\n",
    "infoDataFrame.to_csv(r'Nomura_Global_Equity_Fund.csv')"
   ]
  },
  {
   "cell_type": "code",
   "execution_count": null,
   "metadata": {},
   "outputs": [],
   "source": []
  }
 ],
 "metadata": {
  "kernelspec": {
   "display_name": "Python 3",
   "language": "python",
   "name": "python3"
  },
  "language_info": {
   "codemirror_mode": {
    "name": "ipython",
    "version": 3
   },
   "file_extension": ".py",
   "mimetype": "text/x-python",
   "name": "python",
   "nbconvert_exporter": "python",
   "pygments_lexer": "ipython3",
   "version": "3.7.7"
  }
 },
 "nbformat": 4,
 "nbformat_minor": 2
}
