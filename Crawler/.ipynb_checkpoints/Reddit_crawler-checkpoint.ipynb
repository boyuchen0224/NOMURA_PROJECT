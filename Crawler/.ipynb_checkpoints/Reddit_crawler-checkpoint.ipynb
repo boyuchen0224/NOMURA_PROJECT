{
 "cells": [
  {
   "cell_type": "code",
   "execution_count": 83,
   "metadata": {},
   "outputs": [],
   "source": [
    "import pandas as pd\n",
    "import requests\n",
    "import json\n",
    "import csv\n",
    "import time\n",
    "import datetime as dt"
   ]
  },
  {
   "cell_type": "code",
   "execution_count": 246,
   "metadata": {},
   "outputs": [],
   "source": [
    "def getTargetDfArr(year, target): # Get one year of target info and return target dataframe array\n",
    "    api = PushshiftAPI()\n",
    "    TargetDfArr = []\n",
    "    \n",
    "    for month in range(1, 13):\n",
    "        if month == 12:\n",
    "            start_epoch=int(dt.datetime(year, month, 2).timestamp())\n",
    "            end_epoch=int(dt.datetime(year + 1, 1, 1).timestamp())\n",
    "        else:\n",
    "            start_epoch=int(dt.datetime(year, month, 2).timestamp())\n",
    "            end_epoch=int(dt.datetime(year, month + 1, 1).timestamp())\n",
    "            \n",
    "        tmpDf = pd.DataFrame(list(api.search_submissions(\n",
    "                            after = str(start_epoch), #start time\n",
    "                            before = str(end_epoch), #end time\n",
    "                            subreddit = 'investing',\n",
    "                            q = target,\n",
    "                            filter = ['author', 'title', 'subreddit', 'score', 'selftext'],\n",
    "                            limit = 10000)))\n",
    "        if len(tmpDf) == 0:\n",
    "            continue\n",
    "            \n",
    "        tmpDf = tmpDf[['created_utc','author','score','title','selftext']]\n",
    "\n",
    "        for i in range(len(tmpDf)):\n",
    "            tmpDf['created_utc'].iloc[i] = time.strftime(\"%Y-%m-%d\", time.gmtime(tmpDf['created_utc'].iloc[i]))\n",
    "        \n",
    "        tmpDf.sort_values(by='created_utc', ignore_index = True)\n",
    "        \n",
    "        TargetDfArr.append(tmpDf)\n",
    "        \n",
    "        print('target : ', target, 'year : ', year, 'month : ', month)\n",
    "    return TargetDfArr\n",
    "\n",
    "def targetDfArrToDf(target, dfArr): # concat dataframe array to one dataframe and sort by date\n",
    "    for i in range(0, len(dfArr) - 1):\n",
    "        dfArr[0] = pd.concat([dfArr[0], dfArr[i + 1]], axis = 0, ignore_index = True)\n",
    "    \n",
    "    dfArr[0].sort_values(by='created_utc', ignore_index = True)\n",
    "    \n",
    "    print('target : ', target, 'has done')\n",
    "    return dfArr[0]\n"
   ]
  },
  {
   "cell_type": "code",
   "execution_count": 253,
   "metadata": {},
   "outputs": [
    {
     "name": "stderr",
     "output_type": "stream",
     "text": [
      "/Library/Python/3.7/site-packages/pandas/core/indexing.py:671: SettingWithCopyWarning: \n",
      "A value is trying to be set on a copy of a slice from a DataFrame\n",
      "\n",
      "See the caveats in the documentation: https://pandas.pydata.org/pandas-docs/stable/user_guide/indexing.html#returning-a-view-versus-a-copy\n",
      "  self._setitem_with_indexer(indexer, value)\n"
     ]
    },
    {
     "name": "stdout",
     "output_type": "stream",
     "text": [
      "target :  IoT year :  2015 month :  2\n",
      "target :  IoT year :  2015 month :  3\n",
      "target :  IoT year :  2015 month :  4\n",
      "target :  IoT year :  2015 month :  10\n",
      "target :  IoT has done\n",
      "target :  IoT year :  2016 month :  1\n",
      "target :  IoT year :  2016 month :  2\n",
      "target :  IoT year :  2016 month :  3\n",
      "target :  IoT year :  2016 month :  7\n",
      "target :  IoT year :  2016 month :  8\n",
      "target :  IoT year :  2016 month :  10\n",
      "target :  IoT year :  2016 month :  12\n",
      "target :  IoT has done\n",
      "target :  IoT year :  2017 month :  1\n",
      "target :  IoT year :  2017 month :  2\n",
      "target :  IoT year :  2017 month :  3\n",
      "target :  IoT year :  2017 month :  5\n",
      "target :  IoT year :  2017 month :  7\n",
      "target :  IoT year :  2017 month :  8\n",
      "target :  IoT year :  2017 month :  9\n",
      "target :  IoT year :  2017 month :  10\n",
      "target :  IoT year :  2017 month :  11\n",
      "target :  IoT year :  2017 month :  12\n",
      "target :  IoT has done\n",
      "target :  IoT year :  2018 month :  1\n",
      "target :  IoT year :  2018 month :  2\n",
      "target :  IoT year :  2018 month :  3\n",
      "target :  IoT year :  2018 month :  4\n",
      "target :  IoT year :  2018 month :  5\n",
      "target :  IoT year :  2018 month :  6\n",
      "target :  IoT year :  2018 month :  9\n",
      "target :  IoT year :  2018 month :  10\n",
      "target :  IoT year :  2018 month :  11\n",
      "target :  IoT has done\n",
      "target :  IoT year :  2019 month :  1\n",
      "target :  IoT year :  2019 month :  3\n",
      "target :  IoT year :  2019 month :  6\n",
      "target :  IoT year :  2019 month :  7\n",
      "target :  IoT year :  2019 month :  8\n",
      "target :  IoT year :  2019 month :  12\n",
      "target :  IoT has done\n",
      "target :  IoT year :  2020 month :  1\n",
      "target :  IoT year :  2020 month :  2\n",
      "target :  IoT year :  2020 month :  3\n",
      "target :  IoT year :  2020 month :  4\n",
      "target :  IoT year :  2020 month :  5\n",
      "target :  IoT has done\n"
     ]
    }
   ],
   "source": [
    "for year in range(2015, 2021):\n",
    "    dfArr = getTargetDfArr(year, 'IoT')\n",
    "    df = targetDfArrToDf('IoT', dfArr)\n",
    "    df.sort_values(by='created_utc', ignore_index = True)\n",
    "    df.to_csv('IoT-' + str(year) +'.csv')"
   ]
  },
  {
   "cell_type": "code",
   "execution_count": null,
   "metadata": {},
   "outputs": [],
   "source": [
    "targetArr = [\n",
    "    '5G',\n",
    "    'blockchain',\n",
    "    'cloud',\n",
    "    'big data',\n",
    "    'FinTech',\n",
    "    'face recognition',\n",
    "    'fingerprint recognition',\n",
    "    'drone',\n",
    "    '3D printing',\n",
    "    'HCI',\n",
    "    'NLP',\n",
    "    'ICT',\n",
    "    'AR',\n",
    "    'VR',\n",
    "]"
   ]
  }
 ],
 "metadata": {
  "kernelspec": {
   "display_name": "Python 3.7.3 64-bit",
   "language": "python",
   "name": "python37364bit739cdca6e79043be8d1a8bcadc93c81e"
  },
  "language_info": {
   "codemirror_mode": {
    "name": "ipython",
    "version": 3
   },
   "file_extension": ".py",
   "mimetype": "text/x-python",
   "name": "python",
   "nbconvert_exporter": "python",
   "pygments_lexer": "ipython3",
   "version": "3.7.3"
  }
 },
 "nbformat": 4,
 "nbformat_minor": 2
}
