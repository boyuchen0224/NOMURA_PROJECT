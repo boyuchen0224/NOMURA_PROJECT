{
 "cells": [
  {
   "cell_type": "code",
   "execution_count": 194,
   "metadata": {},
   "outputs": [],
   "source": [
    "import time\n",
    "import requests\n",
    "import pandas as pd\n",
    "from bs4 import BeautifulSoup\n",
    "from selenium import webdriver\n",
    "from selenium.webdriver.common.action_chains import ActionChains\n",
    "from selenium.webdriver.common.keys import Keys"
   ]
  },
  {
   "cell_type": "code",
   "execution_count": 372,
   "metadata": {},
   "outputs": [],
   "source": [
    "def linkInfoCrawler(target):\n",
    "    driver = webdriver.Chrome(executable_path=r'/Users/chenboyu/Desktop/野村投信/chromedriver')\n",
    "    driver.get('https://www.cnbc.com/search/?query=' + str(target) + '&qsearchterm=' + str(target))\n",
    "    time.sleep(3)\n",
    "\n",
    "    last_height = driver.execute_script(\"return document.body.scrollHeight\")\n",
    "\n",
    "    while True:\n",
    "        driver.execute_script(\"window.scrollTo(0, document.body.scrollHeight);\")\n",
    "\n",
    "        # Wait to load page\n",
    "        time.sleep(1)\n",
    "\n",
    "        new_height = driver.execute_script(\"return document.body.scrollHeight\")\n",
    "        if new_height == last_height:\n",
    "            links = driver.find_elements_by_css_selector('a.resultlink')\n",
    "            if(len(links) >= 4250):\n",
    "                break\n",
    "        last_height = new_height\n",
    "    \n",
    "    htmlSource = driver.page_source\n",
    "    return htmlSource\n",
    "\n",
    "def linkArr(htmlSource):\n",
    "    linkArr = []\n",
    "    \n",
    "    soup = BeautifulSoup(htmlSource, 'html.parser')\n",
    "    links = soup.find_all(class_ = 'resultlink')\n",
    "\n",
    "    for i in range(1, len(links), 2):\n",
    "        if not links[i].get('href').split('/')[3] == 'video':\n",
    "            linkArr.append(links[i].get('href'))\n",
    "    \n",
    "    return linkArr\n",
    "    \n",
    "def articleDataFrame(linkArr):\n",
    "    df = pd.DataFrame(columns = ['Year', 'Month', 'Day', 'Article'])\n",
    "    \n",
    "    for index,link in enumerate(linkArr):\n",
    "        htmlSource = requests.get(link)\n",
    "        soup = BeautifulSoup(htmlSource.text, 'html.parser')\n",
    "        articles = soup.find_all('div', class_ = 'group')\n",
    "        words = ''\n",
    "        \n",
    "        for article in articles:\n",
    "            words += article.text\n",
    "        \n",
    "        \n",
    "        df.loc[index] = [link.split('/')[3], link.split('/')[4], link.split('/')[5], words.replace(u'\\\\xa0', u' ')]\n",
    "        \n",
    "        print('index', index, 'has done.')\n",
    "        if(index > 5):\n",
    "            break\n",
    "    \n",
    "    return df\n",
    "# blockchainHtml = linkInfoCrawler('blockchain')\n",
    "# linkDataFrame(blockchainHtml)"
   ]
  },
  {
   "cell_type": "code",
   "execution_count": 373,
   "metadata": {},
   "outputs": [],
   "source": [
    "linkArr = linkArr(blockchainHtml)"
   ]
  },
  {
   "cell_type": "code",
   "execution_count": 374,
   "metadata": {
    "scrolled": true
   },
   "outputs": [
    {
     "name": "stdout",
     "output_type": "stream",
     "text": [
      "index 0 has done.\n",
      "index 1 has done.\n",
      "index 2 has done.\n",
      "index 3 has done.\n",
      "index 4 has done.\n",
      "index 5 has done.\n",
      "index 6 has done.\n"
     ]
    }
   ],
   "source": [
    "df = articleDataFrame(linkArr)"
   ]
  },
  {
   "cell_type": "code",
   "execution_count": 376,
   "metadata": {},
   "outputs": [
    {
     "data": {
      "text/plain": [
       "'China has launched the\\xa0\"National Blockchain and Distributed Accounting Technology Standardization Technical Committee.\"\\xa0Huawei, Tencent, Baidu, Ant Financial and JD.com are among a group of companies and academics on the committee.The aim is likely to set some national standards for the technology.Last year, President Xi Jinping said the country needs to \"seize the opportunities\" in blockchain.China\\'s major technology giants are among a group of organizations that have joined a national committee focused on creating standards for blockchain technology.\\xa0The move is part of major push by the world\\'s second-largest economy to become a leader in the nascent space after President Xi Jinping\\xa0last year urged the country to \"seize the opportunities\" presented by the technology.\\xa0E-commerce giant JD.com, telecommunications equipment maker Huawei, search firm Baidu, and Tencent, the owner of popular messaging app WeChat, are all part of the committee. Ant Financial, the affiliate of Alibaba which runs the Alipay mobile payments app, is also part of the group which counts a number of academics among its members.The group has been named the \"National Blockchain and Distributed Accounting Technology Standardization Technical Committee.\"\\xa0China\\'s Ministry of Industry and Information Technology, which released the names of participating organizations, did not specify exactly what this committee would be doing. However, its name suggests it will be tasked with coming up with technical standards around blockchain and so-called distributed ledger technology (DLT).\\xa0Blockchain refers to a technology\\xa0which began with the cryptocurrency\\xa0bitcoin. In that case, its role was an immutable and tamper-proof public ledger of activity. It was also \"decentralized,\" which means it was not owned by any one party.The definition of the technology has evolved as it started being applied to new areas like finance. These cases are often referred to by terms such as DLT and are quite different from the original bitcoin blockchain. Still, the promise of a system in which transactions can happen across a single record is an attractive proposition.\\xa0Development of blockchain or DLT has often happened within individual companies or a consortium of firms looking to solve a single problem. China\\'s blockchain push is among the first from a national government of a major economy.\\xa0Setting technical standards could help China come up with a unified national approach to development of blockchain technology, which in turn could help it scale faster.\\xa0'"
      ]
     },
     "execution_count": 376,
     "metadata": {},
     "output_type": "execute_result"
    }
   ],
   "source": [
    "df['Article'][0]"
   ]
  },
  {
   "cell_type": "code",
   "execution_count": null,
   "metadata": {},
   "outputs": [],
   "source": []
  }
 ],
 "metadata": {
  "kernelspec": {
   "display_name": "Python 3.7.3 64-bit",
   "language": "python",
   "name": "python37364bit739cdca6e79043be8d1a8bcadc93c81e"
  },
  "language_info": {
   "codemirror_mode": {
    "name": "ipython",
    "version": 3
   },
   "file_extension": ".py",
   "mimetype": "text/x-python",
   "name": "python",
   "nbconvert_exporter": "python",
   "pygments_lexer": "ipython3",
   "version": "3.7.3"
  }
 },
 "nbformat": 4,
 "nbformat_minor": 2
}
