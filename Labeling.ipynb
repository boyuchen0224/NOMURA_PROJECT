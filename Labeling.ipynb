{
 "cells": [
  {
   "cell_type": "markdown",
   "metadata": {},
   "source": [
    "## Labeling the fund price"
   ]
  },
  {
   "cell_type": "markdown",
   "metadata": {},
   "source": [
    "整體想法:\n",
    "1. 建立n天漲跌幅的資料\n",
    "2. 計算把n天漲跌幅的資料的標準差 (直接代既有的std公式 from 博宇)\n",
    "3. 畫圖觀察 (特別注意金融風暴期間的異同)\n",
    "4. 以n天漲跌幅的分布為標準去做label\n",
    "* 目前先以n=10天做為基準去操作"
   ]
  },
  {
   "cell_type": "markdown",
   "metadata": {},
   "source": [
    "### Functions"
   ]
  },
  {
   "cell_type": "code",
   "execution_count": 1,
   "metadata": {},
   "outputs": [],
   "source": [
    "import pandas as pd\n",
    "import numpy as np\n",
    "import matplotlib.pyplot as plt"
   ]
  },
  {
   "cell_type": "code",
   "execution_count": 2,
   "metadata": {},
   "outputs": [],
   "source": [
    "def monthStandardDeviation(Data, year):\n",
    "    '''Calculate month standard deviation of one year'''\n",
    "    monthStr = [\"/01\", \"/02\", \"/03\", \"/04\", \"/05\", \"/06\", \"/07\", \"/08\", \"/09\", \"/10\", \"/11\", \"/12\"]\n",
    "    monthDataFrame = pd.DataFrame(columns = [\"Date\", \"Std\"])\n",
    "    \n",
    "    for i in range (12):\n",
    "        monthPrice = []\n",
    "        \n",
    "        for j in range (Data[\"Date\"].size):\n",
    "            if (str(str(year) + monthStr[i]) in Data[\"Date\"][j]): # Find the price included in year_month\n",
    "                monthPrice.append(Data.iloc[:,1][j])\n",
    "            \n",
    "        monthStd = np.std(np.array(monthPrice)) # 每月中股價的波動度\n",
    "        monthDataFrame.loc[i] = [str(str(year) + monthStr[i]), monthStd]\n",
    "    return monthDataFrame\n",
    "\n",
    "def yearStdDeviation(Data, start, end):\n",
    "    '''Get the std dataframe between start year and end year'''\n",
    "    stdBarDict = {}\n",
    "    monthStr = [\"01\", \"02\", \"03\", \"04\", \"05\", \"06\", \"07\", \"08\", \"09\", \"10\", \"11\", \"12\"]\n",
    "\n",
    "    for i in range(end - start + 1):\n",
    "        stdBarDict[str(start + i)] = np.array(monthStandardDeviation(Data, start + i)[\"Std\"])\n",
    "\n",
    "    yearDataFrame = pd.DataFrame(data = stdBarDict, index = monthStr);\n",
    "    return yearDataFrame"
   ]
  },
  {
   "cell_type": "code",
   "execution_count": 3,
   "metadata": {},
   "outputs": [],
   "source": [
    "def ndaysChange(data : pd.DataFrame, n:int) -> pd.DataFrame: \n",
    "    \"\"\" The input dataframe should consist of 2 columns: date and the one related to price.\n",
    "        Calculate the %change of each day with n days later and return a dataframe. \"\"\"\n",
    "    ndays_change = []\n",
    "    length = len(data)\n",
    "    for i in range( length-10 ):\n",
    "        ndays_change.append(100*(data['Price'].iloc[i+10] - data['Price'].iloc[i])/data['Price'].iloc[i]) #displayed in %\n",
    "    date = data['Date'][0:length-10]\n",
    "    price = data['Price'][0:length-10]\n",
    "    #print(date)\n",
    "    ndays_dataframe = pd.concat([date, price,pd.Series(ndays_change)],axis=1)\n",
    "    ndays_dataframe.columns = ['Date','Price', '%change']\n",
    "    return ndays_dataframe\n",
    "\n",
    "def ndaysStd(Data:pd.DataFrame, n:int, start_year:int, end_year:int) -> pd.DataFrame:\n",
    "    \"\"\" Calculate the std dataframe with year in column and month in row.\n",
    "        Using n days %change data from ndaysChange(). \"\"\"\n",
    "    ndaysChange_data = ndaysChange(Data,n)\n",
    "    ndaysStd_data = yearStdDeviation(ndaysChange_data,start_year,end_year)\n",
    "    return ndaysStd_data"
   ]
  },
  {
   "cell_type": "code",
   "execution_count": 4,
   "metadata": {},
   "outputs": [],
   "source": [
    "def month_mean_dis(Data, year_list, ndays):\n",
    "    new_data = ndaysChange(Data,ndays)\n",
    "    length = new_data.shape[0]\n",
    "    monthPrice = {}\n",
    "    monthStr = [\"01\", \"02\", \"03\", \"04\", \"05\", \"06\", \"07\", \"08\", \"09\", \"10\", \"11\", \"12\"]\n",
    "    monthDis = {}\n",
    "    \n",
    "    for i in range(12):\n",
    "        monthPrice[monthStr[i]] = []\n",
    "    #print(monthPrice)\n",
    "    \n",
    "    for i in range(length):\n",
    "        month = new_data['Date'][i][5:7]\n",
    "        year = new_data['Date'][i][0:4]\n",
    "        if year in year_list:\n",
    "            monthPrice[month].append(new_data['%change'][i])\n",
    "    \n",
    "    distribution = pd.DataFrame(columns = [\".1\",\".25\",\".5\",\".75\",\".9\"], index = monthStr)\n",
    "    monthPriceArray = np.array(monthPrice['01'])\n",
    "\n",
    "    for i in range(12):\n",
    "        month = monthStr[i]\n",
    "        distribution.loc[month] = np.percentile(np.array(monthPrice[month]),q=[10,25,50,75,90])\n",
    "        \n",
    "    return distribution"
   ]
  },
  {
   "cell_type": "code",
   "execution_count": 5,
   "metadata": {},
   "outputs": [],
   "source": [
    "def labeling(Data, N_day, year_list):\n",
    "    Data_label = ndaysChange(Data, N_day) #columns : Date,Price,%change\n",
    "    Data_label['Label'] = \"\"\n",
    "    benchmark = month_mean_dis(Data,year_list,N_day)\n",
    "    for i in range( Data_label.shape[0]):\n",
    "        month = Data_label['Date'][i][5:7]\n",
    "        month_dis = benchmark.loc[month]\n",
    "\n",
    "        change = Data_label['%change'][i]\n",
    "\n",
    "        if change <= month_dis['.1']:\n",
    "            Data_label.loc[i,'Label'] = \"Extremely High Point\"\n",
    "\n",
    "        elif month_dis['.1'] < change <= month_dis['.25']:\n",
    "            Data_label.loc[i,'Label'] = \"High Point\"\n",
    "\n",
    "        elif month_dis['.25'] < change <= month_dis['.5']:\n",
    "            Data_label.loc[i,'Label'] = \"Little High Point\"\n",
    "\n",
    "        elif month_dis['.5'] < change <= month_dis['.75']:\n",
    "            Data_label.loc[i,'Label'] = \"Little Low Point\"\n",
    "\n",
    "        elif month_dis['.75'] < change <= month_dis['.9']:\n",
    "            Data_label.loc[i,'Label'] = \"Low Point\"\n",
    "\n",
    "        else:\n",
    "            Data_label.loc[i,'Label'] = \"Extremely Low Point\"\n",
    "    Data_label = Data_label.round({'%change':2})\n",
    "    return Data_label"
   ]
  },
  {
   "cell_type": "markdown",
   "metadata": {},
   "source": [
    "### Data exploring"
   ]
  },
  {
   "cell_type": "code",
   "execution_count": 6,
   "metadata": {},
   "outputs": [],
   "source": [
    "Data = pd.read_csv(\"Nomura_Global_Equity_Fund.csv\", usecols = ['Date', 'Price'])"
   ]
  },
  {
   "cell_type": "code",
   "execution_count": 7,
   "metadata": {},
   "outputs": [
    {
     "data": {
      "text/html": [
       "<div>\n",
       "<style scoped>\n",
       "    .dataframe tbody tr th:only-of-type {\n",
       "        vertical-align: middle;\n",
       "    }\n",
       "\n",
       "    .dataframe tbody tr th {\n",
       "        vertical-align: top;\n",
       "    }\n",
       "\n",
       "    .dataframe thead th {\n",
       "        text-align: right;\n",
       "    }\n",
       "</style>\n",
       "<table border=\"1\" class=\"dataframe\">\n",
       "  <thead>\n",
       "    <tr style=\"text-align: right;\">\n",
       "      <th></th>\n",
       "      <th>Date</th>\n",
       "      <th>Price</th>\n",
       "    </tr>\n",
       "  </thead>\n",
       "  <tbody>\n",
       "    <tr>\n",
       "      <th>0</th>\n",
       "      <td>1997/01/04</td>\n",
       "      <td>12.14</td>\n",
       "    </tr>\n",
       "    <tr>\n",
       "      <th>1</th>\n",
       "      <td>1997/01/06</td>\n",
       "      <td>12.13</td>\n",
       "    </tr>\n",
       "    <tr>\n",
       "      <th>2</th>\n",
       "      <td>1997/01/07</td>\n",
       "      <td>12.12</td>\n",
       "    </tr>\n",
       "    <tr>\n",
       "      <th>3</th>\n",
       "      <td>1997/01/08</td>\n",
       "      <td>12.17</td>\n",
       "    </tr>\n",
       "    <tr>\n",
       "      <th>4</th>\n",
       "      <td>1997/01/09</td>\n",
       "      <td>12.20</td>\n",
       "    </tr>\n",
       "  </tbody>\n",
       "</table>\n",
       "</div>"
      ],
      "text/plain": [
       "         Date  Price\n",
       "0  1997/01/04  12.14\n",
       "1  1997/01/06  12.13\n",
       "2  1997/01/07  12.12\n",
       "3  1997/01/08  12.17\n",
       "4  1997/01/09  12.20"
      ]
     },
     "execution_count": 7,
     "metadata": {},
     "output_type": "execute_result"
    }
   ],
   "source": [
    "Data.head()"
   ]
  },
  {
   "cell_type": "code",
   "execution_count": 8,
   "metadata": {},
   "outputs": [],
   "source": [
    "std_10d = ndaysStd(Data,10, 1997,2019)"
   ]
  },
  {
   "cell_type": "code",
   "execution_count": 9,
   "metadata": {},
   "outputs": [
    {
     "data": {
      "image/png": "[encoded data removed]",
      "text/plain": [
       "<Figure size 864x360 with 1 Axes>"
      ]
     },
     "metadata": {
      "needs_background": "light"
     },
     "output_type": "display_data"
    }
   ],
   "source": [
    "# The box plot of each month in 1997-2019\n",
    "plt.figure(figsize = [12,5])\n",
    "plt.title(\"Box Plot of the %change in Price in 10 Days by Month in 1997-2019\")\n",
    "plt.boxplot(std_10d, labels = range(1,13))\n",
    "plt.show()\n",
    "plt.close()"
   ]
  },
  {
   "cell_type": "code",
   "execution_count": 10,
   "metadata": {},
   "outputs": [
    {
     "data": {
      "image/png": "[encoded data removed]",
      "text/plain": [
       "<Figure size 864x360 with 1 Axes>"
      ]
     },
     "metadata": {
      "needs_background": "light"
     },
     "output_type": "display_data"
    }
   ],
   "source": [
    "# The box plot of each year in 1997-2019\n",
    "plt.figure(figsize = [12,5])\n",
    "plt.title(\"Box Plot of the %change in Price in 10 Days by Year in 1997-2019\")\n",
    "plt.boxplot(std_10d.T, labels = std_10d.columns)\n",
    "plt.show()\n",
    "plt.close()"
   ]
  },
  {
   "cell_type": "markdown",
   "metadata": {},
   "source": [
    "#### Discovery:"
   ]
  },
  {
   "cell_type": "markdown",
   "metadata": {},
   "source": [
    "用月份來看，雖各月分中有些許差異，但整體來說不會過於迥異，但觀察年份可以發現，多數在有金融風暴事件發生時，它的波動度範圍是較廣的，ex:1997亞洲金融風暴、2000網路泡沫、2008金融危機，另外較特殊的是2018年雖無特定事件，但仍顯現與金融風暴事件發生時段相似的波動度分布。因此，以下將**分區段**觀察波動度範圍，以決定要以哪些年份的資料作為標記label的標準。"
   ]
  },
  {
   "cell_type": "code",
   "execution_count": null,
   "metadata": {},
   "outputs": [],
   "source": [
    "std_10d_97t00 = ndaysStd(Data,10, 1997,2000)\n",
    "std_10d_01t07 = ndaysStd(Data,10, 2001,2007)\n",
    "std_10d_08t09 = ndaysStd(Data,10, 2008,2009)\n",
    "std_10d_10t19 = ndaysStd(Data,10, 2010,2019)"
   ]
  },
  {
   "cell_type": "code",
   "execution_count": null,
   "metadata": {},
   "outputs": [],
   "source": [
    "def boxplot( data:pd.DataFrame, day:int, start_year:int, end_year:int):\n",
    "    plt.figure(figsize = [8,4])\n",
    "    plt.title(\"%change in Price in \"+str(day)+\" days by Month in \"+str(start_year)+\"-\"+str(end_year))\n",
    "    plt.boxplot(data, labels = range(1,13))\n",
    "    plt.show()\n",
    "    plt.close()"
   ]
  },
  {
   "cell_type": "code",
   "execution_count": null,
   "metadata": {},
   "outputs": [],
   "source": [
    "boxplot(std_10d_01t07, 10, 2001, 2007)\n",
    "boxplot(std_10d_10t19, 10, 2010, 2019)\n",
    "boxplot(std_10d_97t00, 10, 1997, 2000)\n",
    "boxplot(std_10d_08t09, 10, 2008, 2009)"
   ]
  },
  {
   "cell_type": "markdown",
   "metadata": {},
   "source": [
    "#### Discovery:"
   ]
  },
  {
   "cell_type": "markdown",
   "metadata": {},
   "source": [
    "由上可以發現，前兩張圖不涵蓋金融危機的區間較不會出現迥異的差距，但後兩張圖卻有很明顯的波動，因此是否要涵蓋金融危機區間我認為是個重要的因素，應會影響結果的準確性。"
   ]
  },
  {
   "cell_type": "markdown",
   "metadata": {},
   "source": [
    "### Decision:"
   ]
  },
  {
   "cell_type": "markdown",
   "metadata": {},
   "source": [
    "目前我先用1997-2019年的10天漲跌幅作為labeling的標準，若之後討論需要修改可以再小修即可。  \n",
    "可以改善的地方 : 建立標準時採用的年份、遇到金融海嘯大跌大漲的處理、建立標準時所採用的百分位數"
   ]
  },
  {
   "cell_type": "code",
   "execution_count": null,
   "metadata": {},
   "outputs": [],
   "source": [
    "N_day = 10\n",
    "selected_year = []\n",
    "for i in range(1997,2020):\n",
    "    selected_year.append(str(i))"
   ]
  },
  {
   "cell_type": "code",
   "execution_count": null,
   "metadata": {},
   "outputs": [],
   "source": [
    "Data_label = labeling(Data,N_day=10, year_list= selected_year)\n",
    "Data_label"
   ]
  },
  {
   "cell_type": "code",
   "execution_count": null,
   "metadata": {},
   "outputs": [],
   "source": [
    "Data_label['Label'].value_counts()"
   ]
  },
  {
   "cell_type": "code",
   "execution_count": null,
   "metadata": {},
   "outputs": [],
   "source": [
    "Data_label.to_csv(\"Labeled_Nomura_Global_Equity_Fund.csv\", index = False)"
   ]
  }
 ],
 "metadata": {
  "kernelspec": {
   "display_name": "Python 3",
   "language": "python",
   "name": "python3"
  },
  "language_info": {
   "codemirror_mode": {
    "name": "ipython",
    "version": 3
   },
   "file_extension": ".py",
   "mimetype": "text/x-python",
   "name": "python",
   "nbconvert_exporter": "python",
   "pygments_lexer": "ipython3",
   "version": "3.7.3"
  }
 },
 "nbformat": 4,
 "nbformat_minor": 4
}
