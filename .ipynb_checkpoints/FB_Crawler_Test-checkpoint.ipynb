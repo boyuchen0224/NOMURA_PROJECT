{
 "cells": [
  {
   "cell_type": "code",
   "execution_count": 1,
   "metadata": {},
   "outputs": [],
   "source": [
    "import time\n",
    "import requests\n",
    "import pandas as pd\n",
    "from bs4 import BeautifulSoup\n",
    "from selenium import webdriver\n",
    "from selenium.webdriver.common.action_chains import ActionChains\n",
    "from selenium.webdriver.common.keys import Keys"
   ]
  },
  {
   "cell_type": "code",
   "execution_count": 2,
   "metadata": {},
   "outputs": [],
   "source": [
    "#driver start\n",
    "driver = webdriver.Chrome(executable_path=r'/Users/chenboyu/Desktop/野村投信/chromedriver')\n",
    "driver.get('https://www.facebook.com/')\n",
    "#login\n",
    "inputElement = driver.find_element_by_xpath(\"\"\"//*[@id=\"email\"]\"\"\")\n",
    "inputElement.send_keys('EMAIL')\n",
    "inputElement = driver.find_element_by_xpath(\"\"\"//*[@id=\"pass\"]\"\"\")\n",
    "inputElement.send_keys('PASSWORD')\n",
    "driver.find_element_by_xpath(\"\"\"//*[@id=\"u_0_b\"]\"\"\").click()\n",
    "time.sleep(3)\n",
    "driver.get('https://www.facebook.com/appledaily.tw/')\n",
    "time.sleep(3)\n",
    "#scroll\n",
    "driver.find_element_by_xpath(\"\"\"/html/body\"\"\").click()\n",
    "time.sleep(3)\n",
    "driver.execute_script(\"var q=document.documentElement.scrollTop=100000\")\n",
    "time.sleep(3)\n",
    "\n",
    "#button click\n",
    "for i in range (5):\n",
    "    driver.find_element_by_xpath(\"\"\"/html/body/div[1]/div[3]/div[1]/div/div/div[2]/div[2]/div/div[2]/div[2]/div/div[1]/div/div[2]/div/div[2]/div[4]/div[\"\"\" + str(2 + i) + \"\"\"]/div/div/div/div[2]/div[2]/form/div/div[3]/div[3]/div/a/div/span\"\"\").click()\n",
    "    time.sleep(3)"
   ]
  },
  {
   "cell_type": "code",
   "execution_count": null,
   "metadata": {},
   "outputs": [],
   "source": []
  }
 ],
 "metadata": {
  "kernelspec": {
   "display_name": "Python 3",
   "language": "python",
   "name": "python3"
  },
  "language_info": {
   "codemirror_mode": {
    "name": "ipython",
    "version": 3
   },
   "file_extension": ".py",
   "mimetype": "text/x-python",
   "name": "python",
   "nbconvert_exporter": "python",
   "pygments_lexer": "ipython3",
   "version": "3.7.7"
  }
 },
 "nbformat": 4,
 "nbformat_minor": 2
}
