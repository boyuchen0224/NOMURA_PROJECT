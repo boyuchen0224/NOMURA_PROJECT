{
 "cells": [
  {
   "cell_type": "code",
   "execution_count": null,
   "metadata": {},
   "outputs": [],
   "source": [
    ".pct_change() #get return，預設是1 "
   ]
  },
  {
   "cell_type": "code",
   "execution_count": null,
   "metadata": {},
   "outputs": [],
   "source": [
    ".split() #分割"
   ]
  },
  {
   "cell_type": "code",
   "execution_count": null,
   "metadata": {},
   "outputs": [],
   "source": [
    ".groupby() #分群依據"
   ]
  },
  {
   "cell_type": "code",
   "execution_count": null,
   "metadata": {},
   "outputs": [],
   "source": [
    ".std(ddof=0) #標準差，在pandas的標準差預設是樣本標準差，所以要用ddof=0調成母體標準差"
   ]
  },
  {
   "cell_type": "markdown",
   "metadata": {},
   "source": [
    "---"
   ]
  },
  {
   "cell_type": "code",
   "execution_count": 2,
   "metadata": {},
   "outputs": [],
   "source": [
    "import pandas as pd\n",
    "import numpy as np\n",
    "import matplotlib.pyplot as plt"
   ]
  },
  {
   "cell_type": "code",
   "execution_count": 30,
   "metadata": {},
   "outputs": [],
   "source": [
    "Data = pd.read_csv(\"NOMURA_PROJECT/Nomura_Global_Equity_Fund.csv\")\n",
    "Data = Data.drop(['Unnamed: 0'], axis=1)"
   ]
  },
  {
   "cell_type": "code",
   "execution_count": 31,
   "metadata": {},
   "outputs": [],
   "source": [
    "## get return\n",
    "dailyReturn = Data['Price'].pct_change()*100"
   ]
  },
  {
   "cell_type": "code",
   "execution_count": 32,
   "metadata": {},
   "outputs": [],
   "source": [
    "## 每季報酬率的標準差\n",
    "date_split = []\n",
    "temp = Data['Date']\n",
    "for i in range(Data['Date'].size):\n",
    "    date_split.append(temp[i].split('/'))\n",
    "\n",
    "new_Data = pd.DataFrame(date_split, columns = ['Year', 'Month', 'Day'])\n",
    "\n",
    "season = {'s1':['01', '02', '03'], 's2':['04', '05', '06'], 's3':['07', '08', '09'], 's4':['10', '11', '12']}   \n",
    "seasonal = []\n",
    "for j in range(new_Data['Month'].size):\n",
    "    if new_Data['Month'][j] in season['s1']:\n",
    "        seasonal.append('s1')\n",
    "    elif new_Data['Month'][j] in season['s2']:\n",
    "        seasonal.append('s2')\n",
    "    elif new_Data['Month'][j] in season['s3']:\n",
    "        seasonal.append('s3')\n",
    "    elif new_Data['Month'][j] in season['s4']:\n",
    "        seasonal.append('s4')\n",
    "new_Data['Seasonal'] = seasonal\n",
    "\n",
    "dailyReturn = Data['Price'].pct_change()*100\n",
    "new_Data['DailyReturn_std'] = dailyReturn"
   ]
  },
  {
   "cell_type": "code",
   "execution_count": null,
   "metadata": {},
   "outputs": [],
   "source": [
    "new_Data.head()"
   ]
  },
  {
   "cell_type": "code",
   "execution_count": 34,
   "metadata": {
    "scrolled": true
   },
   "outputs": [
    {
     "data": {
      "text/html": [
       "<div>\n",
       "<style scoped>\n",
       "    .dataframe tbody tr th:only-of-type {\n",
       "        vertical-align: middle;\n",
       "    }\n",
       "\n",
       "    .dataframe tbody tr th {\n",
       "        vertical-align: top;\n",
       "    }\n",
       "\n",
       "    .dataframe thead th {\n",
       "        text-align: right;\n",
       "    }\n",
       "</style>\n",
       "<table border=\"1\" class=\"dataframe\">\n",
       "  <thead>\n",
       "    <tr style=\"text-align: right;\">\n",
       "      <th></th>\n",
       "      <th></th>\n",
       "      <th>DailyReturn_std</th>\n",
       "    </tr>\n",
       "    <tr>\n",
       "      <th>Year</th>\n",
       "      <th>Seasonal</th>\n",
       "      <th></th>\n",
       "    </tr>\n",
       "  </thead>\n",
       "  <tbody>\n",
       "    <tr>\n",
       "      <th>2000</th>\n",
       "      <th>s1</th>\n",
       "      <td>1.713400</td>\n",
       "    </tr>\n",
       "    <tr>\n",
       "      <th>2001</th>\n",
       "      <th>s1</th>\n",
       "      <td>2.002611</td>\n",
       "    </tr>\n",
       "    <tr>\n",
       "      <th>2002</th>\n",
       "      <th>s3</th>\n",
       "      <td>1.831770</td>\n",
       "    </tr>\n",
       "    <tr>\n",
       "      <th>2008</th>\n",
       "      <th>s4</th>\n",
       "      <td>2.528183</td>\n",
       "    </tr>\n",
       "    <tr>\n",
       "      <th rowspan=\"2\" valign=\"top\">2020</th>\n",
       "      <th>s1</th>\n",
       "      <td>2.979827</td>\n",
       "    </tr>\n",
       "    <tr>\n",
       "      <th>s2</th>\n",
       "      <td>2.987675</td>\n",
       "    </tr>\n",
       "  </tbody>\n",
       "</table>\n",
       "</div>"
      ],
      "text/plain": [
       "               DailyReturn_std\n",
       "Year Seasonal                 \n",
       "2000 s1               1.713400\n",
       "2001 s1               2.002611\n",
       "2002 s3               1.831770\n",
       "2008 s4               2.528183\n",
       "2020 s1               2.979827\n",
       "     s2               2.987675"
      ]
     },
     "execution_count": 34,
     "metadata": {},
     "output_type": "execute_result"
    }
   ],
   "source": [
    "Seasonal_std_df = new_Data.groupby(['Year', 'Seasonal']).std(ddof=0)\n",
    "Seasonal_std_df[Seasonal_std_df['DailyReturn_std'] > 1.68233294] #標準差大於1.68233294的"
   ]
  },
  {
   "cell_type": "code",
   "execution_count": 10,
   "metadata": {
    "collapsed": true
   },
   "outputs": [
    {
     "data": {
      "text/plain": [
       "(array([27., 31., 10., 18.,  2.,  2.,  1.,  0.,  1.,  2.]),\n",
       " array([0.37699104, 0.63805942, 0.8991278 , 1.16019618, 1.42126456,\n",
       "        1.68233294, 1.94340132, 2.2044697 , 2.46553808, 2.72660646,\n",
       "        2.98767484]),\n",
       " <a list of 10 Patch objects>)"
      ]
     },
     "execution_count": 10,
     "metadata": {},
     "output_type": "execute_result"
    },
    {
     "data": {
      "image/png": "[encoded data removed]",
      "text/plain": [
       "<Figure size 432x288 with 1 Axes>"
      ]
     },
     "metadata": {
      "needs_background": "light"
     },
     "output_type": "display_data"
    }
   ],
   "source": [
    "plt.hist(Seasonal_std_df['DailyReturn_std'], bins=10, edgecolor=\"black\")"
   ]
  },
  {
   "cell_type": "markdown",
   "metadata": {},
   "source": [
    "- array1：次數\n",
    "- array2：bin的邊界值"
   ]
  },
  {
   "cell_type": "code",
   "execution_count": 12,
   "metadata": {},
   "outputs": [
    {
     "data": {
      "text/plain": [
       "Text(0, 0.5, '次數')"
      ]
     },
     "execution_count": 12,
     "metadata": {},
     "output_type": "execute_result"
    },
    {
     "data": {
      "image/png": "[encoded data removed]",
      "text/plain": [
       "<Figure size 432x288 with 1 Axes>"
      ]
     },
     "metadata": {
      "needs_background": "light"
     },
     "output_type": "display_data"
    }
   ],
   "source": [
    "plt.hist(Seasonal_std_df['DailyReturn_std'], bins=10, edgecolor=\"black\")\n",
    "plt.rcParams['font.sans-serif'] = ['Noto Sans Mono CJK TC']\n",
    "plt.title('野村環球-台幣累積')\n",
    "plt.xlabel(\"標準差\")\n",
    "plt.ylabel(\"次數\")"
   ]
  }
 ],
 "metadata": {
  "kernelspec": {
   "display_name": "Python 3",
   "language": "python",
   "name": "python3"
  },
  "language_info": {
   "codemirror_mode": {
    "name": "ipython",
    "version": 3
   },
   "file_extension": ".py",
   "mimetype": "text/x-python",
   "name": "python",
   "nbconvert_exporter": "python",
   "pygments_lexer": "ipython3",
   "version": "3.7.1"
  }
 },
 "nbformat": 4,
 "nbformat_minor": 2
}
