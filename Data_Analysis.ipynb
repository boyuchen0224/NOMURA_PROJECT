{
 "cells": [
  {
   "cell_type": "code",
   "execution_count": 184,
   "metadata": {},
   "outputs": [],
   "source": [
    "import re\n",
    "import math\n",
    "import warnings\n",
    "import numpy as np\n",
    "import pandas as pd\n",
    "import plotly.io as pio\n",
    "import plotly.express as px\n",
    "import matplotlib.pyplot as plt\n",
    "import plotly.graph_objects as go\n",
    "pio.renderers.default = \"svg\" # Save as static image => embed in jupyter notebook\n",
    "warnings.filterwarnings('ignore') # ignore warning"
   ]
  },
  {
   "cell_type": "code",
   "execution_count": 185,
   "metadata": {
    "scrolled": true
   },
   "outputs": [
    {
     "data": {
      "image/svg+xml": [
       "<svg class=\"main-svg\" xmlns=\"http://www.w3.org/2000/svg\" xmlns:xlink=\"http://www.w3.org/1999/xlink\" width=\"700\" height=\"450\" viewBox=\"0 0 700 450\"><rect x=\"0\" y=\"0\" width=\"700\" height=\"450\" style=\"fill: rgb(255, 255, 255); fill-opacity: 1;\"/><defs id=\"defs-d94fa6\"><g class=\"clips\"><clipPath id=\"clipd94fa6xyplot\" class=\"plotclip\"><rect width=\"540\" height=\"234\"/></clipPath><clipPath class=\"axesclip\" id=\"clipd94fa6x\"><rect x=\"80\" y=\"0\" width=\"540\" height=\"450\"/></clipPath><clipPath class=\"axesclip\" id=\"clipd94fa6y\"><rect x=\"0\" y=\"100\" width=\"700\" height=\"234\"/></clipPath><clipPath class=\"axesclip\" id=\"clipd94fa6xy\"><rect x=\"80\" y=\"100\" width=\"540\" height=\"234\"/></clipPath></g><g class=\"gradients\"/></defs><g class=\"bglayer\"><rect class=\"bg\" x=\"80\" y=\"100\" width=\"540\" height=\"234\" style=\"fill: rgb(229, 236, 246); fill-opacity: 1; stroke-width: 0;\"/></g><g class=\"layer-below\"><g class=\"imagelayer\"/><g class=\"shapelayer\"/></g><g class=\"cartesianlayer\"><g class=\"subplot xy\"><g class=\"layer-subplot\"><g class=\"shapelayer\"/><g class=\"imagelayer\"/></g><g class=\"gridlayer\"><g class=\"x\"><path class=\"xgrid crisp\" transform=\"translate(94.44,0)\" d=\"M0,100v234\" style=\"stroke: rgb(255, 255, 255); stroke-opacity: 1; stroke-width: 1px;\"/><path class=\"xgrid crisp\" transform=\"translate(108.88,0)\" d=\"M0,100v234\" style=\"stroke: rgb(255, 255, 255); stroke-opacity: 1; stroke-width: 1px;\"/><path class=\"xgrid crisp\" transform=\"translate(123.31,0)\" d=\"M0,100v234\" style=\"stroke: rgb(255, 255, 255); stroke-opacity: 1; stroke-width: 1px;\"/><path class=\"xgrid crisp\" transform=\"translate(137.75,0)\" d=\"M0,100v234\" style=\"stroke: rgb(255, 255, 255); stroke-opacity: 1; stroke-width: 1px;\"/><path class=\"xgrid crisp\" transform=\"translate(152.19,0)\" d=\"M0,100v234\" style=\"stroke: rgb(255, 255, 255); stroke-opacity: 1; stroke-width: 1px;\"/><path class=\"xgrid crisp\" transform=\"translate(166.63,0)\" d=\"M0,100v234\" style=\"stroke: rgb(255, 255, 255); stroke-opacity: 1; stroke-width: 1px;\"/><path class=\"xgrid crisp\" transform=\"translate(181.07,0)\" d=\"M0,100v234\" style=\"stroke: rgb(255, 255, 255); stroke-opacity: 1; stroke-width: 1px;\"/><path class=\"xgrid crisp\" transform=\"translate(195.5,0)\" d=\"M0,100v234\" style=\"stroke: rgb(255, 255, 255); stroke-opacity: 1; stroke-width: 1px;\"/><path class=\"xgrid crisp\" transform=\"translate(209.94,0)\" d=\"M0,100v234\" style=\"stroke: rgb(255, 255, 255); stroke-opacity: 1; stroke-width: 1px;\"/><path class=\"xgrid crisp\" transform=\"translate(224.38,0)\" d=\"M0,100v234\" style=\"stroke: rgb(255, 255, 255); stroke-opacity: 1; stroke-width: 1px;\"/><path class=\"xgrid crisp\" transform=\"translate(238.82,0)\" d=\"M0,100v234\" style=\"stroke: rgb(255, 255, 255); stroke-opacity: 1; stroke-width: 1px;\"/><path class=\"xgrid crisp\" transform=\"translate(253.26,0)\" d=\"M0,100v234\" style=\"stroke: rgb(255, 255, 255); stroke-opacity: 1; stroke-width: 1px;\"/><path class=\"xgrid crisp\" transform=\"translate(267.69,0)\" d=\"M0,100v234\" style=\"stroke: rgb(255, 255, 255); stroke-opacity: 1; stroke-width: 1px;\"/><path class=\"xgrid crisp\" transform=\"translate(282.13,0)\" d=\"M0,100v234\" style=\"stroke: rgb(255, 255, 255); stroke-opacity: 1; stroke-width: 1px;\"/><path class=\"xgrid crisp\" transform=\"translate(296.57,0)\" d=\"M0,100v234\" style=\"stroke: rgb(255, 255, 255); stroke-opacity: 1; stroke-width: 1px;\"/><path class=\"xgrid crisp\" transform=\"translate(311.01,0)\" d=\"M0,100v234\" style=\"stroke: rgb(255, 255, 255); stroke-opacity: 1; stroke-width: 1px;\"/><path class=\"xgrid crisp\" transform=\"translate(325.45,0)\" d=\"M0,100v234\" style=\"stroke: rgb(255, 255, 255); stroke-opacity: 1; stroke-width: 1px;\"/><path class=\"xgrid crisp\" transform=\"translate(339.88,0)\" d=\"M0,100v234\" style=\"stroke: rgb(255, 255, 255); stroke-opacity: 1; stroke-width: 1px;\"/><path class=\"xgrid crisp\" transform=\"translate(354.32,0)\" d=\"M0,100v234\" style=\"stroke: rgb(255, 255, 255); stroke-opacity: 1; stroke-width: 1px;\"/><path class=\"xgrid crisp\" transform=\"translate(368.76,0)\" d=\"M0,100v234\" style=\"stroke: rgb(255, 255, 255); stroke-opacity: 1; stroke-width: 1px;\"/><path class=\"xgrid crisp\" transform=\"translate(383.2,0)\" d=\"M0,100v234\" style=\"stroke: rgb(255, 255, 255); stroke-opacity: 1; stroke-width: 1px;\"/><path class=\"xgrid crisp\" transform=\"translate(397.64,0)\" d=\"M0,100v234\" style=\"stroke: rgb(255, 255, 255); stroke-opacity: 1; stroke-width: 1px;\"/><path class=\"xgrid crisp\" transform=\"translate(412.07,0)\" d=\"M0,100v234\" style=\"stroke: rgb(255, 255, 255); stroke-opacity: 1; stroke-width: 1px;\"/><path class=\"xgrid crisp\" transform=\"translate(426.51,0)\" d=\"M0,100v234\" style=\"stroke: rgb(255, 255, 255); stroke-opacity: 1; stroke-width: 1px;\"/><path class=\"xgrid crisp\" transform=\"translate(440.95,0)\" d=\"M0,100v234\" style=\"stroke: rgb(255, 255, 255); stroke-opacity: 1; stroke-width: 1px;\"/><path class=\"xgrid crisp\" transform=\"translate(455.39,0)\" d=\"M0,100v234\" style=\"stroke: rgb(255, 255, 255); stroke-opacity: 1; stroke-width: 1px;\"/><path class=\"xgrid crisp\" transform=\"translate(469.83,0)\" d=\"M0,100v234\" style=\"stroke: rgb(255, 255, 255); stroke-opacity: 1; stroke-width: 1px;\"/><path class=\"xgrid crisp\" transform=\"translate(484.26,0)\" d=\"M0,100v234\" style=\"stroke: rgb(255, 255, 255); stroke-opacity: 1; stroke-width: 1px;\"/><path class=\"xgrid crisp\" transform=\"translate(498.7,0)\" d=\"M0,100v234\" style=\"stroke: rgb(255, 255, 255); stroke-opacity: 1; stroke-width: 1px;\"/><path class=\"xgrid crisp\" transform=\"translate(513.14,0)\" d=\"M0,100v234\" style=\"stroke: rgb(255, 255, 255); stroke-opacity: 1; stroke-width: 1px;\"/><path class=\"xgrid crisp\" transform=\"translate(527.5799999999999,0)\" d=\"M0,100v234\" style=\"stroke: rgb(255, 255, 255); stroke-opacity: 1; stroke-width: 1px;\"/><path class=\"xgrid crisp\" transform=\"translate(542.02,0)\" d=\"M0,100v234\" style=\"stroke: rgb(255, 255, 255); stroke-opacity: 1; stroke-width: 1px;\"/><path class=\"xgrid crisp\" transform=\"translate(556.45,0)\" d=\"M0,100v234\" style=\"stroke: rgb(255, 255, 255); stroke-opacity: 1; stroke-width: 1px;\"/><path class=\"xgrid crisp\" transform=\"translate(570.89,0)\" d=\"M0,100v234\" style=\"stroke: rgb(255, 255, 255); stroke-opacity: 1; stroke-width: 1px;\"/><path class=\"xgrid crisp\" transform=\"translate(585.3299999999999,0)\" d=\"M0,100v234\" style=\"stroke: rgb(255, 255, 255); stroke-opacity: 1; stroke-width: 1px;\"/><path class=\"xgrid crisp\" transform=\"translate(599.77,0)\" d=\"M0,100v234\" style=\"stroke: rgb(255, 255, 255); stroke-opacity: 1; stroke-width: 1px;\"/><path class=\"xgrid crisp\" transform=\"translate(614.21,0)\" d=\"M0,100v234\" style=\"stroke: rgb(255, 255, 255); stroke-opacity: 1; stroke-width: 1px;\"/></g><g class=\"y\"><path class=\"ygrid crisp\" transform=\"translate(0,329.06)\" d=\"M80,0h540\" style=\"stroke: rgb(255, 255, 255); stroke-opacity: 1; stroke-width: 1px;\"/><path class=\"ygrid crisp\" transform=\"translate(0,262.83000000000004)\" d=\"M80,0h540\" style=\"stroke: rgb(255, 255, 255); stroke-opacity: 1; stroke-width: 1px;\"/><path class=\"ygrid crisp\" transform=\"translate(0,196.6)\" d=\"M80,0h540\" style=\"stroke: rgb(255, 255, 255); stroke-opacity: 1; stroke-width: 1px;\"/><path class=\"ygrid crisp\" transform=\"translate(0,130.38)\" d=\"M80,0h540\" style=\"stroke: rgb(255, 255, 255); stroke-opacity: 1; stroke-width: 1px;\"/></g></g><g class=\"zerolinelayer\"/><path class=\"xlines-below\"/><path class=\"ylines-below\"/><g class=\"overlines-below\"/><g class=\"xaxislayer-below\"/><g class=\"yaxislayer-below\"/><g class=\"overaxes-below\"/><g class=\"plot\" transform=\"translate(80, 100)\" clip-path=\"url('#clipd94fa6xyplot')\"/><g class=\"overplot\"/><path class=\"xlines-above crisp\" d=\"M0,0\" style=\"fill: none;\"/><path class=\"ylines-above crisp\" d=\"M0,0\" style=\"fill: none;\"/><g class=\"overlines-above\"/><g class=\"xaxislayer-above\"><g class=\"xtick\"><text text-anchor=\"start\" x=\"0\" y=\"347\" transform=\"translate(80,0) rotate(90,0,341)\" style=\"font-family: 'Open Sans', verdana, arial, sans-serif; font-size: 12px; fill: rgb(42, 63, 95); fill-opacity: 1; white-space: pre;\">1997/1/4</text></g><g class=\"xtick\"><text text-anchor=\"start\" x=\"0\" y=\"347\" transform=\"translate(94.44,0) rotate(90,0,341)\" style=\"font-family: 'Open Sans', verdana, arial, sans-serif; font-size: 12px; fill: rgb(42, 63, 95); fill-opacity: 1; white-space: pre;\">1997/7/21</text></g><g class=\"xtick\"><text text-anchor=\"start\" x=\"0\" y=\"347\" transform=\"translate(108.88,0) rotate(90,0,341)\" style=\"font-family: 'Open Sans', verdana, arial, sans-serif; font-size: 12px; fill: rgb(42, 63, 95); fill-opacity: 1; white-space: pre;\">1998/2/12</text></g><g class=\"xtick\"><text text-anchor=\"start\" x=\"0\" y=\"347\" transform=\"translate(123.31,0) rotate(90,0,341)\" style=\"font-family: 'Open Sans', verdana, arial, sans-serif; font-size: 12px; fill: rgb(42, 63, 95); fill-opacity: 1; white-space: pre;\">1998/9/4</text></g><g class=\"xtick\"><text text-anchor=\"start\" x=\"0\" y=\"347\" transform=\"translate(137.75,0) rotate(90,0,341)\" style=\"font-family: 'Open Sans', verdana, arial, sans-serif; font-size: 12px; fill: rgb(42, 63, 95); fill-opacity: 1; white-space: pre;\">1999/4/7</text></g><g class=\"xtick\"><text text-anchor=\"start\" x=\"0\" y=\"347\" transform=\"translate(152.19,0) rotate(90,0,341)\" style=\"font-family: 'Open Sans', verdana, arial, sans-serif; font-size: 12px; fill: rgb(42, 63, 95); fill-opacity: 1; white-space: pre;\">1999/10/30</text></g><g class=\"xtick\"><text text-anchor=\"start\" x=\"0\" y=\"347\" transform=\"translate(166.63,0) rotate(90,0,341)\" style=\"font-family: 'Open Sans', verdana, arial, sans-serif; font-size: 12px; fill: rgb(42, 63, 95); fill-opacity: 1; white-space: pre;\">2000/5/30</text></g><g class=\"xtick\"><text text-anchor=\"start\" x=\"0\" y=\"347\" transform=\"translate(181.07,0) rotate(90,0,341)\" style=\"font-family: 'Open Sans', verdana, arial, sans-serif; font-size: 12px; fill: rgb(42, 63, 95); fill-opacity: 1; white-space: pre;\">2000/12/20</text></g><g class=\"xtick\"><text text-anchor=\"start\" x=\"0\" y=\"347\" transform=\"translate(195.5,0) rotate(90,0,341)\" style=\"font-family: 'Open Sans', verdana, arial, sans-serif; font-size: 12px; fill: rgb(42, 63, 95); fill-opacity: 1; white-space: pre;\">2001/8/10</text></g><g class=\"xtick\"><text text-anchor=\"start\" x=\"0\" y=\"347\" transform=\"translate(209.94,0) rotate(90,0,341)\" style=\"font-family: 'Open Sans', verdana, arial, sans-serif; font-size: 12px; fill: rgb(42, 63, 95); fill-opacity: 1; white-space: pre;\">2002/4/4</text></g><g class=\"xtick\"><text text-anchor=\"start\" x=\"0\" y=\"347\" transform=\"translate(224.38,0) rotate(90,0,341)\" style=\"font-family: 'Open Sans', verdana, arial, sans-serif; font-size: 12px; fill: rgb(42, 63, 95); fill-opacity: 1; white-space: pre;\">2002/11/15</text></g><g class=\"xtick\"><text text-anchor=\"start\" x=\"0\" y=\"347\" transform=\"translate(238.82,0) rotate(90,0,341)\" style=\"font-family: 'Open Sans', verdana, arial, sans-serif; font-size: 12px; fill: rgb(42, 63, 95); fill-opacity: 1; white-space: pre;\">2003/7/4</text></g><g class=\"xtick\"><text text-anchor=\"start\" x=\"0\" y=\"347\" transform=\"translate(253.26,0) rotate(90,0,341)\" style=\"font-family: 'Open Sans', verdana, arial, sans-serif; font-size: 12px; fill: rgb(42, 63, 95); fill-opacity: 1; white-space: pre;\">2004/2/19</text></g><g class=\"xtick\"><text text-anchor=\"start\" x=\"0\" y=\"347\" transform=\"translate(267.69,0) rotate(90,0,341)\" style=\"font-family: 'Open Sans', verdana, arial, sans-serif; font-size: 12px; fill: rgb(42, 63, 95); fill-opacity: 1; white-space: pre;\">2004/10/1</text></g><g class=\"xtick\"><text text-anchor=\"start\" x=\"0\" y=\"347\" transform=\"translate(282.13,0) rotate(90,0,341)\" style=\"font-family: 'Open Sans', verdana, arial, sans-serif; font-size: 12px; fill: rgb(42, 63, 95); fill-opacity: 1; white-space: pre;\">2005/5/20</text></g><g class=\"xtick\"><text text-anchor=\"start\" x=\"0\" y=\"347\" transform=\"translate(296.57,0) rotate(90,0,341)\" style=\"font-family: 'Open Sans', verdana, arial, sans-serif; font-size: 12px; fill: rgb(42, 63, 95); fill-opacity: 1; white-space: pre;\">2006/1/2</text></g><g class=\"xtick\"><text text-anchor=\"start\" x=\"0\" y=\"347\" transform=\"translate(311.01,0) rotate(90,0,341)\" style=\"font-family: 'Open Sans', verdana, arial, sans-serif; font-size: 12px; fill: rgb(42, 63, 95); fill-opacity: 1; white-space: pre;\">2006/8/21</text></g><g class=\"xtick\"><text text-anchor=\"start\" x=\"0\" y=\"347\" transform=\"translate(325.45,0) rotate(90,0,341)\" style=\"font-family: 'Open Sans', verdana, arial, sans-serif; font-size: 12px; fill: rgb(42, 63, 95); fill-opacity: 1; white-space: pre;\">2007/4/11</text></g><g class=\"xtick\"><text text-anchor=\"start\" x=\"0\" y=\"347\" transform=\"translate(339.88,0) rotate(90,0,341)\" style=\"font-family: 'Open Sans', verdana, arial, sans-serif; font-size: 12px; fill: rgb(42, 63, 95); fill-opacity: 1; white-space: pre;\">2007/11/22</text></g><g class=\"xtick\"><text text-anchor=\"start\" x=\"0\" y=\"347\" transform=\"translate(354.32,0) rotate(90,0,341)\" style=\"font-family: 'Open Sans', verdana, arial, sans-serif; font-size: 12px; fill: rgb(42, 63, 95); fill-opacity: 1; white-space: pre;\">2008/7/10</text></g><g class=\"xtick\"><text text-anchor=\"start\" x=\"0\" y=\"347\" transform=\"translate(368.76,0) rotate(90,0,341)\" style=\"font-family: 'Open Sans', verdana, arial, sans-serif; font-size: 12px; fill: rgb(42, 63, 95); fill-opacity: 1; white-space: pre;\">2009/2/26</text></g><g class=\"xtick\"><text text-anchor=\"start\" x=\"0\" y=\"347\" transform=\"translate(383.2,0) rotate(90,0,341)\" style=\"font-family: 'Open Sans', verdana, arial, sans-serif; font-size: 12px; fill: rgb(42, 63, 95); fill-opacity: 1; white-space: pre;\">2009/10/8</text></g><g class=\"xtick\"><text text-anchor=\"start\" x=\"0\" y=\"347\" transform=\"translate(397.64,0) rotate(90,0,341)\" style=\"font-family: 'Open Sans', verdana, arial, sans-serif; font-size: 12px; fill: rgb(42, 63, 95); fill-opacity: 1; white-space: pre;\">2010/5/25</text></g><g class=\"xtick\"><text text-anchor=\"start\" x=\"0\" y=\"347\" transform=\"translate(412.07,0) rotate(90,0,341)\" style=\"font-family: 'Open Sans', verdana, arial, sans-serif; font-size: 12px; fill: rgb(42, 63, 95); fill-opacity: 1; white-space: pre;\">2011/1/3</text></g><g class=\"xtick\"><text text-anchor=\"start\" x=\"0\" y=\"347\" transform=\"translate(426.51,0) rotate(90,0,341)\" style=\"font-family: 'Open Sans', verdana, arial, sans-serif; font-size: 12px; fill: rgb(42, 63, 95); fill-opacity: 1; white-space: pre;\">2011/8/23</text></g><g class=\"xtick\"><text text-anchor=\"start\" x=\"0\" y=\"347\" transform=\"translate(440.95,0) rotate(90,0,341)\" style=\"font-family: 'Open Sans', verdana, arial, sans-serif; font-size: 12px; fill: rgb(42, 63, 95); fill-opacity: 1; white-space: pre;\">2012/4/10</text></g><g class=\"xtick\"><text text-anchor=\"start\" x=\"0\" y=\"347\" transform=\"translate(455.39,0) rotate(90,0,341)\" style=\"font-family: 'Open Sans', verdana, arial, sans-serif; font-size: 12px; fill: rgb(42, 63, 95); fill-opacity: 1; white-space: pre;\">2012/11/20</text></g><g class=\"xtick\"><text text-anchor=\"start\" x=\"0\" y=\"347\" transform=\"translate(469.83,0) rotate(90,0,341)\" style=\"font-family: 'Open Sans', verdana, arial, sans-serif; font-size: 12px; fill: rgb(42, 63, 95); fill-opacity: 1; white-space: pre;\">2013/7/11</text></g><g class=\"xtick\"><text text-anchor=\"start\" x=\"0\" y=\"347\" transform=\"translate(484.26,0) rotate(90,0,341)\" style=\"font-family: 'Open Sans', verdana, arial, sans-serif; font-size: 12px; fill: rgb(42, 63, 95); fill-opacity: 1; white-space: pre;\">2014/2/27</text></g><g class=\"xtick\"><text text-anchor=\"start\" x=\"0\" y=\"347\" transform=\"translate(498.7,0) rotate(90,0,341)\" style=\"font-family: 'Open Sans', verdana, arial, sans-serif; font-size: 12px; fill: rgb(42, 63, 95); fill-opacity: 1; white-space: pre;\">2014/10/15</text></g><g class=\"xtick\"><text text-anchor=\"start\" x=\"0\" y=\"347\" transform=\"translate(513.14,0) rotate(90,0,341)\" style=\"font-family: 'Open Sans', verdana, arial, sans-serif; font-size: 12px; fill: rgb(42, 63, 95); fill-opacity: 1; white-space: pre;\">2015/6/4</text></g><g class=\"xtick\"><text text-anchor=\"start\" x=\"0\" y=\"347\" transform=\"translate(527.5799999999999,0) rotate(90,0,341)\" style=\"font-family: 'Open Sans', verdana, arial, sans-serif; font-size: 12px; fill: rgb(42, 63, 95); fill-opacity: 1; white-space: pre;\">2016/1/19</text></g><g class=\"xtick\"><text text-anchor=\"start\" x=\"0\" y=\"347\" transform=\"translate(542.02,0) rotate(90,0,341)\" style=\"font-family: 'Open Sans', verdana, arial, sans-serif; font-size: 12px; fill: rgb(42, 63, 95); fill-opacity: 1; white-space: pre;\">2016/9/8</text></g><g class=\"xtick\"><text text-anchor=\"start\" x=\"0\" y=\"347\" transform=\"translate(556.45,0) rotate(90,0,341)\" style=\"font-family: 'Open Sans', verdana, arial, sans-serif; font-size: 12px; fill: rgb(42, 63, 95); fill-opacity: 1; white-space: pre;\">2017/5/5</text></g><g class=\"xtick\"><text text-anchor=\"start\" x=\"0\" y=\"347\" transform=\"translate(570.89,0) rotate(90,0,341)\" style=\"font-family: 'Open Sans', verdana, arial, sans-serif; font-size: 12px; fill: rgb(42, 63, 95); fill-opacity: 1; white-space: pre;\">2017/12/22</text></g><g class=\"xtick\"><text text-anchor=\"start\" x=\"0\" y=\"347\" transform=\"translate(585.3299999999999,0) rotate(90,0,341)\" style=\"font-family: 'Open Sans', verdana, arial, sans-serif; font-size: 12px; fill: rgb(42, 63, 95); fill-opacity: 1; white-space: pre;\">2018/8/24</text></g><g class=\"xtick\"><text text-anchor=\"start\" x=\"0\" y=\"347\" transform=\"translate(599.77,0) rotate(90,0,341)\" style=\"font-family: 'Open Sans', verdana, arial, sans-serif; font-size: 12px; fill: rgb(42, 63, 95); fill-opacity: 1; white-space: pre;\">2019/5/3</text></g><g class=\"xtick\"><text text-anchor=\"start\" x=\"0\" y=\"347\" transform=\"translate(614.21,0) rotate(90,0,341)\" style=\"font-family: 'Open Sans', verdana, arial, sans-serif; font-size: 12px; fill: rgb(42, 63, 95); fill-opacity: 1; white-space: pre;\">2019/12/24</text></g></g><g class=\"yaxislayer-above\"><g class=\"ytick\"><text text-anchor=\"end\" x=\"79\" y=\"4.199999999999999\" transform=\"translate(0,329.06)\" style=\"font-family: 'Open Sans', verdana, arial, sans-serif; font-size: 12px; fill: rgb(42, 63, 95); fill-opacity: 1; white-space: pre;\">5</text></g><g class=\"ytick\"><text text-anchor=\"end\" x=\"79\" y=\"4.199999999999999\" transform=\"translate(0,262.83000000000004)\" style=\"font-family: 'Open Sans', verdana, arial, sans-serif; font-size: 12px; fill: rgb(42, 63, 95); fill-opacity: 1; white-space: pre;\">10</text></g><g class=\"ytick\"><text text-anchor=\"end\" x=\"79\" y=\"4.199999999999999\" transform=\"translate(0,196.6)\" style=\"font-family: 'Open Sans', verdana, arial, sans-serif; font-size: 12px; fill: rgb(42, 63, 95); fill-opacity: 1; white-space: pre;\">15</text></g><g class=\"ytick\"><text text-anchor=\"end\" x=\"79\" y=\"4.199999999999999\" transform=\"translate(0,130.38)\" style=\"font-family: 'Open Sans', verdana, arial, sans-serif; font-size: 12px; fill: rgb(42, 63, 95); fill-opacity: 1; white-space: pre;\">20</text></g></g><g class=\"overaxes-above\"/></g></g><g class=\"polarlayer\"/><g class=\"ternarylayer\"/><g class=\"geolayer\"/><g class=\"funnelarealayer\"/><g class=\"pielayer\"/><g class=\"treemaplayer\"/><g class=\"sunburstlayer\"/><g class=\"glimages\"><image xmlns=\"http://www.w3.org/2000/svg\" xlink:href=\"data:image/png;base64,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\" preserveAspectRatio=\"none\" x=\"0\" y=\"0\" width=\"700\" height=\"450\"/><image xmlns=\"http://www.w3.org/2000/svg\" xlink:href=\"data:image/png;base64,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\" preserveAspectRatio=\"none\" x=\"0\" y=\"0\" width=\"700\" height=\"450\"/></g><defs id=\"topdefs-d94fa6\"><g class=\"clips\"/></defs><g class=\"layer-above\"><g class=\"imagelayer\"/><g class=\"shapelayer\"/></g><g class=\"infolayer\"><g class=\"g-gtitle\"><text class=\"gtitle\" x=\"35\" y=\"50\" text-anchor=\"start\" dy=\"0em\" style=\"font-family: 'Open Sans', verdana, arial, sans-serif; font-size: 17px; fill: rgb(42, 63, 95); opacity: 1; font-weight: normal; white-space: pre;\">Nomura Global Equity Fund</text></g><g class=\"g-xtitle\"><text class=\"xtitle\" x=\"350\" y=\"437.721875\" text-anchor=\"middle\" style=\"font-family: 'Open Sans', verdana, arial, sans-serif; font-size: 14px; fill: rgb(42, 63, 95); opacity: 1; font-weight: normal; white-space: pre;\">Date</text></g><g class=\"g-ytitle\"><text class=\"ytitle\" transform=\"rotate(-90,38.934375,217)\" x=\"38.934375\" y=\"217\" text-anchor=\"middle\" style=\"font-family: 'Open Sans', verdana, arial, sans-serif; font-size: 14px; fill: rgb(42, 63, 95); opacity: 1; font-weight: normal; white-space: pre;\">Price</text></g></g></svg>"
      ]
     },
     "metadata": {},
     "output_type": "display_data"
    }
   ],
   "source": [
    "Data = pd.read_csv(\"Nomura_Global_Equity_Fund.csv\")\n",
    "fig = px.line(Data, x = \"Date\", y = \"Price\", title = 'Nomura Global Equity Fund')\n",
    "fig.show()"
   ]
  },
  {
   "cell_type": "code",
   "execution_count": null,
   "metadata": {
    "scrolled": true
   },
   "outputs": [],
   "source": [
    "D_invest = investRoiDataFrame(investPriceAvg(percentDaysStrategDataFrame(10,10)))\n",
    "dollarCostAveraging = investRoiDataFrame(investPriceAvg(percentDaysStrategDataFrame(100,30)))\n",
    "\n",
    "fig = go.Figure()\n",
    "fig.add_trace(go.Scatter(x=D_invest[\"Date\"], y=D_invest[\"Price\"], mode='lines', name='D-Invest'))\n",
    "fig.add_trace(go.Scatter(x=dollarCostAveraging[\"Date\"], y=dollarCostAveraging[\"Price\"], mode='lines', name='DCA'))\n",
    "fig.update_layout(title=\"Return on invest\", xaxis_title=\"Date\", yaxis_title=\"ROI\")\n",
    "fig.show()"
   ]
  },
  {
   "cell_type": "code",
   "execution_count": 4,
   "metadata": {
    "scrolled": false
   },
   "outputs": [
    {
     "data": {
      "application/vnd.plotly.v1+json": {
       "config": {
        "plotlyServerURL": "https://plot.ly"
       },
       "data": [
        {
         "name": "1997",
         "type": "bar",
         "x": [
          "01",
          "02",
          "03",
          "04",
          "05",
          "06",
          "07",
          "08",
          "09",
          "10",
          "11",
          "12"
         ],
         "y": [
          0.005655318299078643,
          0.02218222069340528,
          0.004220597560459971,
          0.004108704869371074,
          0.005020764356166875,
          0.005964131157605166,
          0.016184278108672432,
          0.01204939515917547,
          0.007253242444092095,
          0.013538522971539655,
          0.011901305797519952,
          0.00794870187018903
         ]
        },
        {
         "name": "1998",
         "type": "bar",
         "x": [
          "01",
          "02",
          "03",
          "04",
          "05",
          "06",
          "07",
          "08",
          "09",
          "10",
          "11",
          "12"
         ],
         "y": [
          0.010219072533174112,
          0.016069411391213467,
          0.006964743499993496,
          0.008619528559961152,
          0.0058334087790119496,
          0.010790679376233955,
          0.007849808329647628,
          0.012692472120028076,
          0.014005200843913894,
          0.021104758161983792,
          0.010609451475756062,
          0.008097693171230064
         ]
        },
        {
         "name": "1999",
         "type": "bar",
         "x": [
          "01",
          "02",
          "03",
          "04",
          "05",
          "06",
          "07",
          "08",
          "09",
          "10",
          "11",
          "12"
         ],
         "y": [
          0.010890944961349316,
          0.018971901020960878,
          0.00840491304917535,
          0.007285833468785009,
          0.008730757490037542,
          0.0074665857714241125,
          0.0052303195362489365,
          0.0059356517624933915,
          0.008620461838115233,
          0.01144000801815517,
          0.009742104548510565,
          0.008445521356732887
         ]
        },
        {
         "name": "2000",
         "type": "bar",
         "x": [
          "01",
          "02",
          "03",
          "04",
          "05",
          "06",
          "07",
          "08",
          "09",
          "10",
          "11",
          "12"
         ],
         "y": [
          0.013633179708428688,
          0.019503082978672065,
          0.017001923822453163,
          0.016898268895123778,
          0.013051977487046038,
          0.008602611947448732,
          0.010593430366661286,
          0.005793107419644071,
          0.00917288791021143,
          0.012840283884043499,
          0.012003842407356021,
          0.014305774902844364
         ]
        },
        {
         "name": "2001",
         "type": "bar",
         "x": [
          "01",
          "02",
          "03",
          "04",
          "05",
          "06",
          "07",
          "08",
          "09",
          "10",
          "11",
          "12"
         ],
         "y": [
          0.009635872825768383,
          0.009666540816189454,
          0.029798442964192828,
          0.015439635140633252,
          0.010142139821522903,
          0.006154032600580048,
          0.009562178577846595,
          0.008722253389663277,
          0.018155121373069315,
          0.009848859404745528,
          0.008506124008544603,
          0.009710379801874516
         ]
        },
        {
         "name": "2002",
         "type": "bar",
         "x": [
          "01",
          "02",
          "03",
          "04",
          "05",
          "06",
          "07",
          "08",
          "09",
          "10",
          "11",
          "12"
         ],
         "y": [
          0.007413846801841254,
          0.012920978575684987,
          0.00819134679328887,
          0.007892245427300036,
          0.010582342706478648,
          0.010907314815768421,
          0.020701230435181576,
          0.01687700571924656,
          0.01637762127465812,
          0.017515892477303726,
          0.010512428222014557,
          0.00860774244521761
         ]
        },
        {
         "name": "2003",
         "type": "bar",
         "x": [
          "01",
          "02",
          "03",
          "04",
          "05",
          "06",
          "07",
          "08",
          "09",
          "10",
          "11",
          "12"
         ],
         "y": [
          0.01129063756531866,
          0.010190047626340662,
          0.01558721303198513,
          0.009260742717911774,
          0.007711756861564861,
          0.009197140664792087,
          0.008088696559790637,
          0.00548905824753395,
          0.007553213769994894,
          0.006258323990016506,
          0.006113810941986245,
          0.004851783493487368
         ]
        },
        {
         "name": "2004",
         "type": "bar",
         "x": [
          "01",
          "02",
          "03",
          "04",
          "05",
          "06",
          "07",
          "08",
          "09",
          "10",
          "11",
          "12"
         ],
         "y": [
          0.004461553072030903,
          0.00454269602109095,
          0.008624372798009795,
          0.006283763379526439,
          0.007331904155565118,
          0.00598062173024526,
          0.004765836627295876,
          0.00707602069657642,
          0.005403609786835839,
          0.006283343250014274,
          0.0043833289018204704,
          0.004513277799151324
         ]
        },
        {
         "name": "2005",
         "type": "bar",
         "x": [
          "01",
          "02",
          "03",
          "04",
          "05",
          "06",
          "07",
          "08",
          "09",
          "10",
          "11",
          "12"
         ],
         "y": [
          0.004949666505579931,
          0.005708158448503002,
          0.004343512440306442,
          0.006207216502819769,
          0.004444121613714671,
          0.004695494386717707,
          0.004605585093450476,
          0.004616564463839201,
          0.004933017390159601,
          0.005964612742393833,
          0.003987612709533828,
          0.0048908336295191935
         ]
        },
        {
         "name": "2006",
         "type": "bar",
         "x": [
          "01",
          "02",
          "03",
          "04",
          "05",
          "06",
          "07",
          "08",
          "09",
          "10",
          "11",
          "12"
         ],
         "y": [
          0.006712292518320406,
          0.00407753111565782,
          0.003812005323048815,
          0.005655213108552073,
          0.008215814253263409,
          0.008955642120098434,
          0.00722333471984554,
          0.005281667299300269,
          0.0042318338923266995,
          0.003926647009753193,
          0.003767473003008635,
          0.0032208076201221047
         ]
        },
        {
         "name": "2007",
         "type": "bar",
         "x": [
          "01",
          "02",
          "03",
          "04",
          "05",
          "06",
          "07",
          "08",
          "09",
          "10",
          "11",
          "12"
         ],
         "y": [
          0.0036086315088608998,
          0.0076289973750398405,
          0.008849006246228898,
          0.004817837388167821,
          0.0039594778165947635,
          0.0062184337131121325,
          0.008255202336715355,
          0.011578264404781054,
          0.010356062375540204,
          0.007182377926564317,
          0.010104162998830084,
          0.007784958306990672
         ]
        },
        {
         "name": "2008",
         "type": "bar",
         "x": [
          "01",
          "02",
          "03",
          "04",
          "05",
          "06",
          "07",
          "08",
          "09",
          "10",
          "11",
          "12"
         ],
         "y": [
          0.010886383644630846,
          0.011898364359779414,
          0.01156650636082591,
          0.008083917329421935,
          0.005892980042084006,
          0.006350288648739452,
          0.006355180525186318,
          0.008757499845041533,
          0.018392613073037408,
          0.030373849801826593,
          0.02582682940272205,
          0.018134742951510775
         ]
        },
        {
         "name": "2009",
         "type": "bar",
         "x": [
          "01",
          "02",
          "03",
          "04",
          "05",
          "06",
          "07",
          "08",
          "09",
          "10",
          "11",
          "12"
         ],
         "y": [
          0.012209553595211187,
          0.012009619047561313,
          0.019594008601243693,
          0.012673437721853902,
          0.010398755625224524,
          0.011910850542682183,
          0.009423824780284334,
          0.008222384876696149,
          0.006608050504233942,
          0.009990924602537506,
          0.007300767196690826,
          0.006128488867910675
         ]
        },
        {
         "name": "2010",
         "type": "bar",
         "x": [
          "01",
          "02",
          "03",
          "04",
          "05",
          "06",
          "07",
          "08",
          "09",
          "10",
          "11",
          "12"
         ],
         "y": [
          0.006182667752048312,
          0.00997495036012923,
          0.0041863739388148715,
          0.0068684463465135785,
          0.015552525172345972,
          0.01064897942024831,
          0.008553732821894462,
          0.008536155548670469,
          0.007773580706497913,
          0.005581893451918396,
          0.007807415634244928,
          0.0058149998340073835
         ]
        },
        {
         "name": "2011",
         "type": "bar",
         "x": [
          "01",
          "02",
          "03",
          "04",
          "05",
          "06",
          "07",
          "08",
          "09",
          "10",
          "11",
          "12"
         ],
         "y": [
          0.006778371827872559,
          0.006326040206368111,
          0.007769196646710955,
          0.005556928157977399,
          0.005169055711020082,
          0.008119111028489981,
          0.006894140432986666,
          0.017868511593700617,
          0.014333973767103998,
          0.014211864770901883,
          0.014751011690808561,
          0.00853062848191452
         ]
        },
        {
         "name": "2012",
         "type": "bar",
         "x": [
          "01",
          "02",
          "03",
          "04",
          "05",
          "06",
          "07",
          "08",
          "09",
          "10",
          "11",
          "12"
         ],
         "y": [
          0.005703954207492944,
          0.00598842884715601,
          0.0074456991310584714,
          0.010369711507012018,
          0.006742527422945841,
          0.010439752855347366,
          0.009761606512911124,
          0.0040940367169290835,
          0.007618116279179279,
          0.006557741906729358,
          0.007683079256456316,
          0.00396130745785483
         ]
        },
        {
         "name": "2013",
         "type": "bar",
         "x": [
          "01",
          "02",
          "03",
          "04",
          "05",
          "06",
          "07",
          "08",
          "09",
          "10",
          "11",
          "12"
         ],
         "y": [
          0.00656661171408756,
          0.00803716203448794,
          0.004913602779095821,
          0.008043461271864425,
          0.005415740002836821,
          0.009706527112125624,
          0.004100081816922299,
          0.005515037119619979,
          0.004251181215071641,
          0.005980600056327163,
          0.004043047881295939,
          0.005700900030947622
         ]
        },
        {
         "name": "2014",
         "type": "bar",
         "x": [
          "01",
          "02",
          "03",
          "04",
          "05",
          "06",
          "07",
          "08",
          "09",
          "10",
          "11",
          "12"
         ],
         "y": [
          0.0051586962595144,
          0.006822135993408947,
          0.00569289345113556,
          0.005711565393544779,
          0.0036844038307988613,
          0.002860520466596291,
          0.005733454436481303,
          0.003992147821712269,
          0.005042699227220836,
          0.010354776742080412,
          0.002919683531472517,
          0.008317935639416131
         ]
        },
        {
         "name": "2015",
         "type": "bar",
         "x": [
          "01",
          "02",
          "03",
          "04",
          "05",
          "06",
          "07",
          "08",
          "09",
          "10",
          "11",
          "12"
         ],
         "y": [
          0.007852798410783695,
          0.006002204326291394,
          0.008353059118380832,
          0.005742472792503209,
          0.004602341216678288,
          0.006329717438170025,
          0.00824869728146873,
          0.012897481048458292,
          0.013023117059099733,
          0.006988743070090982,
          0.006119904931460903,
          0.009408436817602464
         ]
        },
        {
         "name": "2016",
         "type": "bar",
         "x": [
          "01",
          "02",
          "03",
          "04",
          "05",
          "06",
          "07",
          "08",
          "09",
          "10",
          "11",
          "12"
         ],
         "y": [
          0.011749745384970678,
          0.01083513025255787,
          0.005033902161074707,
          0.005257955791761378,
          0.006458017202940651,
          0.01035873461976396,
          0.004085793872315324,
          0.004400062514128602,
          0.0070672318745639544,
          0.00419338930916715,
          0.007136022340947655,
          0.00479492697427994
         ]
        },
        {
         "name": "2017",
         "type": "bar",
         "x": [
          "01",
          "02",
          "03",
          "04",
          "05",
          "06",
          "07",
          "08",
          "09",
          "10",
          "11",
          "12"
         ],
         "y": [
          0.00419254147310515,
          0.003414601680474803,
          0.005313571415641385,
          0.005538069462503444,
          0.004856951246737014,
          0.0058766902074486515,
          0.004329954689039001,
          0.005739789386240544,
          0.006120427536349778,
          0.0041085877205201335,
          0.005839073118360168,
          0.004882045911062676
         ]
        },
        {
         "name": "2018",
         "type": "bar",
         "x": [
          "01",
          "02",
          "03",
          "04",
          "05",
          "06",
          "07",
          "08",
          "09",
          "10",
          "11",
          "12"
         ],
         "y": [
          0.005212440104950533,
          0.018101304614760134,
          0.01217351874278609,
          0.008496350477543007,
          0.005503938970345666,
          0.00641339102426737,
          0.006422040989784765,
          0.004221714806613248,
          0.00461719851119757,
          0.014283578669650746,
          0.010860168936555531,
          0.014121813112706475
         ]
        },
        {
         "name": "2019",
         "type": "bar",
         "x": [
          "01",
          "02",
          "03",
          "04",
          "05",
          "06",
          "07",
          "08",
          "09",
          "10",
          "11",
          "12"
         ],
         "y": [
          0.009140577133624652,
          0.005574654490580427,
          0.006987720222699461,
          0.0032256596313846434,
          0.008877618106737038,
          0.007473124148175387,
          0.004358173873465598,
          0.011400062055593397,
          0.006940164291389918,
          0.007767983218059017,
          0.004216259639820867,
          0.004406321787322297
         ]
        },
        {
         "name": "2020",
         "type": "bar",
         "x": [
          "01",
          "02",
          "03",
          "04",
          "05",
          "06",
          "07",
          "08",
          "09",
          "10",
          "11",
          "12"
         ],
         "y": [
          0.006584507512213381,
          0.013492020825541236,
          0.044611985539135326,
          0.029876748422567687
         ]
        }
       ],
       "layout": {
        "template": {
         "data": {
          "bar": [
           {
            "error_x": {
             "color": "#2a3f5f"
            },
            "error_y": {
             "color": "#2a3f5f"
            },
            "marker": {
             "line": {
              "color": "#E5ECF6",
              "width": 0.5
             }
            },
            "type": "bar"
           }
          ],
          "barpolar": [
           {
            "marker": {
             "line": {
              "color": "#E5ECF6",
              "width": 0.5
             }
            },
            "type": "barpolar"
           }
          ],
          "carpet": [
           {
            "aaxis": {
             "endlinecolor": "#2a3f5f",
             "gridcolor": "white",
             "linecolor": "white",
             "minorgridcolor": "white",
             "startlinecolor": "#2a3f5f"
            },
            "baxis": {
             "endlinecolor": "#2a3f5f",
             "gridcolor": "white",
             "linecolor": "white",
             "minorgridcolor": "white",
             "startlinecolor": "#2a3f5f"
            },
            "type": "carpet"
           }
          ],
          "choropleth": [
           {
            "colorbar": {
             "outlinewidth": 0,
             "ticks": ""
            },
            "type": "choropleth"
           }
          ],
          "contour": [
           {
            "colorbar": {
             "outlinewidth": 0,
             "ticks": ""
            },
            "colorscale": [
             [
              0,
              "#0d0887"
             ],
             [
              0.1111111111111111,
              "#46039f"
             ],
             [
              0.2222222222222222,
              "#7201a8"
             ],
             [
              0.3333333333333333,
              "#9c179e"
             ],
             [
              0.4444444444444444,
              "#bd3786"
             ],
             [
              0.5555555555555556,
              "#d8576b"
             ],
             [
              0.6666666666666666,
              "#ed7953"
             ],
             [
              0.7777777777777778,
              "#fb9f3a"
             ],
             [
              0.8888888888888888,
              "#fdca26"
             ],
             [
              1,
              "#f0f921"
             ]
            ],
            "type": "contour"
           }
          ],
          "contourcarpet": [
           {
            "colorbar": {
             "outlinewidth": 0,
             "ticks": ""
            },
            "type": "contourcarpet"
           }
          ],
          "heatmap": [
           {
            "colorbar": {
             "outlinewidth": 0,
             "ticks": ""
            },
            "colorscale": [
             [
              0,
              "#0d0887"
             ],
             [
              0.1111111111111111,
              "#46039f"
             ],
             [
              0.2222222222222222,
              "#7201a8"
             ],
             [
              0.3333333333333333,
              "#9c179e"
             ],
             [
              0.4444444444444444,
              "#bd3786"
             ],
             [
              0.5555555555555556,
              "#d8576b"
             ],
             [
              0.6666666666666666,
              "#ed7953"
             ],
             [
              0.7777777777777778,
              "#fb9f3a"
             ],
             [
              0.8888888888888888,
              "#fdca26"
             ],
             [
              1,
              "#f0f921"
             ]
            ],
            "type": "heatmap"
           }
          ],
          "heatmapgl": [
           {
            "colorbar": {
             "outlinewidth": 0,
             "ticks": ""
            },
            "colorscale": [
             [
              0,
              "#0d0887"
             ],
             [
              0.1111111111111111,
              "#46039f"
             ],
             [
              0.2222222222222222,
              "#7201a8"
             ],
             [
              0.3333333333333333,
              "#9c179e"
             ],
             [
              0.4444444444444444,
              "#bd3786"
             ],
             [
              0.5555555555555556,
              "#d8576b"
             ],
             [
              0.6666666666666666,
              "#ed7953"
             ],
             [
              0.7777777777777778,
              "#fb9f3a"
             ],
             [
              0.8888888888888888,
              "#fdca26"
             ],
             [
              1,
              "#f0f921"
             ]
            ],
            "type": "heatmapgl"
           }
          ],
          "histogram": [
           {
            "marker": {
             "colorbar": {
              "outlinewidth": 0,
              "ticks": ""
             }
            },
            "type": "histogram"
           }
          ],
          "histogram2d": [
           {
            "colorbar": {
             "outlinewidth": 0,
             "ticks": ""
            },
            "colorscale": [
             [
              0,
              "#0d0887"
             ],
             [
              0.1111111111111111,
              "#46039f"
             ],
             [
              0.2222222222222222,
              "#7201a8"
             ],
             [
              0.3333333333333333,
              "#9c179e"
             ],
             [
              0.4444444444444444,
              "#bd3786"
             ],
             [
              0.5555555555555556,
              "#d8576b"
             ],
             [
              0.6666666666666666,
              "#ed7953"
             ],
             [
              0.7777777777777778,
              "#fb9f3a"
             ],
             [
              0.8888888888888888,
              "#fdca26"
             ],
             [
              1,
              "#f0f921"
             ]
            ],
            "type": "histogram2d"
           }
          ],
          "histogram2dcontour": [
           {
            "colorbar": {
             "outlinewidth": 0,
             "ticks": ""
            },
            "colorscale": [
             [
              0,
              "#0d0887"
             ],
             [
              0.1111111111111111,
              "#46039f"
             ],
             [
              0.2222222222222222,
              "#7201a8"
             ],
             [
              0.3333333333333333,
              "#9c179e"
             ],
             [
              0.4444444444444444,
              "#bd3786"
             ],
             [
              0.5555555555555556,
              "#d8576b"
             ],
             [
              0.6666666666666666,
              "#ed7953"
             ],
             [
              0.7777777777777778,
              "#fb9f3a"
             ],
             [
              0.8888888888888888,
              "#fdca26"
             ],
             [
              1,
              "#f0f921"
             ]
            ],
            "type": "histogram2dcontour"
           }
          ],
          "mesh3d": [
           {
            "colorbar": {
             "outlinewidth": 0,
             "ticks": ""
            },
            "type": "mesh3d"
           }
          ],
          "parcoords": [
           {
            "line": {
             "colorbar": {
              "outlinewidth": 0,
              "ticks": ""
             }
            },
            "type": "parcoords"
           }
          ],
          "pie": [
           {
            "automargin": true,
            "type": "pie"
           }
          ],
          "scatter": [
           {
            "marker": {
             "colorbar": {
              "outlinewidth": 0,
              "ticks": ""
             }
            },
            "type": "scatter"
           }
          ],
          "scatter3d": [
           {
            "line": {
             "colorbar": {
              "outlinewidth": 0,
              "ticks": ""
             }
            },
            "marker": {
             "colorbar": {
              "outlinewidth": 0,
              "ticks": ""
             }
            },
            "type": "scatter3d"
           }
          ],
          "scattercarpet": [
           {
            "marker": {
             "colorbar": {
              "outlinewidth": 0,
              "ticks": ""
             }
            },
            "type": "scattercarpet"
           }
          ],
          "scattergeo": [
           {
            "marker": {
             "colorbar": {
              "outlinewidth": 0,
              "ticks": ""
             }
            },
            "type": "scattergeo"
           }
          ],
          "scattergl": [
           {
            "marker": {
             "colorbar": {
              "outlinewidth": 0,
              "ticks": ""
             }
            },
            "type": "scattergl"
           }
          ],
          "scattermapbox": [
           {
            "marker": {
             "colorbar": {
              "outlinewidth": 0,
              "ticks": ""
             }
            },
            "type": "scattermapbox"
           }
          ],
          "scatterpolar": [
           {
            "marker": {
             "colorbar": {
              "outlinewidth": 0,
              "ticks": ""
             }
            },
            "type": "scatterpolar"
           }
          ],
          "scatterpolargl": [
           {
            "marker": {
             "colorbar": {
              "outlinewidth": 0,
              "ticks": ""
             }
            },
            "type": "scatterpolargl"
           }
          ],
          "scatterternary": [
           {
            "marker": {
             "colorbar": {
              "outlinewidth": 0,
              "ticks": ""
             }
            },
            "type": "scatterternary"
           }
          ],
          "surface": [
           {
            "colorbar": {
             "outlinewidth": 0,
             "ticks": ""
            },
            "colorscale": [
             [
              0,
              "#0d0887"
             ],
             [
              0.1111111111111111,
              "#46039f"
             ],
             [
              0.2222222222222222,
              "#7201a8"
             ],
             [
              0.3333333333333333,
              "#9c179e"
             ],
             [
              0.4444444444444444,
              "#bd3786"
             ],
             [
              0.5555555555555556,
              "#d8576b"
             ],
             [
              0.6666666666666666,
              "#ed7953"
             ],
             [
              0.7777777777777778,
              "#fb9f3a"
             ],
             [
              0.8888888888888888,
              "#fdca26"
             ],
             [
              1,
              "#f0f921"
             ]
            ],
            "type": "surface"
           }
          ],
          "table": [
           {
            "cells": {
             "fill": {
              "color": "#EBF0F8"
             },
             "line": {
              "color": "white"
             }
            },
            "header": {
             "fill": {
              "color": "#C8D4E3"
             },
             "line": {
              "color": "white"
             }
            },
            "type": "table"
           }
          ]
         },
         "layout": {
          "annotationdefaults": {
           "arrowcolor": "#2a3f5f",
           "arrowhead": 0,
           "arrowwidth": 1
          },
          "coloraxis": {
           "colorbar": {
            "outlinewidth": 0,
            "ticks": ""
           }
          },
          "colorscale": {
           "diverging": [
            [
             0,
             "#8e0152"
            ],
            [
             0.1,
             "#c51b7d"
            ],
            [
             0.2,
             "#de77ae"
            ],
            [
             0.3,
             "#f1b6da"
            ],
            [
             0.4,
             "#fde0ef"
            ],
            [
             0.5,
             "#f7f7f7"
            ],
            [
             0.6,
             "#e6f5d0"
            ],
            [
             0.7,
             "#b8e186"
            ],
            [
             0.8,
             "#7fbc41"
            ],
            [
             0.9,
             "#4d9221"
            ],
            [
             1,
             "#276419"
            ]
           ],
           "sequential": [
            [
             0,
             "#0d0887"
            ],
            [
             0.1111111111111111,
             "#46039f"
            ],
            [
             0.2222222222222222,
             "#7201a8"
            ],
            [
             0.3333333333333333,
             "#9c179e"
            ],
            [
             0.4444444444444444,
             "#bd3786"
            ],
            [
             0.5555555555555556,
             "#d8576b"
            ],
            [
             0.6666666666666666,
             "#ed7953"
            ],
            [
             0.7777777777777778,
             "#fb9f3a"
            ],
            [
             0.8888888888888888,
             "#fdca26"
            ],
            [
             1,
             "#f0f921"
            ]
           ],
           "sequentialminus": [
            [
             0,
             "#0d0887"
            ],
            [
             0.1111111111111111,
             "#46039f"
            ],
            [
             0.2222222222222222,
             "#7201a8"
            ],
            [
             0.3333333333333333,
             "#9c179e"
            ],
            [
             0.4444444444444444,
             "#bd3786"
            ],
            [
             0.5555555555555556,
             "#d8576b"
            ],
            [
             0.6666666666666666,
             "#ed7953"
            ],
            [
             0.7777777777777778,
             "#fb9f3a"
            ],
            [
             0.8888888888888888,
             "#fdca26"
            ],
            [
             1,
             "#f0f921"
            ]
           ]
          },
          "colorway": [
           "#636efa",
           "#EF553B",
           "#00cc96",
           "#ab63fa",
           "#FFA15A",
           "#19d3f3",
           "#FF6692",
           "#B6E880",
           "#FF97FF",
           "#FECB52"
          ],
          "font": {
           "color": "#2a3f5f"
          },
          "geo": {
           "bgcolor": "white",
           "lakecolor": "white",
           "landcolor": "#E5ECF6",
           "showlakes": true,
           "showland": true,
           "subunitcolor": "white"
          },
          "hoverlabel": {
           "align": "left"
          },
          "hovermode": "closest",
          "mapbox": {
           "style": "light"
          },
          "paper_bgcolor": "white",
          "plot_bgcolor": "#E5ECF6",
          "polar": {
           "angularaxis": {
            "gridcolor": "white",
            "linecolor": "white",
            "ticks": ""
           },
           "bgcolor": "#E5ECF6",
           "radialaxis": {
            "gridcolor": "white",
            "linecolor": "white",
            "ticks": ""
           }
          },
          "scene": {
           "xaxis": {
            "backgroundcolor": "#E5ECF6",
            "gridcolor": "white",
            "gridwidth": 2,
            "linecolor": "white",
            "showbackground": true,
            "ticks": "",
            "zerolinecolor": "white"
           },
           "yaxis": {
            "backgroundcolor": "#E5ECF6",
            "gridcolor": "white",
            "gridwidth": 2,
            "linecolor": "white",
            "showbackground": true,
            "ticks": "",
            "zerolinecolor": "white"
           },
           "zaxis": {
            "backgroundcolor": "#E5ECF6",
            "gridcolor": "white",
            "gridwidth": 2,
            "linecolor": "white",
            "showbackground": true,
            "ticks": "",
            "zerolinecolor": "white"
           }
          },
          "shapedefaults": {
           "line": {
            "color": "#2a3f5f"
           }
          },
          "ternary": {
           "aaxis": {
            "gridcolor": "white",
            "linecolor": "white",
            "ticks": ""
           },
           "baxis": {
            "gridcolor": "white",
            "linecolor": "white",
            "ticks": ""
           },
           "bgcolor": "#E5ECF6",
           "caxis": {
            "gridcolor": "white",
            "linecolor": "white",
            "ticks": ""
           }
          },
          "title": {
           "x": 0.05
          },
          "xaxis": {
           "automargin": true,
           "gridcolor": "white",
           "linecolor": "white",
           "ticks": "",
           "title": {
            "standoff": 15
           },
           "zerolinecolor": "white",
           "zerolinewidth": 2
          },
          "yaxis": {
           "automargin": true,
           "gridcolor": "white",
           "linecolor": "white",
           "ticks": "",
           "title": {
            "standoff": 15
           },
           "zerolinecolor": "white",
           "zerolinewidth": 2
          }
         }
        },
        "title": {
         "text": "Year Standard Deviation"
        },
        "xaxis": {
         "title": {
          "text": "Month"
         }
        },
        "yaxis": {
         "title": {
          "text": "Std"
         }
        }
       }
      },
      "text/html": [
       "<div>\n",
       "        \n",
       "        \n",
       "            <div id=\"4416c6c7-8204-426b-9f69-39bb95fb0e3d\" class=\"plotly-graph-div\" style=\"height:525px; width:100%;\"></div>\n",
       "            <script type=\"text/javascript\">\n",
       "                require([\"plotly\"], function(Plotly) {\n",
       "                    window.PLOTLYENV=window.PLOTLYENV || {};\n",
       "                    \n",
       "                if (document.getElementById(\"4416c6c7-8204-426b-9f69-39bb95fb0e3d\")) {\n",
       "                    Plotly.newPlot(\n",
       "                        '4416c6c7-8204-426b-9f69-39bb95fb0e3d',\n",
       "                        [{\"name\": \"1997\", \"type\": \"bar\", \"x\": [\"01\", \"02\", \"03\", \"04\", \"05\", \"06\", \"07\", \"08\", \"09\", \"10\", \"11\", \"12\"], \"y\": [0.005655318299078643, 0.02218222069340528, 0.004220597560459971, 0.004108704869371074, 0.005020764356166875, 0.005964131157605166, 0.016184278108672432, 0.01204939515917547, 0.007253242444092095, 0.013538522971539655, 0.011901305797519952, 0.00794870187018903]}, {\"name\": \"1998\", \"type\": \"bar\", \"x\": [\"01\", \"02\", \"03\", \"04\", \"05\", \"06\", \"07\", \"08\", \"09\", \"10\", \"11\", \"12\"], \"y\": [0.010219072533174112, 0.016069411391213467, 0.006964743499993496, 0.008619528559961152, 0.0058334087790119496, 0.010790679376233955, 0.007849808329647628, 0.012692472120028076, 0.014005200843913894, 0.021104758161983792, 0.010609451475756062, 0.008097693171230064]}, {\"name\": \"1999\", \"type\": \"bar\", \"x\": [\"01\", \"02\", \"03\", \"04\", \"05\", \"06\", \"07\", \"08\", \"09\", \"10\", \"11\", \"12\"], \"y\": [0.010890944961349316, 0.018971901020960878, 0.00840491304917535, 0.007285833468785009, 0.008730757490037542, 0.0074665857714241125, 0.0052303195362489365, 0.0059356517624933915, 0.008620461838115233, 0.01144000801815517, 0.009742104548510565, 0.008445521356732887]}, {\"name\": \"2000\", \"type\": \"bar\", \"x\": [\"01\", \"02\", \"03\", \"04\", \"05\", \"06\", \"07\", \"08\", \"09\", \"10\", \"11\", \"12\"], \"y\": [0.013633179708428688, 0.019503082978672065, 0.017001923822453163, 0.016898268895123778, 0.013051977487046038, 0.008602611947448732, 0.010593430366661286, 0.005793107419644071, 0.00917288791021143, 0.012840283884043499, 0.012003842407356021, 0.014305774902844364]}, {\"name\": \"2001\", \"type\": \"bar\", \"x\": [\"01\", \"02\", \"03\", \"04\", \"05\", \"06\", \"07\", \"08\", \"09\", \"10\", \"11\", \"12\"], \"y\": [0.009635872825768383, 0.009666540816189454, 0.029798442964192828, 0.015439635140633252, 0.010142139821522903, 0.006154032600580048, 0.009562178577846595, 0.008722253389663277, 0.018155121373069315, 0.009848859404745528, 0.008506124008544603, 0.009710379801874516]}, {\"name\": \"2002\", \"type\": \"bar\", \"x\": [\"01\", \"02\", \"03\", \"04\", \"05\", \"06\", \"07\", \"08\", \"09\", \"10\", \"11\", \"12\"], \"y\": [0.007413846801841254, 0.012920978575684987, 0.00819134679328887, 0.007892245427300036, 0.010582342706478648, 0.010907314815768421, 0.020701230435181576, 0.01687700571924656, 0.01637762127465812, 0.017515892477303726, 0.010512428222014557, 0.00860774244521761]}, {\"name\": \"2003\", \"type\": \"bar\", \"x\": [\"01\", \"02\", \"03\", \"04\", \"05\", \"06\", \"07\", \"08\", \"09\", \"10\", \"11\", \"12\"], \"y\": [0.01129063756531866, 0.010190047626340662, 0.01558721303198513, 0.009260742717911774, 0.007711756861564861, 0.009197140664792087, 0.008088696559790637, 0.00548905824753395, 0.007553213769994894, 0.006258323990016506, 0.006113810941986245, 0.004851783493487368]}, {\"name\": \"2004\", \"type\": \"bar\", \"x\": [\"01\", \"02\", \"03\", \"04\", \"05\", \"06\", \"07\", \"08\", \"09\", \"10\", \"11\", \"12\"], \"y\": [0.004461553072030903, 0.00454269602109095, 0.008624372798009795, 0.006283763379526439, 0.007331904155565118, 0.00598062173024526, 0.004765836627295876, 0.00707602069657642, 0.005403609786835839, 0.006283343250014274, 0.0043833289018204704, 0.004513277799151324]}, {\"name\": \"2005\", \"type\": \"bar\", \"x\": [\"01\", \"02\", \"03\", \"04\", \"05\", \"06\", \"07\", \"08\", \"09\", \"10\", \"11\", \"12\"], \"y\": [0.004949666505579931, 0.005708158448503002, 0.004343512440306442, 0.006207216502819769, 0.004444121613714671, 0.004695494386717707, 0.004605585093450476, 0.004616564463839201, 0.004933017390159601, 0.005964612742393833, 0.003987612709533828, 0.0048908336295191935]}, {\"name\": \"2006\", \"type\": \"bar\", \"x\": [\"01\", \"02\", \"03\", \"04\", \"05\", \"06\", \"07\", \"08\", \"09\", \"10\", \"11\", \"12\"], \"y\": [0.006712292518320406, 0.00407753111565782, 0.003812005323048815, 0.005655213108552073, 0.008215814253263409, 0.008955642120098434, 0.00722333471984554, 0.005281667299300269, 0.0042318338923266995, 0.003926647009753193, 0.003767473003008635, 0.0032208076201221047]}, {\"name\": \"2007\", \"type\": \"bar\", \"x\": [\"01\", \"02\", \"03\", \"04\", \"05\", \"06\", \"07\", \"08\", \"09\", \"10\", \"11\", \"12\"], \"y\": [0.0036086315088608998, 0.0076289973750398405, 0.008849006246228898, 0.004817837388167821, 0.0039594778165947635, 0.0062184337131121325, 0.008255202336715355, 0.011578264404781054, 0.010356062375540204, 0.007182377926564317, 0.010104162998830084, 0.007784958306990672]}, {\"name\": \"2008\", \"type\": \"bar\", \"x\": [\"01\", \"02\", \"03\", \"04\", \"05\", \"06\", \"07\", \"08\", \"09\", \"10\", \"11\", \"12\"], \"y\": [0.010886383644630846, 0.011898364359779414, 0.01156650636082591, 0.008083917329421935, 0.005892980042084006, 0.006350288648739452, 0.006355180525186318, 0.008757499845041533, 0.018392613073037408, 0.030373849801826593, 0.02582682940272205, 0.018134742951510775]}, {\"name\": \"2009\", \"type\": \"bar\", \"x\": [\"01\", \"02\", \"03\", \"04\", \"05\", \"06\", \"07\", \"08\", \"09\", \"10\", \"11\", \"12\"], \"y\": [0.012209553595211187, 0.012009619047561313, 0.019594008601243693, 0.012673437721853902, 0.010398755625224524, 0.011910850542682183, 0.009423824780284334, 0.008222384876696149, 0.006608050504233942, 0.009990924602537506, 0.007300767196690826, 0.006128488867910675]}, {\"name\": \"2010\", \"type\": \"bar\", \"x\": [\"01\", \"02\", \"03\", \"04\", \"05\", \"06\", \"07\", \"08\", \"09\", \"10\", \"11\", \"12\"], \"y\": [0.006182667752048312, 0.00997495036012923, 0.0041863739388148715, 0.0068684463465135785, 0.015552525172345972, 0.01064897942024831, 0.008553732821894462, 0.008536155548670469, 0.007773580706497913, 0.005581893451918396, 0.007807415634244928, 0.0058149998340073835]}, {\"name\": \"2011\", \"type\": \"bar\", \"x\": [\"01\", \"02\", \"03\", \"04\", \"05\", \"06\", \"07\", \"08\", \"09\", \"10\", \"11\", \"12\"], \"y\": [0.006778371827872559, 0.006326040206368111, 0.007769196646710955, 0.005556928157977399, 0.005169055711020082, 0.008119111028489981, 0.006894140432986666, 0.017868511593700617, 0.014333973767103998, 0.014211864770901883, 0.014751011690808561, 0.00853062848191452]}, {\"name\": \"2012\", \"type\": \"bar\", \"x\": [\"01\", \"02\", \"03\", \"04\", \"05\", \"06\", \"07\", \"08\", \"09\", \"10\", \"11\", \"12\"], \"y\": [0.005703954207492944, 0.00598842884715601, 0.0074456991310584714, 0.010369711507012018, 0.006742527422945841, 0.010439752855347366, 0.009761606512911124, 0.0040940367169290835, 0.007618116279179279, 0.006557741906729358, 0.007683079256456316, 0.00396130745785483]}, {\"name\": \"2013\", \"type\": \"bar\", \"x\": [\"01\", \"02\", \"03\", \"04\", \"05\", \"06\", \"07\", \"08\", \"09\", \"10\", \"11\", \"12\"], \"y\": [0.00656661171408756, 0.00803716203448794, 0.004913602779095821, 0.008043461271864425, 0.005415740002836821, 0.009706527112125624, 0.004100081816922299, 0.005515037119619979, 0.004251181215071641, 0.005980600056327163, 0.004043047881295939, 0.005700900030947622]}, {\"name\": \"2014\", \"type\": \"bar\", \"x\": [\"01\", \"02\", \"03\", \"04\", \"05\", \"06\", \"07\", \"08\", \"09\", \"10\", \"11\", \"12\"], \"y\": [0.0051586962595144, 0.006822135993408947, 0.00569289345113556, 0.005711565393544779, 0.0036844038307988613, 0.002860520466596291, 0.005733454436481303, 0.003992147821712269, 0.005042699227220836, 0.010354776742080412, 0.002919683531472517, 0.008317935639416131]}, {\"name\": \"2015\", \"type\": \"bar\", \"x\": [\"01\", \"02\", \"03\", \"04\", \"05\", \"06\", \"07\", \"08\", \"09\", \"10\", \"11\", \"12\"], \"y\": [0.007852798410783695, 0.006002204326291394, 0.008353059118380832, 0.005742472792503209, 0.004602341216678288, 0.006329717438170025, 0.00824869728146873, 0.012897481048458292, 0.013023117059099733, 0.006988743070090982, 0.006119904931460903, 0.009408436817602464]}, {\"name\": \"2016\", \"type\": \"bar\", \"x\": [\"01\", \"02\", \"03\", \"04\", \"05\", \"06\", \"07\", \"08\", \"09\", \"10\", \"11\", \"12\"], \"y\": [0.011749745384970678, 0.01083513025255787, 0.005033902161074707, 0.005257955791761378, 0.006458017202940651, 0.01035873461976396, 0.004085793872315324, 0.004400062514128602, 0.0070672318745639544, 0.00419338930916715, 0.007136022340947655, 0.00479492697427994]}, {\"name\": \"2017\", \"type\": \"bar\", \"x\": [\"01\", \"02\", \"03\", \"04\", \"05\", \"06\", \"07\", \"08\", \"09\", \"10\", \"11\", \"12\"], \"y\": [0.00419254147310515, 0.003414601680474803, 0.005313571415641385, 0.005538069462503444, 0.004856951246737014, 0.0058766902074486515, 0.004329954689039001, 0.005739789386240544, 0.006120427536349778, 0.0041085877205201335, 0.005839073118360168, 0.004882045911062676]}, {\"name\": \"2018\", \"type\": \"bar\", \"x\": [\"01\", \"02\", \"03\", \"04\", \"05\", \"06\", \"07\", \"08\", \"09\", \"10\", \"11\", \"12\"], \"y\": [0.005212440104950533, 0.018101304614760134, 0.01217351874278609, 0.008496350477543007, 0.005503938970345666, 0.00641339102426737, 0.006422040989784765, 0.004221714806613248, 0.00461719851119757, 0.014283578669650746, 0.010860168936555531, 0.014121813112706475]}, {\"name\": \"2019\", \"type\": \"bar\", \"x\": [\"01\", \"02\", \"03\", \"04\", \"05\", \"06\", \"07\", \"08\", \"09\", \"10\", \"11\", \"12\"], \"y\": [0.009140577133624652, 0.005574654490580427, 0.006987720222699461, 0.0032256596313846434, 0.008877618106737038, 0.007473124148175387, 0.004358173873465598, 0.011400062055593397, 0.006940164291389918, 0.007767983218059017, 0.004216259639820867, 0.004406321787322297]}, {\"name\": \"2020\", \"type\": \"bar\", \"x\": [\"01\", \"02\", \"03\", \"04\", \"05\", \"06\", \"07\", \"08\", \"09\", \"10\", \"11\", \"12\"], \"y\": [0.006584507512213381, 0.013492020825541236, 0.044611985539135326, 0.029876748422567687]}],\n",
       "                        {\"template\": {\"data\": {\"bar\": [{\"error_x\": {\"color\": \"#2a3f5f\"}, \"error_y\": {\"color\": \"#2a3f5f\"}, \"marker\": {\"line\": {\"color\": \"#E5ECF6\", \"width\": 0.5}}, \"type\": \"bar\"}], \"barpolar\": [{\"marker\": {\"line\": {\"color\": \"#E5ECF6\", \"width\": 0.5}}, \"type\": \"barpolar\"}], \"carpet\": [{\"aaxis\": {\"endlinecolor\": \"#2a3f5f\", \"gridcolor\": \"white\", \"linecolor\": \"white\", \"minorgridcolor\": \"white\", \"startlinecolor\": \"#2a3f5f\"}, \"baxis\": {\"endlinecolor\": \"#2a3f5f\", \"gridcolor\": \"white\", \"linecolor\": \"white\", \"minorgridcolor\": \"white\", \"startlinecolor\": \"#2a3f5f\"}, \"type\": \"carpet\"}], \"choropleth\": [{\"colorbar\": {\"outlinewidth\": 0, \"ticks\": \"\"}, \"type\": \"choropleth\"}], \"contour\": [{\"colorbar\": {\"outlinewidth\": 0, \"ticks\": \"\"}, \"colorscale\": [[0.0, \"#0d0887\"], [0.1111111111111111, \"#46039f\"], [0.2222222222222222, \"#7201a8\"], [0.3333333333333333, \"#9c179e\"], [0.4444444444444444, \"#bd3786\"], [0.5555555555555556, \"#d8576b\"], [0.6666666666666666, \"#ed7953\"], [0.7777777777777778, \"#fb9f3a\"], [0.8888888888888888, \"#fdca26\"], [1.0, \"#f0f921\"]], \"type\": \"contour\"}], \"contourcarpet\": [{\"colorbar\": {\"outlinewidth\": 0, \"ticks\": \"\"}, \"type\": \"contourcarpet\"}], \"heatmap\": [{\"colorbar\": {\"outlinewidth\": 0, \"ticks\": \"\"}, \"colorscale\": [[0.0, \"#0d0887\"], [0.1111111111111111, \"#46039f\"], [0.2222222222222222, \"#7201a8\"], [0.3333333333333333, \"#9c179e\"], [0.4444444444444444, \"#bd3786\"], [0.5555555555555556, \"#d8576b\"], [0.6666666666666666, \"#ed7953\"], [0.7777777777777778, \"#fb9f3a\"], [0.8888888888888888, \"#fdca26\"], [1.0, \"#f0f921\"]], \"type\": \"heatmap\"}], \"heatmapgl\": [{\"colorbar\": {\"outlinewidth\": 0, \"ticks\": \"\"}, \"colorscale\": [[0.0, \"#0d0887\"], [0.1111111111111111, \"#46039f\"], [0.2222222222222222, \"#7201a8\"], [0.3333333333333333, \"#9c179e\"], [0.4444444444444444, \"#bd3786\"], [0.5555555555555556, \"#d8576b\"], [0.6666666666666666, \"#ed7953\"], [0.7777777777777778, \"#fb9f3a\"], [0.8888888888888888, \"#fdca26\"], [1.0, \"#f0f921\"]], \"type\": \"heatmapgl\"}], \"histogram\": [{\"marker\": {\"colorbar\": {\"outlinewidth\": 0, \"ticks\": \"\"}}, \"type\": \"histogram\"}], \"histogram2d\": [{\"colorbar\": {\"outlinewidth\": 0, \"ticks\": \"\"}, \"colorscale\": [[0.0, \"#0d0887\"], [0.1111111111111111, \"#46039f\"], [0.2222222222222222, \"#7201a8\"], [0.3333333333333333, \"#9c179e\"], [0.4444444444444444, \"#bd3786\"], [0.5555555555555556, \"#d8576b\"], [0.6666666666666666, \"#ed7953\"], [0.7777777777777778, \"#fb9f3a\"], [0.8888888888888888, \"#fdca26\"], [1.0, \"#f0f921\"]], \"type\": \"histogram2d\"}], \"histogram2dcontour\": [{\"colorbar\": {\"outlinewidth\": 0, \"ticks\": \"\"}, \"colorscale\": [[0.0, \"#0d0887\"], [0.1111111111111111, \"#46039f\"], [0.2222222222222222, \"#7201a8\"], [0.3333333333333333, \"#9c179e\"], [0.4444444444444444, \"#bd3786\"], [0.5555555555555556, \"#d8576b\"], [0.6666666666666666, \"#ed7953\"], [0.7777777777777778, \"#fb9f3a\"], [0.8888888888888888, \"#fdca26\"], [1.0, \"#f0f921\"]], \"type\": \"histogram2dcontour\"}], \"mesh3d\": [{\"colorbar\": {\"outlinewidth\": 0, \"ticks\": \"\"}, \"type\": \"mesh3d\"}], \"parcoords\": [{\"line\": {\"colorbar\": {\"outlinewidth\": 0, \"ticks\": \"\"}}, \"type\": \"parcoords\"}], \"pie\": [{\"automargin\": true, \"type\": \"pie\"}], \"scatter\": [{\"marker\": {\"colorbar\": {\"outlinewidth\": 0, \"ticks\": \"\"}}, \"type\": \"scatter\"}], \"scatter3d\": [{\"line\": {\"colorbar\": {\"outlinewidth\": 0, \"ticks\": \"\"}}, \"marker\": {\"colorbar\": {\"outlinewidth\": 0, \"ticks\": \"\"}}, \"type\": \"scatter3d\"}], \"scattercarpet\": [{\"marker\": {\"colorbar\": {\"outlinewidth\": 0, \"ticks\": \"\"}}, \"type\": \"scattercarpet\"}], \"scattergeo\": [{\"marker\": {\"colorbar\": {\"outlinewidth\": 0, \"ticks\": \"\"}}, \"type\": \"scattergeo\"}], \"scattergl\": [{\"marker\": {\"colorbar\": {\"outlinewidth\": 0, \"ticks\": \"\"}}, \"type\": \"scattergl\"}], \"scattermapbox\": [{\"marker\": {\"colorbar\": {\"outlinewidth\": 0, \"ticks\": \"\"}}, \"type\": \"scattermapbox\"}], \"scatterpolar\": [{\"marker\": {\"colorbar\": {\"outlinewidth\": 0, \"ticks\": \"\"}}, \"type\": \"scatterpolar\"}], \"scatterpolargl\": [{\"marker\": {\"colorbar\": {\"outlinewidth\": 0, \"ticks\": \"\"}}, \"type\": \"scatterpolargl\"}], \"scatterternary\": [{\"marker\": {\"colorbar\": {\"outlinewidth\": 0, \"ticks\": \"\"}}, \"type\": \"scatterternary\"}], \"surface\": [{\"colorbar\": {\"outlinewidth\": 0, \"ticks\": \"\"}, \"colorscale\": [[0.0, \"#0d0887\"], [0.1111111111111111, \"#46039f\"], [0.2222222222222222, \"#7201a8\"], [0.3333333333333333, \"#9c179e\"], [0.4444444444444444, \"#bd3786\"], [0.5555555555555556, \"#d8576b\"], [0.6666666666666666, \"#ed7953\"], [0.7777777777777778, \"#fb9f3a\"], [0.8888888888888888, \"#fdca26\"], [1.0, \"#f0f921\"]], \"type\": \"surface\"}], \"table\": [{\"cells\": {\"fill\": {\"color\": \"#EBF0F8\"}, \"line\": {\"color\": \"white\"}}, \"header\": {\"fill\": {\"color\": \"#C8D4E3\"}, \"line\": {\"color\": \"white\"}}, \"type\": \"table\"}]}, \"layout\": {\"annotationdefaults\": {\"arrowcolor\": \"#2a3f5f\", \"arrowhead\": 0, \"arrowwidth\": 1}, \"coloraxis\": {\"colorbar\": {\"outlinewidth\": 0, \"ticks\": \"\"}}, \"colorscale\": {\"diverging\": [[0, \"#8e0152\"], [0.1, \"#c51b7d\"], [0.2, \"#de77ae\"], [0.3, \"#f1b6da\"], [0.4, \"#fde0ef\"], [0.5, \"#f7f7f7\"], [0.6, \"#e6f5d0\"], [0.7, \"#b8e186\"], [0.8, \"#7fbc41\"], [0.9, \"#4d9221\"], [1, \"#276419\"]], \"sequential\": [[0.0, \"#0d0887\"], [0.1111111111111111, \"#46039f\"], [0.2222222222222222, \"#7201a8\"], [0.3333333333333333, \"#9c179e\"], [0.4444444444444444, \"#bd3786\"], [0.5555555555555556, \"#d8576b\"], [0.6666666666666666, \"#ed7953\"], [0.7777777777777778, \"#fb9f3a\"], [0.8888888888888888, \"#fdca26\"], [1.0, \"#f0f921\"]], \"sequentialminus\": [[0.0, \"#0d0887\"], [0.1111111111111111, \"#46039f\"], [0.2222222222222222, \"#7201a8\"], [0.3333333333333333, \"#9c179e\"], [0.4444444444444444, \"#bd3786\"], [0.5555555555555556, \"#d8576b\"], [0.6666666666666666, \"#ed7953\"], [0.7777777777777778, \"#fb9f3a\"], [0.8888888888888888, \"#fdca26\"], [1.0, \"#f0f921\"]]}, \"colorway\": [\"#636efa\", \"#EF553B\", \"#00cc96\", \"#ab63fa\", \"#FFA15A\", \"#19d3f3\", \"#FF6692\", \"#B6E880\", \"#FF97FF\", \"#FECB52\"], \"font\": {\"color\": \"#2a3f5f\"}, \"geo\": {\"bgcolor\": \"white\", \"lakecolor\": \"white\", \"landcolor\": \"#E5ECF6\", \"showlakes\": true, \"showland\": true, \"subunitcolor\": \"white\"}, \"hoverlabel\": {\"align\": \"left\"}, \"hovermode\": \"closest\", \"mapbox\": {\"style\": \"light\"}, \"paper_bgcolor\": \"white\", \"plot_bgcolor\": \"#E5ECF6\", \"polar\": {\"angularaxis\": {\"gridcolor\": \"white\", \"linecolor\": \"white\", \"ticks\": \"\"}, \"bgcolor\": \"#E5ECF6\", \"radialaxis\": {\"gridcolor\": \"white\", \"linecolor\": \"white\", \"ticks\": \"\"}}, \"scene\": {\"xaxis\": {\"backgroundcolor\": \"#E5ECF6\", \"gridcolor\": \"white\", \"gridwidth\": 2, \"linecolor\": \"white\", \"showbackground\": true, \"ticks\": \"\", \"zerolinecolor\": \"white\"}, \"yaxis\": {\"backgroundcolor\": \"#E5ECF6\", \"gridcolor\": \"white\", \"gridwidth\": 2, \"linecolor\": \"white\", \"showbackground\": true, \"ticks\": \"\", \"zerolinecolor\": \"white\"}, \"zaxis\": {\"backgroundcolor\": \"#E5ECF6\", \"gridcolor\": \"white\", \"gridwidth\": 2, \"linecolor\": \"white\", \"showbackground\": true, \"ticks\": \"\", \"zerolinecolor\": \"white\"}}, \"shapedefaults\": {\"line\": {\"color\": \"#2a3f5f\"}}, \"ternary\": {\"aaxis\": {\"gridcolor\": \"white\", \"linecolor\": \"white\", \"ticks\": \"\"}, \"baxis\": {\"gridcolor\": \"white\", \"linecolor\": \"white\", \"ticks\": \"\"}, \"bgcolor\": \"#E5ECF6\", \"caxis\": {\"gridcolor\": \"white\", \"linecolor\": \"white\", \"ticks\": \"\"}}, \"title\": {\"x\": 0.05}, \"xaxis\": {\"automargin\": true, \"gridcolor\": \"white\", \"linecolor\": \"white\", \"ticks\": \"\", \"title\": {\"standoff\": 15}, \"zerolinecolor\": \"white\", \"zerolinewidth\": 2}, \"yaxis\": {\"automargin\": true, \"gridcolor\": \"white\", \"linecolor\": \"white\", \"ticks\": \"\", \"title\": {\"standoff\": 15}, \"zerolinecolor\": \"white\", \"zerolinewidth\": 2}}}, \"title\": {\"text\": \"Year Standard Deviation\"}, \"xaxis\": {\"title\": {\"text\": \"Month\"}}, \"yaxis\": {\"title\": {\"text\": \"Std\"}}},\n",
       "                        {\"responsive\": true}\n",
       "                    ).then(function(){\n",
       "                            \n",
       "var gd = document.getElementById('4416c6c7-8204-426b-9f69-39bb95fb0e3d');\n",
       "var x = new MutationObserver(function (mutations, observer) {{\n",
       "        var display = window.getComputedStyle(gd).display;\n",
       "        if (!display || display === 'none') {{\n",
       "            console.log([gd, 'removed!']);\n",
       "            Plotly.purge(gd);\n",
       "            observer.disconnect();\n",
       "        }}\n",
       "}});\n",
       "\n",
       "// Listen for the removal of the full notebook cells\n",
       "var notebookContainer = gd.closest('#notebook-container');\n",
       "if (notebookContainer) {{\n",
       "    x.observe(notebookContainer, {childList: true});\n",
       "}}\n",
       "\n",
       "// Listen for the clearing of the current output cell\n",
       "var outputEl = gd.closest('.output');\n",
       "if (outputEl) {{\n",
       "    x.observe(outputEl, {childList: true});\n",
       "}}\n",
       "\n",
       "                        })\n",
       "                };\n",
       "                });\n",
       "            </script>\n",
       "        </div>"
      ]
     },
     "metadata": {},
     "output_type": "display_data"
    }
   ],
   "source": [
    "yearStdBarChart(1997,2020)"
   ]
  },
  {
   "cell_type": "code",
   "execution_count": 179,
   "metadata": {},
   "outputs": [],
   "source": [
    "def yearStdBarChart(start, end):\n",
    "    '''Plot standard deviation bar chart between start year and end year'''\n",
    "    monthStr = [\"01\", \"02\", \"03\", \"04\", \"05\", \"06\", \"07\", \"08\", \"09\", \"10\", \"11\", \"12\"]\n",
    "    stdDataFrame = Data.groupby([\"Year\", \"Month\"]).std(ddof=0)\n",
    "    fig = go.Figure()\n",
    "    \n",
    "    for i in range (end - start + 1):\n",
    "        fig.add_trace(go.Bar(x = monthStr, y = stdDataFrame.loc[start + i][\"Return(1)\"].tolist(), name = str(start + i)))\n",
    "    fig.update_layout(title=\"Year Standard Deviation\", xaxis_title=\"Month\", yaxis_title=\"Std\")\n",
    "    fig.show()\n",
    "\n",
    "def percentDaysStrategDataFrame(percent, days):\n",
    "    '''Return regular buying point and additional buying point'''\n",
    "    regularDataFrame = Data.loc[Data[\"Day\"] == 6] # Regular Buying\n",
    "    additionalBuyingDataFrame = Data.loc[Data[\"Return(10)\"] <= -percent / 100] # Additional Buying\n",
    "    strategyDataFrame = pd.concat([regularDataFrame, additionalBuyingDataFrame], axis=0, ignore_index=True) # Concat\n",
    "    strategyDataFrame = strategyDataFrame.sort_values(by=['Year', \"Month\"]).drop_duplicates(subset = \"Date\", keep = \"last\").reset_index(drop=True) # Sort, Delete repeated, Index\n",
    "    \n",
    "    return strategyDataFrame\n",
    "\n",
    "def investPriceAvg(dataFrame):\n",
    "    '''Return price average dataframe'''\n",
    "    investPriceAvgDataFrame = pd.DataFrame(columns = [\"Date\", \"Year\", \"Month\", \"Day\", \"Price\"])\n",
    "    priceAvg = 0\n",
    "    for i in range(len(dataFrame[\"Price\"])):\n",
    "        priceAvg = (priceAvg * len(investPriceAvgDataFrame[\"Price\"]) + dataFrame[\"Price\"][i]) / (len(investPriceAvgDataFrame[\"Price\"]) + 1)\n",
    "        investPriceAvgDataFrame.loc[i] = [dataFrame[\"Date\"][i], dataFrame[\"Year\"][i], dataFrame[\"Month\"][i], dataFrame[\"Day\"][i], priceAvg]\n",
    "    return investPriceAvgDataFrame.sort_values(by=['Year', \"Month\", \"Day\"]).reset_index(drop=True)\n",
    "\n",
    "def investRoiDataFrame(dataFrame):\n",
    "    '''Return roi dataframe'''\n",
    "    roiDataFrame = pd.DataFrame(columns = [\"Date\", \"Price\"])\n",
    "    j = 0\n",
    "    priceAvg = math.inf\n",
    "    \n",
    "    for i in range (len(Data[\"Date\"])):\n",
    "        if (Data[\"Date\"][i] < dataFrame[\"Date\"][j]):\n",
    "            roi = (Data[\"Price\"][i] - priceAvg) / priceAvg\n",
    "            \n",
    "        elif (Data[\"Date\"][i] == dataFrame[\"Date\"][j]):\n",
    "            priceAvg = dataFrame[\"Price\"][j]\n",
    "            roi = (Data[\"Price\"][i] - priceAvg) / priceAvg\n",
    "            if (j < len(dataFrame[\"Price\"]) - 1):\n",
    "                j += 1\n",
    "            \n",
    "        else:\n",
    "            roi = (Data[\"Price\"][i] - priceAvg) / dataFrame[\"Price\"].tolist()[-1]\n",
    "            \n",
    "        roiDataFrame.loc[i] = [Data[\"Date\"][i], roi]\n",
    "    return roiDataFrame"
   ]
  },
  {
   "cell_type": "code",
   "execution_count": null,
   "metadata": {},
   "outputs": [],
   "source": []
  }
 ],
 "metadata": {
  "kernelspec": {
   "display_name": "Python 3.7.3 64-bit",
   "language": "python",
   "name": "python37364bit739cdca6e79043be8d1a8bcadc93c81e"
  },
  "language_info": {
   "codemirror_mode": {
    "name": "ipython",
    "version": 3
   },
   "file_extension": ".py",
   "mimetype": "text/x-python",
   "name": "python",
   "nbconvert_exporter": "python",
   "pygments_lexer": "ipython3",
   "version": "3.7.3"
  }
 },
 "nbformat": 4,
 "nbformat_minor": 2
}
