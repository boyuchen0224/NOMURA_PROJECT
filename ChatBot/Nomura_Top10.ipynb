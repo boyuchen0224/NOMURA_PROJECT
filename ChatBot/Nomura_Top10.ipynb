{
 "cells": [
  {
   "cell_type": "code",
   "execution_count": 1,
   "metadata": {},
   "outputs": [],
   "source": [
    "import pandas as pd\n",
    "import numpy as np"
   ]
  },
  {
   "cell_type": "code",
   "execution_count": 53,
   "metadata": {},
   "outputs": [],
   "source": [
    "f = open('野村基金推薦.csv')\n",
    "Top10 = pd.read_csv(f)\n",
    "# Top10['基金規模(2020/04/30)'] = Top10['基金規模(2020/04/30)'].astype('int')"
   ]
  },
  {
   "cell_type": "code",
   "execution_count": 54,
   "metadata": {},
   "outputs": [
    {
     "name": "stdout",
     "output_type": "stream",
     "text": [
      "<class 'pandas.core.frame.DataFrame'>\n",
      "RangeIndex: 10 entries, 0 to 9\n",
      "Data columns (total 35 columns):\n",
      "基金名稱                10 non-null object\n",
      "淨值(5/18、19)         10 non-null float64\n",
      "漲跌(%)               10 non-null float64\n",
      "漲跌                  10 non-null float64\n",
      "投資地區                10 non-null object\n",
      "基金組別                10 non-null object\n",
      "成立日期                10 non-null object\n",
      "1週績效(％)             10 non-null float64\n",
      "1月績效(％)             10 non-null float64\n",
      "3月績效(％)             10 non-null float64\n",
      "6月績效(％)             10 non-null float64\n",
      "1年績效(％)             10 non-null float64\n",
      "3年績效(％)             10 non-null float64\n",
      "5年績效(％)             10 non-null float64\n",
      "今年以來績效(％)           10 non-null float64\n",
      "基金規模(2020/04/30)    10 non-null int64\n",
      "境內境外                10 non-null object\n",
      "計價幣別                10 non-null object\n",
      "風險評等                10 non-null object\n",
      "管理費                 10 non-null object\n",
      "最高手續費               10 non-null object\n",
      "標準差(1年)             10 non-null object\n",
      "近1年夏普比率             10 non-null float64\n",
      "近3年夏普比率             10 non-null float64\n",
      "近5年夏普比率             10 non-null float64\n",
      "第一大持股產業             10 non-null object\n",
      "比例                  10 non-null object\n",
      "第二大持股產業             10 non-null object\n",
      "比例.1                10 non-null object\n",
      "第三大持股產業             10 non-null object\n",
      "比例.2                10 non-null object\n",
      "第四大持股產業             10 non-null object\n",
      "比例.3                10 non-null object\n",
      "第五大持股產業             10 non-null object\n",
      "比例.4                10 non-null object\n",
      "dtypes: float64(14), int64(1), object(20)\n",
      "memory usage: 2.8+ KB\n"
     ]
    }
   ],
   "source": [
    "Top10.info()"
   ]
  },
  {
   "cell_type": "code",
   "execution_count": 64,
   "metadata": {},
   "outputs": [
    {
     "data": {
      "text/html": [
       "<div>\n",
       "<style scoped>\n",
       "    .dataframe tbody tr th:only-of-type {\n",
       "        vertical-align: middle;\n",
       "    }\n",
       "\n",
       "    .dataframe tbody tr th {\n",
       "        vertical-align: top;\n",
       "    }\n",
       "\n",
       "    .dataframe thead th {\n",
       "        text-align: right;\n",
       "    }\n",
       "</style>\n",
       "<table border=\"1\" class=\"dataframe\">\n",
       "  <thead>\n",
       "    <tr style=\"text-align: right;\">\n",
       "      <th></th>\n",
       "      <th>基金名稱</th>\n",
       "      <th>淨值(5/18、19)</th>\n",
       "      <th>漲跌(%)</th>\n",
       "      <th>漲跌</th>\n",
       "      <th>投資地區</th>\n",
       "      <th>基金組別</th>\n",
       "      <th>成立日期</th>\n",
       "      <th>1週績效(％)</th>\n",
       "      <th>1月績效(％)</th>\n",
       "      <th>3月績效(％)</th>\n",
       "      <th>...</th>\n",
       "      <th>第一大持股產業</th>\n",
       "      <th>比例</th>\n",
       "      <th>第二大持股產業</th>\n",
       "      <th>比例.1</th>\n",
       "      <th>第三大持股產業</th>\n",
       "      <th>比例.2</th>\n",
       "      <th>第四大持股產業</th>\n",
       "      <th>比例.3</th>\n",
       "      <th>第五大持股產業</th>\n",
       "      <th>比例.4</th>\n",
       "    </tr>\n",
       "  </thead>\n",
       "  <tbody>\n",
       "    <tr>\n",
       "      <th>0</th>\n",
       "      <td>野村優質基金-累積類型新臺幣計價</td>\n",
       "      <td>43.62</td>\n",
       "      <td>1.82</td>\n",
       "      <td>0.78</td>\n",
       "      <td>台灣</td>\n",
       "      <td>台灣股票</td>\n",
       "      <td>1999/4/21</td>\n",
       "      <td>0.88</td>\n",
       "      <td>9.21</td>\n",
       "      <td>-3.15</td>\n",
       "      <td>...</td>\n",
       "      <td>科技</td>\n",
       "      <td>66.54%</td>\n",
       "      <td>周期性消費</td>\n",
       "      <td>18.79%</td>\n",
       "      <td>電訊服務</td>\n",
       "      <td>4.48%</td>\n",
       "      <td>工業</td>\n",
       "      <td>3.67%</td>\n",
       "      <td>健康護理</td>\n",
       "      <td>2.63%</td>\n",
       "    </tr>\n",
       "    <tr>\n",
       "      <th>1</th>\n",
       "      <td>野村積極成長基金</td>\n",
       "      <td>15.16</td>\n",
       "      <td>1.74</td>\n",
       "      <td>0.26</td>\n",
       "      <td>台灣</td>\n",
       "      <td>台灣股票</td>\n",
       "      <td>1994/1/12</td>\n",
       "      <td>0.33</td>\n",
       "      <td>8.75</td>\n",
       "      <td>-2.70</td>\n",
       "      <td>...</td>\n",
       "      <td>科技</td>\n",
       "      <td>66.62%</td>\n",
       "      <td>周期性消費</td>\n",
       "      <td>9.57%</td>\n",
       "      <td>工業</td>\n",
       "      <td>5.17%</td>\n",
       "      <td>電訊服務</td>\n",
       "      <td>4.90%</td>\n",
       "      <td>防守性消費</td>\n",
       "      <td>4.07%</td>\n",
       "    </tr>\n",
       "    <tr>\n",
       "      <th>2</th>\n",
       "      <td>野村成長基金</td>\n",
       "      <td>35.53</td>\n",
       "      <td>1.69</td>\n",
       "      <td>0.59</td>\n",
       "      <td>台灣</td>\n",
       "      <td>台灣股票</td>\n",
       "      <td>1999/11/16</td>\n",
       "      <td>0.25</td>\n",
       "      <td>8.46</td>\n",
       "      <td>-3.27</td>\n",
       "      <td>...</td>\n",
       "      <td>科技</td>\n",
       "      <td>65.64%</td>\n",
       "      <td>周期性消費</td>\n",
       "      <td>10.11%</td>\n",
       "      <td>工業</td>\n",
       "      <td>5.44%</td>\n",
       "      <td>電訊服務</td>\n",
       "      <td>4.81%</td>\n",
       "      <td>防守性消費</td>\n",
       "      <td>4.12%</td>\n",
       "    </tr>\n",
       "    <tr>\n",
       "      <th>3</th>\n",
       "      <td>野村中小基金-累積類型</td>\n",
       "      <td>52.91</td>\n",
       "      <td>1.22</td>\n",
       "      <td>0.64</td>\n",
       "      <td>台灣</td>\n",
       "      <td>台灣股票</td>\n",
       "      <td>2001/4/11</td>\n",
       "      <td>-0.60</td>\n",
       "      <td>4.83</td>\n",
       "      <td>-5.84</td>\n",
       "      <td>...</td>\n",
       "      <td>科技</td>\n",
       "      <td>58.86%</td>\n",
       "      <td>工業</td>\n",
       "      <td>9.94%</td>\n",
       "      <td>健康護理</td>\n",
       "      <td>4.19%</td>\n",
       "      <td>電訊服務</td>\n",
       "      <td>3.39%</td>\n",
       "      <td>房地產</td>\n",
       "      <td>2.44%</td>\n",
       "    </tr>\n",
       "    <tr>\n",
       "      <th>4</th>\n",
       "      <td>野村中國機會基金</td>\n",
       "      <td>16.13</td>\n",
       "      <td>-1.53</td>\n",
       "      <td>-0.25</td>\n",
       "      <td>中國/大中華</td>\n",
       "      <td>大中華股票</td>\n",
       "      <td>2009/4/22</td>\n",
       "      <td>-0.98</td>\n",
       "      <td>5.08</td>\n",
       "      <td>-8.46</td>\n",
       "      <td>...</td>\n",
       "      <td>科技</td>\n",
       "      <td>39.71%</td>\n",
       "      <td>周期性消費</td>\n",
       "      <td>15.11%</td>\n",
       "      <td>工業</td>\n",
       "      <td>13.19%</td>\n",
       "      <td>基本物料</td>\n",
       "      <td>6.88%</td>\n",
       "      <td>健康護理</td>\n",
       "      <td>6.45%</td>\n",
       "    </tr>\n",
       "  </tbody>\n",
       "</table>\n",
       "<p>5 rows × 35 columns</p>\n",
       "</div>"
      ],
      "text/plain": [
       "               基金名稱  淨值(5/18、19)  漲跌(%)    漲跌    投資地區   基金組別        成立日期  \\\n",
       "0  野村優質基金-累積類型新臺幣計價        43.62   1.82  0.78      台灣   台灣股票   1999/4/21   \n",
       "1          野村積極成長基金        15.16   1.74  0.26      台灣   台灣股票   1994/1/12   \n",
       "2            野村成長基金        35.53   1.69  0.59      台灣   台灣股票  1999/11/16   \n",
       "3       野村中小基金-累積類型        52.91   1.22  0.64      台灣   台灣股票   2001/4/11   \n",
       "4          野村中國機會基金        16.13  -1.53 -0.25  中國/大中華  大中華股票   2009/4/22   \n",
       "\n",
       "   1週績效(％)  1月績效(％)  3月績效(％)  ...    第一大持股產業      比例  第二大持股產業    比例.1  \\\n",
       "0     0.88     9.21    -3.15  ...         科技  66.54%    周期性消費  18.79%   \n",
       "1     0.33     8.75    -2.70  ...         科技  66.62%    周期性消費   9.57%   \n",
       "2     0.25     8.46    -3.27  ...         科技  65.64%    周期性消費  10.11%   \n",
       "3    -0.60     4.83    -5.84  ...         科技  58.86%       工業   9.94%   \n",
       "4    -0.98     5.08    -8.46  ...         科技  39.71%    周期性消費  15.11%   \n",
       "\n",
       "   第三大持股產業    比例.2 第四大持股產業   比例.3 第五大持股產業   比例.4  \n",
       "0     電訊服務   4.48%      工業  3.67%    健康護理  2.63%  \n",
       "1       工業   5.17%    電訊服務  4.90%   防守性消費  4.07%  \n",
       "2       工業   5.44%    電訊服務  4.81%   防守性消費  4.12%  \n",
       "3     健康護理   4.19%    電訊服務  3.39%     房地產  2.44%  \n",
       "4       工業  13.19%    基本物料  6.88%    健康護理  6.45%  \n",
       "\n",
       "[5 rows x 35 columns]"
      ]
     },
     "execution_count": 64,
     "metadata": {},
     "output_type": "execute_result"
    }
   ],
   "source": [
    "Top10.head()"
   ]
  },
  {
   "cell_type": "code",
   "execution_count": 72,
   "metadata": {},
   "outputs": [
    {
     "data": {
      "text/plain": [
       "Index(['基金名稱', '淨值(5/18、19)', '漲跌(%)', '漲跌', '投資地區', '基金組別', '成立日期', '1週績效(％)',\n",
       "       '1月績效(％)', '3月績效(％)', '6月績效(％)', '1年績效(％)', '3年績效(％)', '5年績效(％)',\n",
       "       '今年以來績效(％)', '基金規模(2020/04/30)', '境內境外', '計價幣別', '風險評等', '管理費', '最高手續費',\n",
       "       '標準差(1年)', '近1年夏普比率', '近3年夏普比率', '近5年夏普比率', '第一大持股產業', '比例', '第二大持股產業',\n",
       "       '比例.1', '第三大持股產業', '比例.2', '第四大持股產業', '比例.3', '第五大持股產業', '比例.4'],\n",
       "      dtype='object')"
      ]
     },
     "execution_count": 72,
     "metadata": {},
     "output_type": "execute_result"
    }
   ],
   "source": [
    "Top10.columns"
   ]
  },
  {
   "cell_type": "code",
   "execution_count": 65,
   "metadata": {},
   "outputs": [
    {
     "data": {
      "text/plain": [
       "0     33.7\n",
       "1      4.4\n",
       "2      5.8\n",
       "3     22.2\n",
       "4     11.9\n",
       "5     16.5\n",
       "6      5.2\n",
       "7    105.4\n",
       "8     11.2\n",
       "9      8.7\n",
       "Name: 基金規模(2020/04/30), dtype: float64"
      ]
     },
     "execution_count": 65,
     "metadata": {},
     "output_type": "execute_result"
    }
   ],
   "source": [
    "Top10['基金規模(2020/04/30)']"
   ]
  },
  {
   "cell_type": "code",
   "execution_count": 63,
   "metadata": {},
   "outputs": [],
   "source": [
    "Top10['基金規模(2020/04/30)'] = Top10['基金規模(2020/04/30)'].map(lambda x : round(x/100000000,1))"
   ]
  },
  {
   "cell_type": "code",
   "execution_count": 60,
   "metadata": {},
   "outputs": [
    {
     "data": {
      "text/plain": [
       "105.4"
      ]
     },
     "execution_count": 60,
     "metadata": {},
     "output_type": "execute_result"
    }
   ],
   "source": [
    "temp = Top10['基金規模(2020/04/30)'][7]\n",
    "round(temp/100000000,1)"
   ]
  },
  {
   "cell_type": "code",
   "execution_count": 38,
   "metadata": {},
   "outputs": [
    {
     "data": {
      "text/plain": [
       "'10,537,407,557'"
      ]
     },
     "execution_count": 38,
     "metadata": {},
     "output_type": "execute_result"
    }
   ],
   "source": [
    "Top10['基金規模(2020/04/30)'].iloc[7]"
   ]
  },
  {
   "cell_type": "markdown",
   "metadata": {},
   "source": [
    "---"
   ]
  },
  {
   "cell_type": "markdown",
   "metadata": {},
   "source": [
    "### 主要程式碼"
   ]
  },
  {
   "cell_type": "markdown",
   "metadata": {},
   "source": [
    "- 10個button，每個button點進去會列出下列資訊\n",
    "\n",
    "- 在列出資訊的後面加一個「我要申購」的button\n",
    "\n",
    "    👉🏻（連結野村官網：https://www.nomurafunds.com.tw/Web/Content/#/primary/fund/fund-list/introduction?groupId=741E7108-25A5-48A1-875A-E069E125EDF4）\n",
    "可以根據不同基金顯示它的資訊"
   ]
  },
  {
   "cell_type": "code",
   "execution_count": 26,
   "metadata": {},
   "outputs": [],
   "source": [
    "text = '野村優質基金-累積類型新臺幣計價'\n",
    "unique_index = pd.Index(Top10['基金名稱'])\n",
    "index = unique_index.get_loc(text)"
   ]
  },
  {
   "cell_type": "code",
   "execution_count": 76,
   "metadata": {},
   "outputs": [],
   "source": [
    "reply = '{}\\n'.format(text) + \\\n",
    "        '【績效】\\n' + \\\n",
    "        '▪ 近 1 月績效：{}\\n'.format(Top10['1月績效(％)'].iloc[index]) +\\\n",
    "        '▪ 近 3 月績效：{}\\n'.format(Top10['3月績效(％)'].iloc[index]) +\\\n",
    "        '▪ 近 1 年績效：{}\\n'.format(Top10['1年績效(％)'].iloc[index]) +\\\n",
    "        '▪ 成立日期：' + Top10['成立日期'].iloc[index] + '\\n' +\\\n",
    "        '▪ 基金規模：TWD' + str(Top10['基金規模(2020/04/30)'].iloc[index]) + '億 （2020/4/30）\\n' +\\\n",
    "        '▪ 管理費：{}\\n'.format(Top10['管理費'].iloc[index]) + \\\n",
    "        '▪ 最高手續費：{}\\n'.format(Top10['最高手續費'].iloc[index]) + \\\n",
    "        '【風險】\\n' + \\\n",
    "        '▫ 風險評等：{}\\n'.format(Top10['風險評等'].iloc[index]) + \\\n",
    "        '▫ 標準差（1年）：{}\\n'.format(Top10['標準差(1年)'].iloc[index]) + \\\n",
    "        '▫ 近 1 年夏普比率：{}\\n'.format(Top10['近1年夏普比率'].iloc[index]) + \\\n",
    "        '▫ 近 3 年夏普比率：{}\\n'.format(Top10['近3年夏普比率'].iloc[index]) + \\\n",
    "        '【前五大持股產業】\\n' + \\\n",
    "        '{}：{}\\n'.format(Top10['第一大持股產業'].iloc[index], Top10['比例'].iloc[index]) + \\\n",
    "        '{}：{}\\n'.format(Top10['第二大持股產業'].iloc[index], Top10['比例.1'].iloc[index]) + \\\n",
    "        '{}：{}\\n'.format(Top10['第三大持股產業'].iloc[index], Top10['比例.2'].iloc[index]) + \\\n",
    "        '{}：{}\\n'.format(Top10['第四大持股產業'].iloc[index], Top10['比例.3'].iloc[index]) + \\\n",
    "        '{}：{}\\n'.format(Top10['第五大持股產業'].iloc[index], Top10['比例.4'].iloc[index])"
   ]
  },
  {
   "cell_type": "code",
   "execution_count": 77,
   "metadata": {},
   "outputs": [
    {
     "data": {
      "text/plain": [
       "'野村優質基金-累積類型新臺幣計價\\n【績效】\\n▪ 近 1 月績效：9.21\\n▪ 近 3 月績效：-3.15\\n▪ 近 1 年績效：29.63\\n▪ 成立日期：1999/4/21\\n▪ 基金規模：TWD33.7億 （2020/4/30）\\n▪ 管理費：1.50%\\n▪ 最高手續費：3%\\n【風險】\\n▫ 風險評等：RR4\\n▫ 標準差（1年）：35.03%\\n▫ 近 1 年夏普比率：0.74\\n▫ 近 3 年夏普比率：0.47\\n【前五大持股產業】\\n科技：66.54%\\n周期性消費：18.79%\\n電訊服務：4.48%\\n工業：3.67%\\n健康護理：2.63%\\n'"
      ]
     },
     "execution_count": 77,
     "metadata": {},
     "output_type": "execute_result"
    }
   ],
   "source": [
    "reply"
   ]
  },
  {
   "cell_type": "code",
   "execution_count": null,
   "metadata": {},
   "outputs": [],
   "source": []
  }
 ],
 "metadata": {
  "kernelspec": {
   "display_name": "Python 3",
   "language": "python",
   "name": "python3"
  },
  "language_info": {
   "codemirror_mode": {
    "name": "ipython",
    "version": 3
   },
   "file_extension": ".py",
   "mimetype": "text/x-python",
   "name": "python",
   "nbconvert_exporter": "python",
   "pygments_lexer": "ipython3",
   "version": "3.7.1"
  }
 },
 "nbformat": 4,
 "nbformat_minor": 2
}
